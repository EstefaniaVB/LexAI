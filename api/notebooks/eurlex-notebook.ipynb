{
 "cells": [
  {
   "cell_type": "code",
   "execution_count": 2,
   "id": "9779ceb6-e907-4af0-8944-1ff43ef6c3c7",
   "metadata": {},
   "outputs": [],
   "source": [
    "%load_ext autoreload\n",
    "%autoreload 2\n",
    "\n",
    "\n",
    "import requests\n",
    "from bs4 import BeautifulSoup\n",
    "import unicodedata\n",
    "\n",
    "import meilisearch\n",
    "import json\n",
    "import re\n",
    "\n",
    "#from dbsearch import Search"
   ]
  },
  {
   "cell_type": "code",
   "execution_count": 7,
   "id": "6643b9c8-1f1d-4470-8587-3bbcddcaa303",
   "metadata": {},
   "outputs": [],
   "source": [
    "def search_page(query, page=1, language='en'):\n",
    "    url = \"https://eur-lex.europa.eu/search.html\"\n",
    "\n",
    "    params = {\n",
    "        \"scope\": \"EURLEX\",\n",
    "        \"text\": query,\n",
    "        \"lang\": language,\n",
    "        \"type\": \"quick\",\n",
    "        \"DTS_DOM\": \"EU_LAW\",\n",
    "        \"sortOne\": \"DD\",\n",
    "        \"sortOneOrder\": \"desc\",\n",
    "        \"page\": page\n",
    "    }\n",
    "\n",
    "    html = requests.get(url, params=params).content\n",
    "    soup = BeautifulSoup(html, 'html.parser')\n",
    "    \n",
    "    page_results = soup.find_all('div', class_='SearchResult')\n",
    "    final_results = []\n",
    "    \n",
    "    for result in page_results:\n",
    "        entry = {}\n",
    "        \n",
    "        celex = result.find_all('div', class_='col-sm-6')[0].find('dd')\n",
    "        celex = result.find('p').text if celex is None else celex.text\n",
    "        celex = re.sub(r'[^a-zA-Z0-9]', '', celex)\n",
    "        \n",
    "        title = result.find('a', class_='title')\n",
    "        col2 = result.find_all('div', class_='col-sm-6')[1].find_all('dd')\n",
    "        date = list(filter(lambda v: re.match(\"\\d{2}/\\d{2}/\\d{4}\", v.text), col2))[0]\n",
    "        \n",
    "        entry['id'] = unicodedata.normalize('NFKD', celex)\n",
    "        entry['title'] = unicodedata.normalize('NFKD', title.text)\n",
    "        entry['author'] = unicodedata.normalize('NFKD', col2[0].text)\n",
    "        entry['date'] = unicodedata.normalize('NFKD', date.text[:10])\n",
    "        entry['link'] = unicodedata.normalize('NFKD', title['name'])\n",
    "        final_results.append(entry)\n",
    "    return final_results"
   ]
  },
  {
   "cell_type": "code",
   "execution_count": 8,
   "id": "3e591608-c9ed-42d7-ab03-2c4541631371",
   "metadata": {},
   "outputs": [],
   "source": [
    "def search_many(query, pages=10):\n",
    "    results = []\n",
    "    for page in range(1, pages+1):\n",
    "        results.extend(search_page(query, page))\n",
    "    return results"
   ]
  },
  {
   "cell_type": "code",
   "execution_count": 9,
   "id": "2a60c5e1-a500-4214-bb4b-94ea184f8815",
   "metadata": {},
   "outputs": [],
   "source": [
    "results = search_many('agriculture', 3)"
   ]
  },
  {
   "cell_type": "code",
   "execution_count": 5,
   "id": "a6591d94-ccd0-4d02-940f-c544fe6d3cbe",
   "metadata": {},
   "outputs": [],
   "source": [
    "client = meilisearch.Client('http://127.0.0.1:7700')"
   ]
  },
  {
   "cell_type": "code",
   "execution_count": 11,
   "id": "33b946a7-0218-482e-8b9b-78166b435fb5",
   "metadata": {
    "scrolled": true,
    "tags": []
   },
   "outputs": [
    {
     "data": {
      "text/plain": [
       "31"
      ]
     },
     "execution_count": 11,
     "metadata": {},
     "output_type": "execute_result"
    }
   ],
   "source": [
    "client.index('eurlex').add_documents(results)['updateId']"
   ]
  },
  {
   "cell_type": "code",
   "execution_count": 225,
   "id": "d8d36510-c23f-4b56-b65e-a68f8a6d9ce3",
   "metadata": {},
   "outputs": [
    {
     "data": {
      "text/plain": [
       "[{'id': '02013R057520230628',\n",
       "  'title': 'Consolidated text: Regulation (EU) No 575/2013 of the European Parliament and of the Council of 26 June 2013 on prudential requirements for credit institutions and amending Regulation (EU) No 648/2012 (Text with EEA relevance)Text with EEA relevance',\n",
       "  'author': 'Not available',\n",
       "  'date': '28/06/2023',\n",
       "  'link': 'https://eur-lex.europa.eu/legal-content/AUTO/?uri=CELEX:02013R0575-20230628'},\n",
       " {'id': '02009L013820210630',\n",
       "  'title': 'Consolidated text: Directive 2009/138/EC of the European Parliament and of the Council of 25 November 2009 on the taking-up and pursuit of the business of Insurance and Reinsurance (Solvency II) (recast) (Text with EEA relevance)Text with EEA relevance',\n",
       "  'author': 'Not available',\n",
       "  'date': '30/06/2021',\n",
       "  'link': 'https://eur-lex.europa.eu/legal-content/AUTO/?uri=CELEX:02009L0138-20210630'}]"
      ]
     },
     "execution_count": 225,
     "metadata": {},
     "output_type": "execute_result"
    }
   ],
   "source": [
    "client.index('eurlex').get_documents({'limit':2})"
   ]
  },
  {
   "cell_type": "code",
   "execution_count": 221,
   "id": "a793a864-2209-48c5-af33-1ffc3a128afa",
   "metadata": {},
   "outputs": [
    {
     "data": {
      "text/plain": [
       "[{'status': 'processed',\n",
       "  'updateId': 0,\n",
       "  'type': {'name': 'DocumentsAddition', 'number': 300},\n",
       "  'duration': 0.17600354,\n",
       "  'enqueuedAt': '2021-06-01T09:52:10.435180921Z',\n",
       "  'processedAt': '2021-06-01T09:52:10.616635283Z'}]"
      ]
     },
     "execution_count": 221,
     "metadata": {},
     "output_type": "execute_result"
    }
   ],
   "source": [
    "client.index('eurlex').get_all_update_status()"
   ]
  },
  {
   "cell_type": "code",
   "execution_count": 226,
   "id": "6399b974-9a3e-4fe4-b92b-978e8f66fa02",
   "metadata": {
    "scrolled": true,
    "tags": []
   },
   "outputs": [
    {
     "data": {
      "text/plain": [
       "{'hits': [{'id': '32021D0762',\n",
       "   'title': 'Commission Implementing Decision (EU) 2021/762 of 6 May 2021 concerning the extension of the action taken by the Irish Department of Agriculture, Food and the Marine permitting the making available on the market and use of biocidal products containing propan-2-ol for use as human hygiene products in accordance with Article 55(1) of Regulation (EU) No 528/2012 of the European Parliament and of the Council (notified under document C(2021) 3127) (Only the English text is authentic)',\n",
       "   'author': 'European Commission, Directorate-General for Health and Food Safety',\n",
       "   'date': '06/05/2021',\n",
       "   'link': 'https://eur-lex.europa.eu/legal-content/AUTO/?uri=CELEX:32021D0762'},\n",
       "  {'id': '32021D0735',\n",
       "   'title': 'Commission Implementing Decision (EU) 2021/735 of 4 May 2021 concerning the extension of the action taken by the Irish Department of Agriculture, Food and the Marine permitting the making available on the market and use of the biocidal product Biobor JF in accordance with Article 55(1) of Regulation (EU) No 528/2012 of the European Parliament and of the Council (notified under document C(2021) 3026) (Only the English text is authentic)',\n",
       "   'author': 'European Commission, Directorate-General for Health and Food Safety',\n",
       "   'date': '04/05/2021',\n",
       "   'link': 'https://eur-lex.europa.eu/legal-content/AUTO/?uri=CELEX:32021D0735'},\n",
       "  {'id': '62019CJ0815',\n",
       "   'title': 'Judgment of the Court (Third Chamber) of 29 April 2021.Natumi GmbH v Land Nordrhein-Westfalen.Request for a preliminary ruling from the Bundesverwaltungsgericht.Reference for a preliminary ruling – Agriculture and fisheries – Organic production and labelling of organic products – Regulation (EC) No 834/2007 – Article 19(2) – Articles 21 and 23 – Regulation (EC) No 889/2008 – Article 27(1) – Article 28 – Annex IX, point 1.3 – Processing of organic food – Non-organic ingredients of agricultural origin – Lithothamnium calcareum alga – Powder obtained by cleaning, grinding and drying the sediment of that alga – Classification – Use in organic foodstuffs for the purpose of calcium enrichment – Authorisation – Conditions.Case C-815/19.',\n",
       "   'author': 'Court of Justice',\n",
       "   'date': '29/04/2021',\n",
       "   'link': 'https://eur-lex.europa.eu/legal-content/AUTO/?uri=CELEX:62019CJ0815'},\n",
       "  {'id': '62019CJ0736',\n",
       "   'title': 'Judgment of the Court (Sixth Chamber) of 15 April 2021.ZS “Plaukti”.Request for a preliminary ruling from the Augstākā tiesa (Senāts).Reference for a preliminary ruling – Agriculture – European agricultural fund for rural development (EAFRD) – Regulation (EC) No 1698/2005 – Regulation (EU) No 65/2011 – Third subparagraph of Article 16(5) – Regulation (EC) No 73/2009 – Articles 4 and 6 – Regulation (EC) No 1122/2009 – Support for rural development – Agri-environmental payments – Aid for the maintenance of grassland biodiversity – Non-compliance with the conditions for granting those payments – Early mowing – Reduction and exclusion of those payments – Mandatory standards – Statutory management requirements – Minimum requirements for good agricultural and environmental conditions – Commitments that exceed mandatory standards, minimum requirements and other appropriate mandatory requirements established by national legislation.Case C-736/19.',\n",
       "   'author': 'Court of Justice',\n",
       "   'date': '15/04/2021',\n",
       "   'link': 'https://eur-lex.europa.eu/legal-content/AUTO/?uri=CELEX:62019CJ0736'},\n",
       "  {'id': '62019CJ0128',\n",
       "   'title': 'Judgment of the Court (Fourth Chamber) of 20 May 2021.Azienda Sanitaria Provinciale di Catania v Assessorato della Salute della Regione Siciliana.Request for a preliminary ruling from the Corte suprema di cassazione.Reference for a preliminary ruling – State aid – Agriculture sector – Slaughtering of animals affected by infectious diseases – Compensation for farmers – Notification and standstill requirements – Article 108(3) TFEU – Concepts of ‘existing aid’ and ‘new aid’ – Regulation (EC) No 659/1999 – Exemptions by categories of aid – Regulation (EU) No 702/2014 – De minimis aid – Regulation (EU) No 1408/2013.Case C-128/19.',\n",
       "   'author': 'Court of Justice',\n",
       "   'date': '20/05/2021',\n",
       "   'link': 'https://eur-lex.europa.eu/legal-content/AUTO/?uri=CELEX:62019CJ0128'},\n",
       "  {'id': '62019CJ0294',\n",
       "   'title': 'Judgment of the Court (Sixth Chamber) of 29 April 2021.Agenţia de Plăţi şi Intervenţie pentru Agricultură - Centrul Judeţean Tulcea and Ira Invest SRL v SC Piscicola Tulcea SA and Agenţia de Plăţi şi Intervenţie pentru Agricultură - Centrul Judeţean Tulcea.Requests for a preliminary ruling from the Curtea de Apel Constanţa.References for a preliminary ruling – Agriculture – Common agricultural policy (CAP) – Direct support schemes – Eligible hectare – Aquaculture facility – Land use – Actual use for agricultural purposes – Use complying with the entries in the land register.Joined Cases C-294/19 and C-304/19.',\n",
       "   'author': 'Court of Justice',\n",
       "   'date': '29/04/2021',\n",
       "   'link': 'https://eur-lex.europa.eu/legal-content/AUTO/?uri=CELEX:62019CJ0294'},\n",
       "  {'id': 'ST91072021INIT',\n",
       "   'title': \"Voting result Regulation of the European Parliament and of the Council establishing the Neighbourhood, Development and International Cooperation Instrument – Global Europe, amending and repealing Decision No 466/2014/EU of the European Parliament and of the Council and repealing Regulation (EU) 2017/1601 of the European Parliament and of the Council and Council Regulation (EC, Euratom) No 480/2009 Adoption of the Council's position at first reading and of the statement of the Council's reasons 3796th meeting of the COUNCIL OF THE EUROPEAN UNION (Agriculture and Fisheries) 26-27 May 2021, Brussels\",\n",
       "   'author': 'Council of the European Union',\n",
       "   'date': '26/05/2021',\n",
       "   'link': 'https://eur-lex.europa.eu/legal-content/AUTO/?uri=CONSIL:ST_9107_2021_INIT'},\n",
       "  {'id': '52021XC053102',\n",
       "   'title': 'Publication of an application pursuant to Article 17(6) of Regulation (EC) No 110/2008 of the European Parliament and of the Council on the definition, description, presentation, labelling and the protection of geographical indications of spirit drinks and repealing Council Regulation (EEC) No 1576/89 2021/C 205/09',\n",
       "   'author': 'European Commission, Directorate-General for Agriculture and Rural Development',\n",
       "   'date': '31/05/2021',\n",
       "   'link': 'https://eur-lex.europa.eu/legal-content/AUTO/?uri=CELEX:52021XC0531(02)'},\n",
       "  {'id': '32021R0865',\n",
       "   'title': 'Commission Implementing Regulation (EU) 2021/865 of 28 May 2021 entering a name in the register of protected designations of origin and protected geographical indications (‘Rooibos’/‘Red Bush’ (PDO))',\n",
       "   'author': 'European Commission, Directorate-General for Agriculture and Rural Development',\n",
       "   'date': '28/05/2021',\n",
       "   'link': 'https://eur-lex.europa.eu/legal-content/AUTO/?uri=CELEX:32021R0865'},\n",
       "  {'id': '32021D0873',\n",
       "   'title': 'Commission Implementing Decision (EU) 2021/873 of 28 May 2021 on the clearance of the accounts of the paying agencies of Member States concerning expenditure financed by the European Agricultural Fund for Rural Development (EAFRD) for financial year 2020 (notified under document C(2021) 3690)',\n",
       "   'author': 'European Commission, Directorate-General for Agriculture and Rural Development',\n",
       "   'date': '28/05/2021',\n",
       "   'link': 'https://eur-lex.europa.eu/legal-content/AUTO/?uri=CELEX:32021D0873'},\n",
       "  {'id': '32021D0872',\n",
       "   'title': 'Commission Implementing Decision (EU) 2021/872 of 28 May 2021 on the clearance of the accounts of the paying agencies of the United Kingdom concerning expenditure financed by the European Agricultural Fund for Rural Development (EAFRD) for financial year 2020 (notified under document C(2021) 3686) (Only the English text is authentic)',\n",
       "   'author': 'European Commission, Directorate-General for Agriculture and Rural Development',\n",
       "   'date': '28/05/2021',\n",
       "   'link': 'https://eur-lex.europa.eu/legal-content/AUTO/?uri=CELEX:32021D0872'},\n",
       "  {'id': '32021D0871',\n",
       "   'title': 'Commission Implementing Decision (EU) 2021/871 of 28 May 2021 on the clearance of the accounts of the paying agencies of the United Kingdom concerning expenditure financed by the European Agricultural Guarantee Fund (EAGF) for financial year 2020 and on the reimbursement of appropriations related to financial discipline, carried over from financial year 2020 (notified under document C(2021) 3685) (Only the English text is authentic)',\n",
       "   'author': 'European Commission, Directorate-General for Agriculture and Rural Development',\n",
       "   'date': '28/05/2021',\n",
       "   'link': 'https://eur-lex.europa.eu/legal-content/AUTO/?uri=CELEX:32021D0871'},\n",
       "  {'id': '32021D0870',\n",
       "   'title': 'Commission Implementing Decision (EU) 2021/870 of 28 May 2021 on the clearance of the accounts of the paying agencies of Member States concerning expenditure financed by the European Agricultural Guarantee Fund (EAGF) for financial year 2020 (notified under document C(2021) 3684)',\n",
       "   'author': 'European Commission, Directorate-General for Agriculture and Rural Development',\n",
       "   'date': '28/05/2021',\n",
       "   'link': 'https://eur-lex.europa.eu/legal-content/AUTO/?uri=CELEX:32021D0870'},\n",
       "  {'id': 'C20213584final',\n",
       "   'title': 'COMMISSION DELEGATED REGULATION (EU) .../... amending Regulation (EU) 2019/787 of the European Parliament and of the Council as regards allusions to legal names of spirit drinks or geographical indications for spirit drinks in the description, presentation and labelling of other spirit drinks',\n",
       "   'author': 'European Commission, Directorate-General for Agriculture and Rural Development',\n",
       "   'date': '27/05/2021',\n",
       "   'link': 'https://eur-lex.europa.eu/legal-content/AUTO/?uri=PI_COM:C(2021)3584'},\n",
       "  {'id': 'C20213586final',\n",
       "   'title': 'COMMISSION DELEGATED REGULATION (EU) .../... amending Regulation (EU) 2019/787 of the European Parliament and of the Council as regards the labelling of spirit drinks resulting from the combination of a spirit drink with one or more foodstuffs',\n",
       "   'author': 'European Commission, Directorate-General for Agriculture and Rural Development',\n",
       "   'date': '27/05/2021',\n",
       "   'link': 'https://eur-lex.europa.eu/legal-content/AUTO/?uri=PI_COM:C(2021)3586'},\n",
       "  {'id': 'C20213572final',\n",
       "   'title': 'COMMISSION DELEGATED REGULATION (EU) .../... supplementing Regulation (EU) 2018/848 of the European Parliament and of the Council with rules on the information to be sent by third countries and by control authorities and control bodies for the purpose of supervision of their recognition under Article 33(2) and (3) of Council Regulation (EC) No 834/2007 for imported organic products and the measures to be taken in the exercise of that supervision',\n",
       "   'author': 'European Commission, Directorate-General for Agriculture and Rural Development',\n",
       "   'date': '27/05/2021',\n",
       "   'link': 'https://eur-lex.europa.eu/legal-content/AUTO/?uri=PI_COM:C(2021)3572'},\n",
       "  {'id': '32021R0851',\n",
       "   'title': 'Commission Implementing Regulation (EU) 2021/851 of 26 May 2021 amending Regulation (EC) No 1484/95 as regards fixing representative prices in the poultrymeat and egg sectors and for egg albumin',\n",
       "   'author': 'European Commission, Directorate-General for Agriculture and Rural Development',\n",
       "   'date': '26/05/2021',\n",
       "   'link': 'https://eur-lex.europa.eu/legal-content/AUTO/?uri=CELEX:32021R0851'},\n",
       "  {'id': '52021PC0257',\n",
       "   'title': 'Proposal for a COUNCIL DECISION on the position to be taken on behalf of the European Union in the International Organisation for Vine and Wine (OIV)',\n",
       "   'author': 'European Commission, Directorate-General for Agriculture and Rural Development',\n",
       "   'date': '26/05/2021',\n",
       "   'link': 'https://eur-lex.europa.eu/legal-content/AUTO/?uri=CELEX:52021PC0257'},\n",
       "  {'id': '52021PC0259',\n",
       "   'title': 'Recommendation for a COUNCIL DECISION authorising the opening of negotiations on agreements on trade in organic products between the European Union and Argentina, Australia, Canada, Costa Rica, India, Israel, Japan, New Zealand, the Republic of Korea, Tunisia and the United States of America',\n",
       "   'author': 'European Commission, Directorate-General for Agriculture and Rural Development',\n",
       "   'date': '26/05/2021',\n",
       "   'link': 'https://eur-lex.europa.eu/legal-content/AUTO/?uri=CELEX:52021PC0259'},\n",
       "  {'id': '32021R0875',\n",
       "   'title': 'Commission Implementing Regulation (EU) 2021/875 of 25 May 2021 entering a name in the register of protected designations of origin and protected geographical indications (‘Sõir’ (PGI))',\n",
       "   'author': 'European Commission, Directorate-General for Agriculture and Rural Development',\n",
       "   'date': '25/05/2021',\n",
       "   'link': 'https://eur-lex.europa.eu/legal-content/AUTO/?uri=CELEX:32021R0875'}],\n",
       " 'offset': 0,\n",
       " 'limit': 20,\n",
       " 'nbHits': 85,\n",
       " 'exhaustiveNbHits': False,\n",
       " 'processingTimeMs': 1,\n",
       " 'query': 'agriculture'}"
      ]
     },
     "execution_count": 226,
     "metadata": {},
     "output_type": "execute_result"
    }
   ],
   "source": [
    "client.index('eurlex').search('agriculture')"
   ]
  },
  {
   "cell_type": "code",
   "execution_count": 16,
   "id": "b4052fe3-b172-435f-9712-29ff505bab3e",
   "metadata": {},
   "outputs": [
    {
     "data": {
      "text/plain": [
       "{'status': 'processed',\n",
       " 'updateId': 29,\n",
       " 'type': {'name': 'DocumentsAddition', 'number': 600},\n",
       " 'duration': 0.243901762,\n",
       " 'enqueuedAt': '2021-06-01T14:43:22.243999788Z',\n",
       " 'processedAt': '2021-06-01T14:43:22.501143171Z'}"
      ]
     },
     "execution_count": 16,
     "metadata": {},
     "output_type": "execute_result"
    }
   ],
   "source": [
    "client.index('eurlex').get_update_status(29)"
   ]
  },
  {
   "cell_type": "code",
   "execution_count": 3,
   "id": "9fbf53d5-21e2-4fd4-bc9d-fd4f8457dc05",
   "metadata": {},
   "outputs": [],
   "source": [
    "search = Search()"
   ]
  },
  {
   "cell_type": "code",
   "execution_count": 24,
   "id": "5d651496-98d0-4b17-8d1f-cc9065decdf2",
   "metadata": {},
   "outputs": [
    {
     "name": "stdout",
     "output_type": "stream",
     "text": [
      "Searching 5 pages for waste in eurlex. \n",
      "Stopping at page 0. No more results found.\n",
      "Found 0 results. Added 0 new entries to eurlex index \n",
      "\n",
      "Total: 0 new entries added to eurlex index\n",
      "\n",
      "Searching 5 pages for waste in consultations. \n",
      "Stopping at page 1. No more results found.\n",
      "Found 38 results. Added 0 new entries to consultations index \n",
      "\n",
      "Total: 0 new entries added to consultations index\n",
      "\n"
     ]
    }
   ],
   "source": [
    "search.build_ms_many(['waste'], 5)"
   ]
  }
 ],
 "metadata": {
  "kernelspec": {
   "display_name": "Python 3",
   "language": "python",
   "name": "python3"
  },
  "language_info": {
   "codemirror_mode": {
    "name": "ipython",
    "version": 3
   },
   "file_extension": ".py",
   "mimetype": "text/x-python",
   "name": "python",
   "nbconvert_exporter": "python",
   "pygments_lexer": "ipython3",
   "version": "3.8.6"
  }
 },
 "nbformat": 4,
 "nbformat_minor": 5
}

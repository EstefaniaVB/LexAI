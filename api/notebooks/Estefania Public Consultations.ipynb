{
 "cells": [
  {
   "cell_type": "code",
   "execution_count": 48,
   "id": "d8c846ed",
   "metadata": {},
   "outputs": [],
   "source": [
    "import sys\n",
    "from os import path\n",
    "import csv\n",
    "import requests\n",
    "from bs4 import BeautifulSoup"
   ]
  },
  {
   "cell_type": "code",
   "execution_count": 392,
   "id": "e2da633f",
   "metadata": {},
   "outputs": [],
   "source": [
    "PAGES_TO_SCRAPE=2"
   ]
  },
  {
   "cell_type": "code",
   "execution_count": 421,
   "id": "5470e247",
   "metadata": {},
   "outputs": [],
   "source": [
    "\n",
    "query = \"technology\"\n",
    "url = \"https://ec.europa.eu/info/law/better-regulation/brpapi/searchInitiatives\"\n",
    "page=0\n",
    "size=5\n",
    "language=\"EN\"\n",
    "\n",
    "\n",
    "def get_consultations(query,page,size,language,url):\n",
    "    response = requests.get(url, \n",
    "        params={'text': query, 'page': page,'size':size,'language':language}\n",
    "        ).json()\n",
    "    content= response[\"_embedded\"]\n",
    "    return content\n",
    "\n",
    "def get_selected_info(content):\n",
    "    consultations = []\n",
    "    for n in range(size):    \n",
    "        cons_id = content[\"initiativeResultDtoes\"][n][\"id\"]\n",
    "        title= content[\"initiativeResultDtoes\"][n][\"shortTitle\"]\n",
    "        type_of_act = content[\"initiativeResultDtoes\"][n][\"foreseenActType\"]\n",
    "        topics = content[\"initiativeResultDtoes\"][n][\"topics\"][0][\"label\"]\n",
    "        status = content[\"initiativeResultDtoes\"][n][\"currentStatuses\"][0][\"receivingFeedbackStatus\"]\n",
    "        start_date = content[\"initiativeResultDtoes\"][n][\"currentStatuses\"][0][\"feedbackStartDate\"]\n",
    "        end_date = content[\"initiativeResultDtoes\"][n][\"currentStatuses\"][0][\"feedbackEndDate\"]\n",
    "        title_link= title.replace(\" \",\"-\")\n",
    "        link= f\"https://ec.europa.eu/info/law/better-regulation/have-your-say/initiatives/{cons_id}-{title_link}_en\"\n",
    "        consultations.append({'cons_id': cons_id, 'title': title,'topics': type_of_act,\"type_of_act\":type_of_act,\"topics\": topics, \"status\":status, \"start_date\":start_date,\"end_date\":end_date,\"link\":link})\n",
    "    return consultations"
   ]
  },
  {
   "cell_type": "code",
   "execution_count": 422,
   "id": "0944efad",
   "metadata": {},
   "outputs": [],
   "source": [
    "c= get_consultations(query,page,size,language,url)"
   ]
  },
  {
   "cell_type": "code",
   "execution_count": 423,
   "id": "6d72992e",
   "metadata": {},
   "outputs": [
    {
     "data": {
      "text/plain": [
       "[{'cons_id': 12527,\n",
       "  'title': 'Requirements for Artificial Intelligence',\n",
       "  'topics': 'Digital economy and society',\n",
       "  'type_of_act': 'PROP_REG',\n",
       "  'status': 'OPEN',\n",
       "  'start_date': '2021/04/26 18:38:12',\n",
       "  'end_date': '2021/08/06 23:59:59',\n",
       "  'link': 'https://ec.europa.eu/info/law/better-regulation/have-your-say/initiatives/12527-Requirements-for-Artificial-Intelligence_en'},\n",
       " {'cons_id': 12685,\n",
       "  'title': 'Digitalisation of cross-border judicial cooperation',\n",
       "  'topics': 'Justice and fundamental rights',\n",
       "  'type_of_act': 'PROP_REG',\n",
       "  'status': 'UPCOMING',\n",
       "  'start_date': None,\n",
       "  'end_date': None,\n",
       "  'link': 'https://ec.europa.eu/info/law/better-regulation/have-your-say/initiatives/12685-Digitalisation-of-cross-border-judicial-cooperation_en'},\n",
       " {'cons_id': 12497,\n",
       "  'title': 'Revision of EU rules on food contact materials',\n",
       "  'topics': 'Food safety',\n",
       "  'type_of_act': 'PROP_REG',\n",
       "  'status': 'UPCOMING',\n",
       "  'start_date': None,\n",
       "  'end_date': None,\n",
       "  'link': 'https://ec.europa.eu/info/law/better-regulation/have-your-say/initiatives/12497-Revision-of-EU-rules-on-food-contact-materials_en'},\n",
       " {'cons_id': 12251,\n",
       "  'title': 'Revision of Alternative Fuels Infrastructure Directive',\n",
       "  'topics': 'Transport',\n",
       "  'type_of_act': 'PROP_DIR',\n",
       "  'status': 'CLOSED',\n",
       "  'start_date': '2020/04/06 11:10:30',\n",
       "  'end_date': '2020/06/29 23:59:59',\n",
       "  'link': 'https://ec.europa.eu/info/law/better-regulation/have-your-say/initiatives/12251-Revision-of-Alternative-Fuels-Infrastructure-Directive_en'},\n",
       " {'cons_id': 12654,\n",
       "  'title': \"Evaluation of the 'New Legislative Framework' for EU legislation on industrial products\",\n",
       "  'topics': 'Single market',\n",
       "  'type_of_act': None,\n",
       "  'status': 'UPCOMING',\n",
       "  'start_date': None,\n",
       "  'end_date': None,\n",
       "  'link': \"https://ec.europa.eu/info/law/better-regulation/have-your-say/initiatives/12654-Evaluation-of-the-'New-Legislative-Framework'-for-EU-legislation-on-industrial-products_en\"}]"
      ]
     },
     "execution_count": 423,
     "metadata": {},
     "output_type": "execute_result"
    }
   ],
   "source": [
    "get_selected_info(c)"
   ]
  },
  {
   "cell_type": "code",
   "execution_count": 424,
   "id": "bacf9ad0",
   "metadata": {},
   "outputs": [],
   "source": [
    "def main():\n",
    "    consultations_pages = []\n",
    "    for page in range(PAGES_TO_SCRAPE):\n",
    "        response = get_selected_info(get_consultations(query,page,size,language,url))\n",
    "        if response:\n",
    "            consultations_pages += response\n",
    "        else:\n",
    "            break\n",
    "    return consultations_pages\n",
    "\n",
    "\n",
    "if __name__ == '__main__':\n",
    "    main()"
   ]
  },
  {
   "cell_type": "code",
   "execution_count": 426,
   "id": "332f1524",
   "metadata": {},
   "outputs": [
    {
     "data": {
      "text/plain": [
       "[{'cons_id': 12527,\n",
       "  'title': 'Requirements for Artificial Intelligence',\n",
       "  'topics': 'Digital economy and society',\n",
       "  'type_of_act': 'PROP_REG',\n",
       "  'status': 'OPEN',\n",
       "  'start_date': '2021/04/26 18:38:12',\n",
       "  'end_date': '2021/08/06 23:59:59',\n",
       "  'link': 'https://ec.europa.eu/info/law/better-regulation/have-your-say/initiatives/12527-Requirements-for-Artificial-Intelligence_en'},\n",
       " {'cons_id': 12685,\n",
       "  'title': 'Digitalisation of cross-border judicial cooperation',\n",
       "  'topics': 'Justice and fundamental rights',\n",
       "  'type_of_act': 'PROP_REG',\n",
       "  'status': 'UPCOMING',\n",
       "  'start_date': None,\n",
       "  'end_date': None,\n",
       "  'link': 'https://ec.europa.eu/info/law/better-regulation/have-your-say/initiatives/12685-Digitalisation-of-cross-border-judicial-cooperation_en'},\n",
       " {'cons_id': 12497,\n",
       "  'title': 'Revision of EU rules on food contact materials',\n",
       "  'topics': 'Food safety',\n",
       "  'type_of_act': 'PROP_REG',\n",
       "  'status': 'UPCOMING',\n",
       "  'start_date': None,\n",
       "  'end_date': None,\n",
       "  'link': 'https://ec.europa.eu/info/law/better-regulation/have-your-say/initiatives/12497-Revision-of-EU-rules-on-food-contact-materials_en'},\n",
       " {'cons_id': 12251,\n",
       "  'title': 'Revision of Alternative Fuels Infrastructure Directive',\n",
       "  'topics': 'Transport',\n",
       "  'type_of_act': 'PROP_DIR',\n",
       "  'status': 'CLOSED',\n",
       "  'start_date': '2020/04/06 11:10:30',\n",
       "  'end_date': '2020/06/29 23:59:59',\n",
       "  'link': 'https://ec.europa.eu/info/law/better-regulation/have-your-say/initiatives/12251-Revision-of-Alternative-Fuels-Infrastructure-Directive_en'},\n",
       " {'cons_id': 12654,\n",
       "  'title': \"Evaluation of the 'New Legislative Framework' for EU legislation on industrial products\",\n",
       "  'topics': 'Single market',\n",
       "  'type_of_act': None,\n",
       "  'status': 'UPCOMING',\n",
       "  'start_date': None,\n",
       "  'end_date': None,\n",
       "  'link': \"https://ec.europa.eu/info/law/better-regulation/have-your-say/initiatives/12654-Evaluation-of-the-'New-Legislative-Framework'-for-EU-legislation-on-industrial-products_en\"},\n",
       " {'cons_id': 1996,\n",
       "  'title': 'Sustainability requirements for batteries',\n",
       "  'topics': 'Single market',\n",
       "  'type_of_act': 'REG_IMPL',\n",
       "  'status': 'UPCOMING',\n",
       "  'start_date': None,\n",
       "  'end_date': None,\n",
       "  'link': 'https://ec.europa.eu/info/law/better-regulation/have-your-say/initiatives/1996-Sustainability-requirements-for-batteries_en'},\n",
       " {'cons_id': 11890,\n",
       "  'title': '\\nReview of the rules of origin applicable under the Pan-Euro-Mediterranean Convention',\n",
       "  'topics': 'Customs',\n",
       "  'type_of_act': 'DATPRO',\n",
       "  'status': 'DISABLED',\n",
       "  'start_date': '2019/07/29 12:10:03',\n",
       "  'end_date': None,\n",
       "  'link': 'https://ec.europa.eu/info/law/better-regulation/have-your-say/initiatives/11890-\\nReview-of-the-rules-of-origin-applicable-under-the-Pan-Euro-Mediterranean-Convention_en'},\n",
       " {'cons_id': 12337,\n",
       "  'title': 'Revision of the specifications for EU-wide real-time traffic information services (Delegated Regulation 2015/962)',\n",
       "  'topics': 'Transport',\n",
       "  'type_of_act': 'REG_DEL',\n",
       "  'status': 'DISABLED',\n",
       "  'start_date': '2020/04/13 11:00:03',\n",
       "  'end_date': None,\n",
       "  'link': 'https://ec.europa.eu/info/law/better-regulation/have-your-say/initiatives/12337-Revision-of-the-specifications-for-EU-wide-real-time-traffic-information-services-(Delegated-Regulation-2015/962)_en'},\n",
       " {'cons_id': 12022,\n",
       "  'title': 'Introducing and updating references to regulatory acts applicable for vehicle approvals',\n",
       "  'topics': 'Single market',\n",
       "  'type_of_act': 'REG_DEL',\n",
       "  'status': 'DISABLED',\n",
       "  'start_date': '2019/10/15 10:27:07',\n",
       "  'end_date': None,\n",
       "  'link': 'https://ec.europa.eu/info/law/better-regulation/have-your-say/initiatives/12022-Introducing-and-updating-references-to-regulatory-acts-applicable-for-vehicle-approvals_en'},\n",
       " {'cons_id': 1530,\n",
       "  'title': 'Amendment of the Regulation on the European Institute of Innovation and Technology (EIT)',\n",
       "  'topics': 'Culture and media',\n",
       "  'type_of_act': 'PROP_REG',\n",
       "  'status': 'CLOSED',\n",
       "  'start_date': '2019/07/11 10:55:03',\n",
       "  'end_date': '2019/09/05 23:59:59',\n",
       "  'link': 'https://ec.europa.eu/info/law/better-regulation/have-your-say/initiatives/1530-Amendment-of-the-Regulation-on-the-European-Institute-of-Innovation-and-Technology-(EIT)_en'}]"
      ]
     },
     "execution_count": 426,
     "metadata": {},
     "output_type": "execute_result"
    }
   ],
   "source": [
    "main()"
   ]
  },
  {
   "cell_type": "code",
   "execution_count": null,
   "id": "d2433a98",
   "metadata": {},
   "outputs": [],
   "source": []
  }
 ],
 "metadata": {
  "kernelspec": {
   "display_name": "Python 3",
   "language": "python",
   "name": "python3"
  },
  "language_info": {
   "codemirror_mode": {
    "name": "ipython",
    "version": 3
   },
   "file_extension": ".py",
   "mimetype": "text/x-python",
   "name": "python",
   "nbconvert_exporter": "python",
   "pygments_lexer": "ipython3",
   "version": "3.8.6"
  },
  "toc": {
   "base_numbering": 1,
   "nav_menu": {},
   "number_sections": true,
   "sideBar": true,
   "skip_h1_title": false,
   "title_cell": "Table of Contents",
   "title_sidebar": "Contents",
   "toc_cell": false,
   "toc_position": {},
   "toc_section_display": true,
   "toc_window_display": false
  }
 },
 "nbformat": 4,
 "nbformat_minor": 5
}

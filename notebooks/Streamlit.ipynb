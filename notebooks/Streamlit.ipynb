{
 "cells": [
  {
   "cell_type": "code",
   "execution_count": 176,
   "id": "0782b34b",
   "metadata": {},
   "outputs": [
    {
     "name": "stdout",
     "output_type": "stream",
     "text": [
      "None\n"
     ]
    }
   ],
   "source": [
    "\n",
    "\n",
    "import streamlit as st\n",
    "from IPython.core.display import display, HTML\n",
    "\n",
    "\n",
    "'''\n",
    "# LexAI Website !!!\n",
    "It's beautiful\n",
    "'''\n",
    "\n",
    "\n",
    "# API QUERIES\n",
    "query = st.text_input(\"Search for a topic\", 'agriculture')\n",
    "\n",
    "import requests\n",
    "\n",
    "#indices=['eurlex', 'consultations', 'twitter_query', 'twitter_press', 'twitter_politicians'])\n",
    "\n",
    "\n",
    "## TWITTER\n",
    "#lexai_twitter_url = \"http://127.0.0.1:8000/predict\"\n",
    "#tweet_params=dict(keyword=query)\n",
    "#tweet_likes = requests.get(lexai_twitter_url,params=tweet_params).json()\n",
    "\n",
    "'''\n",
    "## Twitter says nothing\n",
    "'''\n",
    "print(st.write('Tweets about this topic were liked by', 'people on Twitter'))\n",
    "\n",
    "## Dashboard Style\n",
    "\n",
    "\n",
    "\n",
    "## EURLEX\n",
    "'''\n",
    "## REGULATIONS\n",
    "'''\n",
    "lexai_eurlex_url = \"http://127.0.0.1:8000/query\"\n",
    "tweet_params=dict(query=query,n=5)\n",
    "eurlex = requests.get(lexai_eurlex_url,params=tweet_params).json()\n",
    "for i in eurlex:\n",
    "    st.write(eurlex[str(i)]['title'])\n",
    "    st.write(eurlex[i]['author'])\n",
    "    st.write(eurlex[i]['date'])\n",
    "    st.write(eurlex[i]['link'])\n"
   ]
  },
  {
   "cell_type": "code",
   "execution_count": 33,
   "id": "a2d44f41",
   "metadata": {},
   "outputs": [
    {
     "data": {
      "text/plain": [
       "str"
      ]
     },
     "execution_count": 33,
     "metadata": {},
     "output_type": "execute_result"
    }
   ],
   "source": [
    "eurlex[str(0)]['date']\n"
   ]
  },
  {
   "cell_type": "code",
   "execution_count": 29,
   "id": "ca606488",
   "metadata": {},
   "outputs": [
    {
     "ename": "KeyError",
     "evalue": "'status'",
     "output_type": "error",
     "traceback": [
      "\u001b[0;31m---------------------------------------------------------------------------\u001b[0m",
      "\u001b[0;31mKeyError\u001b[0m                                  Traceback (most recent call last)",
      "\u001b[0;32m<ipython-input-29-147452818987>\u001b[0m in \u001b[0;36m<module>\u001b[0;34m\u001b[0m\n\u001b[1;32m      7\u001b[0m \u001b[0mconsults\u001b[0m \u001b[0;34m=\u001b[0m \u001b[0mrequests\u001b[0m\u001b[0;34m.\u001b[0m\u001b[0mget\u001b[0m\u001b[0;34m(\u001b[0m\u001b[0mlexai_eurlex_url\u001b[0m\u001b[0;34m,\u001b[0m\u001b[0mparams\u001b[0m\u001b[0;34m=\u001b[0m\u001b[0mconsults_params\u001b[0m\u001b[0;34m)\u001b[0m\u001b[0;34m.\u001b[0m\u001b[0mjson\u001b[0m\u001b[0;34m(\u001b[0m\u001b[0;34m)\u001b[0m\u001b[0;34m\u001b[0m\u001b[0;34m\u001b[0m\u001b[0m\n\u001b[1;32m      8\u001b[0m \u001b[0;32mfor\u001b[0m \u001b[0mi\u001b[0m \u001b[0;32min\u001b[0m \u001b[0mconsults\u001b[0m\u001b[0;34m:\u001b[0m\u001b[0;34m\u001b[0m\u001b[0;34m\u001b[0m\u001b[0m\n\u001b[0;32m----> 9\u001b[0;31m     \u001b[0;32mif\u001b[0m \u001b[0mconsults\u001b[0m\u001b[0;34m[\u001b[0m\u001b[0mstr\u001b[0m\u001b[0;34m(\u001b[0m\u001b[0mi\u001b[0m\u001b[0;34m)\u001b[0m\u001b[0;34m]\u001b[0m\u001b[0;34m[\u001b[0m\u001b[0;34m'status'\u001b[0m\u001b[0;34m]\u001b[0m\u001b[0;34m==\u001b[0m\u001b[0;34m'OPEN'\u001b[0m\u001b[0;34m:\u001b[0m\u001b[0;34m\u001b[0m\u001b[0;34m\u001b[0m\u001b[0m\n\u001b[0m\u001b[1;32m     10\u001b[0m         \u001b[0mst\u001b[0m\u001b[0;34m.\u001b[0m\u001b[0mwrite\u001b[0m\u001b[0;34m(\u001b[0m\u001b[0;34m'Title: '\u001b[0m\u001b[0;34m,\u001b[0m\u001b[0mconsults\u001b[0m\u001b[0;34m[\u001b[0m\u001b[0mi\u001b[0m\u001b[0;34m]\u001b[0m\u001b[0;34m[\u001b[0m\u001b[0;34m'title'\u001b[0m\u001b[0;34m]\u001b[0m\u001b[0;34m)\u001b[0m\u001b[0;34m\u001b[0m\u001b[0;34m\u001b[0m\u001b[0m\n\u001b[1;32m     11\u001b[0m         \u001b[0mst\u001b[0m\u001b[0;34m.\u001b[0m\u001b[0mwrite\u001b[0m\u001b[0;34m(\u001b[0m\u001b[0;34m'Type of act: '\u001b[0m\u001b[0;34m,\u001b[0m\u001b[0mconsults\u001b[0m\u001b[0;34m[\u001b[0m\u001b[0mi\u001b[0m\u001b[0;34m]\u001b[0m\u001b[0;34m[\u001b[0m\u001b[0;34m'type_of_act'\u001b[0m\u001b[0;34m]\u001b[0m\u001b[0;34m)\u001b[0m\u001b[0;34m\u001b[0m\u001b[0;34m\u001b[0m\u001b[0m\n",
      "\u001b[0;31mKeyError\u001b[0m: 'status'"
     ]
    }
   ],
   "source": [
    "# CONSULTS\n",
    "'''\n",
    "## OPEN CONSULTATIONS\n",
    "'''\n",
    "lexai_eurlex_url = \"http://127.0.0.1:8000/query\"\n",
    "consults_params=dict(query=query,index='consultations',n=50)\n",
    "consults = requests.get(lexai_eurlex_url,params=consults_params).json()\n",
    "for i in consults:\n",
    "    if consults[str(i)]['status']=='OPEN':\n",
    "        st.write('Title: ',consults[i]['title'])\n",
    "        st.write('Type of act: ',consults[i]['type_of_act'])\n",
    "        st.write('Start date: ',consults[i]['start_date'])\n",
    "        st.write('End date: ',consults[i]['end_date'])\n",
    "        st.write('Link: ',consults[i]['link'])"
   ]
  },
  {
   "cell_type": "code",
   "execution_count": 31,
   "id": "4f686799",
   "metadata": {},
   "outputs": [
    {
     "data": {
      "text/plain": [
       "{'title': 'Agriculture - List of products and substances authorised in organic production',\n",
       " 'type_of_act': 'REG_IMPL',\n",
       " 'topics': 'Agriculture and rural development',\n",
       " 'start_date': '2021/03/26',\n",
       " 'end_date': '2021/04/23',\n",
       " 'link': 'https://ec.europa.eu/info/law/better-regulation/have-your-say/initiatives/12377-Agriculture---List-of-products-and-substances-authorised-in-organic-production_en'}"
      ]
     },
     "execution_count": 31,
     "metadata": {},
     "output_type": "execute_result"
    }
   ],
   "source": [
    "consults[str(0)]"
   ]
  },
  {
   "cell_type": "code",
   "execution_count": 37,
   "id": "dbfb30fe",
   "metadata": {},
   "outputs": [],
   "source": [
    "lexai_eurlex_url = \"http://127.0.0.1:8000/query\"\n",
    "consults_params=dict(query=query,index='twitter_press',n=50)\n",
    "press = requests.get(lexai_eurlex_url,params=consults_params).json()\n",
    "for i in press:\n",
    "    st.write('Title: ',consults[i]['title'])\n",
    "    st.write('Type of act: ',consults[i]['type_of_act'])\n",
    "    st.write('Start date: ',consults[i]['start_date'])\n",
    "    st.write('End date: ',consults[i]['end_date'])\n",
    "    st.write('Link: ',consults[i]['link'])"
   ]
  },
  {
   "cell_type": "code",
   "execution_count": 65,
   "id": "ee051ace",
   "metadata": {},
   "outputs": [
    {
     "data": {
      "text/plain": [
       "{'0': {'timestamp': 1622732427.0,\n",
       "  'id': 1400497619340832774,\n",
       "  'user': 'EURACTIV',\n",
       "  'text': 'Organic farmers have been protesting in Paris against a potential cut in aid for #organic #farmers in the future #CAP. \\n\\nBut the French agriculture minister insists their calculations are “biased”, writes @m__pistorius.\\n',\n",
       "  'text_en': None,\n",
       "  'date': '2021/06/03 17:00:27',\n",
       "  'lang': 'en',\n",
       "  'iso_lang': None,\n",
       "  'user_verified': True,\n",
       "  'followers_count': 137848,\n",
       "  'user_loc': 'Brussels',\n",
       "  'user_desc': 'EU news & policy debates from the European Media Network present in 12 EU capitals. Become a EURACTIV supporter: https://t.co/GWC4eezrzo | #eaDebates #EUtweets',\n",
       "  'user_desc_en': None,\n",
       "  'user_image': 'http://pbs.twimg.com/profile_images/823590341098045440/_KnSOqm1_normal.jpg',\n",
       "  'hashtags': 'organic, farmers, CAP',\n",
       "  'mentions': 'm__pistorius',\n",
       "  'retweet_count': 1,\n",
       "  'favorite_count': 2,\n",
       "  'link': 'https://twitter.com/EURACTIV/status/1400497619340832774'},\n",
       " '1': {'timestamp': 1622719092.0,\n",
       "  'id': 1400441690956075011,\n",
       "  'user': 'euronews',\n",
       "  'text': \"How can we feed the world's 7.9 billion people without exceeding the planet's limits? \\n\\nYou asked your questions and we got experts to answer them. Join the live panel now: \\n\\n#agriculture #sustainabilty\",\n",
       "  'text_en': None,\n",
       "  'date': '2021/06/03 13:18:12',\n",
       "  'lang': 'en',\n",
       "  'iso_lang': None,\n",
       "  'user_verified': True,\n",
       "  'followers_count': 463777,\n",
       "  'user_loc': 'Europe',\n",
       "  'user_desc': 'All Views | We tweet in 12 languages. Choose yours: https://t.co/cW0TEB9Gyl | You can DM us to contact the newsroom',\n",
       "  'user_desc_en': None,\n",
       "  'user_image': 'http://pbs.twimg.com/profile_images/1168824925110620161/aClpPizp_normal.jpg',\n",
       "  'hashtags': 'agriculture, sustainabilty',\n",
       "  'mentions': '',\n",
       "  'retweet_count': 4,\n",
       "  'favorite_count': 8,\n",
       "  'link': 'https://twitter.com/euronews/status/1400441690956075011'},\n",
       " '2': {'timestamp': 1622790960.0,\n",
       "  'id': 1400743125253967876,\n",
       "  'user': 'el_pais',\n",
       "  'text': '“La nueva política agraria será más sostenible y redistributiva”. Entrevista con el ministro de Agricultura, Pesca y Alimentación, Luis Planas, que confía en que Bruselas llegue pronto a un acuerdo sobre la PAC ',\n",
       "  'text_en': None,\n",
       "  'date': '2021/06/04 09:16:00',\n",
       "  'lang': 'es',\n",
       "  'iso_lang': None,\n",
       "  'user_verified': True,\n",
       "  'followers_count': 8036065,\n",
       "  'user_loc': 'Madrid',\n",
       "  'user_desc': 'La mejor información en español. Con nuestra mirada puesta en España, Europa y América. Suscríbete a los hechos: https://t.co/9NNCHlsu3H\\nAyuda: @elpais_mas',\n",
       "  'user_desc_en': None,\n",
       "  'user_image': 'http://pbs.twimg.com/profile_images/1236548818402971648/F-pcFaq6_normal.jpg',\n",
       "  'hashtags': '',\n",
       "  'mentions': '',\n",
       "  'retweet_count': 3,\n",
       "  'favorite_count': 13,\n",
       "  'link': 'https://twitter.com/el_pais/status/1400743125253967876'},\n",
       " '3': {'timestamp': 1622729507.0,\n",
       "  'id': 1400485375307571206,\n",
       "  'user': 'POLITICOEurope',\n",
       "  'text': 'The EU\\'s farming methods are no closer to being green after four days of negotiations over a new Common Agricultural Policy ended in a clash over how the budget should be spent. \\n\\n\"Some member states have zero willing to change anything,\" one MEP said. ',\n",
       "  'text_en': None,\n",
       "  'date': '2021/06/03 16:11:47',\n",
       "  'lang': 'en',\n",
       "  'iso_lang': None,\n",
       "  'user_verified': True,\n",
       "  'followers_count': 280987,\n",
       "  'user_loc': 'Brussels',\n",
       "  'user_desc': 'Politics. Policy. Power.\\n\\nFollow the team here: https://t.co/hmG5EsBoEb',\n",
       "  'user_desc_en': None,\n",
       "  'user_image': 'http://pbs.twimg.com/profile_images/1395774818868465680/S39h9kFk_normal.jpg',\n",
       "  'hashtags': '',\n",
       "  'mentions': '',\n",
       "  'retweet_count': 7,\n",
       "  'favorite_count': 14,\n",
       "  'link': 'https://twitter.com/POLITICOEurope/status/1400485375307571206'},\n",
       " '4': {'timestamp': 1621431371.0,\n",
       "  'id': 1395040597422088193,\n",
       "  'user': 'RTV_Slovenija',\n",
       "  'text': 'Prijatelji iz manjšega kraja združijo svoje prihranke, ker želijo ponovno zagnati kmetijsko zadrugo. Dan po tistem, ko so prihranke položili na banko, se zgodi argentinski finančni zlom, zato izgubijo vse prihranke. Film tedna: Junaške zgube. Ob 20:05 na TV SLO 1. ',\n",
       "  'text_en': 'Friends from a smaller town pool their savings because they want to restart an agricultural cooperative. The day after they put the savings in the bank, an Argentine financial meltdown happens, so they lose all the savings. Movie of the Week: Heroic Losers. At 20:05 on TV SLO 1.',\n",
       "  'date': '2021/05/19 15:36:11',\n",
       "  'lang': 'sl',\n",
       "  'iso_lang': None,\n",
       "  'user_verified': False,\n",
       "  'followers_count': 78456,\n",
       "  'user_loc': 'Ljubljana, Slovenija',\n",
       "  'user_desc': 'Uradna Twitter stran RTV Slovenija. Tvitamo sodelavke Službe za komuniciranje RTV Slovenija. Za več informacij prosimo, da pišete na komuniciranje@rtvslo.si.',\n",
       "  'user_desc_en': 'Official Twitter page of RTV Slovenia. We tweet the employees of the Communication Service of RTV Slovenia. For more information, please write to komuniciranje@rtvslo.si.',\n",
       "  'user_image': 'http://pbs.twimg.com/profile_images/497267975469006848/u75yYJzn_normal.jpeg',\n",
       "  'hashtags': '',\n",
       "  'mentions': '',\n",
       "  'retweet_count': 2,\n",
       "  'favorite_count': 8,\n",
       "  'link': 'https://twitter.com/RTV_Slovenija/status/1395040597422088193'},\n",
       " '5': {'timestamp': 1621484638.0,\n",
       "  'id': 1395264016201703428,\n",
       "  'user': 'RTV_Slovenija',\n",
       "  'text': 'Danes je svetovni dan čebel! Čebele so izjemno pomembne za kmetijsko in biotsko raznolikost, saj skrbijo za opraševanje rastlin. Zaradi okoljskih sprememb pa je njihovo življenje vedno težje. Tudi na to nas opominja svetovni dan čebel. #Mislinajutri ',\n",
       "  'text_en': 'Today is World Bee Day! Bees are extremely important for agricultural and biodiversity as they take care of plant pollination. However, due to environmental changes, their lives are becoming increasingly difficult. World Bee Day also reminds us of this. #Mislinajutri',\n",
       "  'date': '2021/05/20 06:23:58',\n",
       "  'lang': 'sl',\n",
       "  'iso_lang': None,\n",
       "  'user_verified': False,\n",
       "  'followers_count': 78456,\n",
       "  'user_loc': 'Ljubljana, Slovenija',\n",
       "  'user_desc': 'Uradna Twitter stran RTV Slovenija. Tvitamo sodelavke Službe za komuniciranje RTV Slovenija. Za več informacij prosimo, da pišete na komuniciranje@rtvslo.si.',\n",
       "  'user_desc_en': 'Official Twitter page of RTV Slovenia. We tweet the employees of the Communication Service of RTV Slovenia. For more information, please write to komuniciranje@rtvslo.si.',\n",
       "  'user_image': 'http://pbs.twimg.com/profile_images/497267975469006848/u75yYJzn_normal.jpeg',\n",
       "  'hashtags': 'Mislinajutri',\n",
       "  'mentions': '',\n",
       "  'retweet_count': 3,\n",
       "  'favorite_count': 16,\n",
       "  'link': 'https://twitter.com/RTV_Slovenija/status/1395264016201703428'},\n",
       " '6': {'timestamp': 1621497477.0,\n",
       "  'id': 1395317866682060800,\n",
       "  'user': 'RTV_Slovenija',\n",
       "  'text': 'RT @rtvslo: Kar 78 odstotkov divjih rastlin potrebuje opraševanje žuželk. Od njihovega opraševanja je odvisnih tudi 84 odstotkov kmetijskih...',\n",
       "  'text_en': 'RT @rtvslo: As many as 78 percent of wild plants need insect pollination. 84 percent of agricultural crops also depend on their pollination ...',\n",
       "  'date': '2021/05/20 09:57:57',\n",
       "  'lang': 'sl',\n",
       "  'iso_lang': None,\n",
       "  'user_verified': False,\n",
       "  'followers_count': 78456,\n",
       "  'user_loc': 'Ljubljana, Slovenija',\n",
       "  'user_desc': 'Uradna Twitter stran RTV Slovenija. Tvitamo sodelavke Službe za komuniciranje RTV Slovenija. Za več informacij prosimo, da pišete na komuniciranje@rtvslo.si.',\n",
       "  'user_desc_en': 'Official Twitter page of RTV Slovenia. We tweet the employees of the Communication Service of RTV Slovenia. For more information, please write to komuniciranje@rtvslo.si.',\n",
       "  'user_image': 'http://pbs.twimg.com/profile_images/497267975469006848/u75yYJzn_normal.jpeg',\n",
       "  'hashtags': '',\n",
       "  'mentions': 'rtvslo',\n",
       "  'retweet_count': 2,\n",
       "  'favorite_count': 0,\n",
       "  'link': 'https://twitter.com/RTV_Slovenija/status/1395317866682060800'},\n",
       " '7': {'timestamp': 1622785502.0,\n",
       "  'id': 1400720233271336960,\n",
       "  'user': 'noticiaaominuto',\n",
       "  'text': 'Agricultor. Maria revela a Diogo que tem um problema de saúde  #famaaominuto',\n",
       "  'text_en': 'Farmer. Maria reveals to Diogo that she has a health problem #famaaominuto',\n",
       "  'date': '2021/06/04 07:45:02',\n",
       "  'lang': 'pt',\n",
       "  'iso_lang': None,\n",
       "  'user_verified': False,\n",
       "  'followers_count': 19183,\n",
       "  'user_loc': 'Portugal',\n",
       "  'user_desc': 'Notícias ao Minuto - Seja o primeiro a saber.',\n",
       "  'user_desc_en': 'Minute News - Be the first to know.',\n",
       "  'user_image': 'http://pbs.twimg.com/profile_images/378800000249829898/746e4586a4c527915f95c2fb056bc4db_normal.png',\n",
       "  'hashtags': 'famaaominuto',\n",
       "  'mentions': '',\n",
       "  'retweet_count': 0,\n",
       "  'favorite_count': 0,\n",
       "  'link': 'https://twitter.com/noticiaaominuto/status/1400720233271336960'}}"
      ]
     },
     "execution_count": 65,
     "metadata": {},
     "output_type": "execute_result"
    }
   ],
   "source": [
    "press\n"
   ]
  },
  {
   "cell_type": "code",
   "execution_count": 143,
   "id": "c7d5679a",
   "metadata": {},
   "outputs": [],
   "source": [
    "query=\"covid\""
   ]
  },
  {
   "cell_type": "code",
   "execution_count": 158,
   "id": "7a4c7644",
   "metadata": {
    "scrolled": true
   },
   "outputs": [],
   "source": [
    "def get_news():\n",
    "    consult_params=dict(query=query,index='twitter_press',n=10)\n",
    "    press = requests.get(lexai_eurlex_url,params=consult_params).json()\n",
    "    info=[]\n",
    "    for i in press:\n",
    "        link = press[i][\"link\"]\n",
    "        text= press[i][\"text\"]\n",
    "        user= press[i][\"user\"]\n",
    "        date= press[i][\"date\"]\n",
    "        html_link = f'<blockquote class=\"twitter-tweet\"><p lang=\"en\" dir=\"ltr\">{text}.<a href={link}</a></p>&mdash; {user} (@{user}) <a href={link}>{date}</a></blockquote> <script async src=\"https://platform.twitter.com/widgets.js\" charset=\"utf-8\"></script>'\n",
    "        info.append({\"link\":link,\"text\":text,\"user\":user,\"date\":date,\"html_link\":html_link})\n",
    "    return pd.DataFrame(info).sort_values(by=\"date\", ascending=False)"
   ]
  },
  {
   "cell_type": "code",
   "execution_count": 162,
   "id": "2e3aff9c",
   "metadata": {},
   "outputs": [],
   "source": [
    "from datetime import datetime"
   ]
  },
  {
   "cell_type": "code",
   "execution_count": 152,
   "id": "d4defa0e",
   "metadata": {},
   "outputs": [],
   "source": [
    "info= get_news()"
   ]
  },
  {
   "cell_type": "code",
   "execution_count": 172,
   "id": "d3215b53",
   "metadata": {},
   "outputs": [
    {
     "data": {
      "text/plain": [
       "4   2021-06-04 11:20:52\n",
       "5   2021-06-04 11:01:07\n",
       "6   2021-06-04 09:30:13\n",
       "7   2021-06-04 09:25:03\n",
       "8   2021-06-04 08:57:03\n",
       "9   2021-06-04 08:19:05\n",
       "0   2021-06-03 20:27:57\n",
       "1   2021-06-03 14:57:03\n",
       "2   2021-06-03 09:52:02\n",
       "3   2021-06-03 05:34:43\n",
       "Name: date, dtype: datetime64[ns]"
      ]
     },
     "execution_count": 172,
     "metadata": {},
     "output_type": "execute_result"
    }
   ],
   "source": [
    "pandas.to_datetime(info[\"date\"])"
   ]
  },
  {
   "cell_type": "code",
   "execution_count": 154,
   "id": "9423d418",
   "metadata": {
    "scrolled": true
   },
   "outputs": [
    {
     "ename": "KeyError",
     "evalue": "0",
     "output_type": "error",
     "traceback": [
      "\u001b[0;31m-------------------------------------------------------------------------\u001b[0m",
      "\u001b[0;31mKeyError\u001b[0m                                Traceback (most recent call last)",
      "\u001b[0;32m~/.pyenv/versions/3.8.6/envs/lewagon/lib/python3.8/site-packages/pandas/core/indexes/base.py\u001b[0m in \u001b[0;36mget_loc\u001b[0;34m(self, key, method, tolerance)\u001b[0m\n\u001b[1;32m   3079\u001b[0m             \u001b[0;32mtry\u001b[0m\u001b[0;34m:\u001b[0m\u001b[0;34m\u001b[0m\u001b[0;34m\u001b[0m\u001b[0m\n\u001b[0;32m-> 3080\u001b[0;31m                 \u001b[0;32mreturn\u001b[0m \u001b[0mself\u001b[0m\u001b[0;34m.\u001b[0m\u001b[0m_engine\u001b[0m\u001b[0;34m.\u001b[0m\u001b[0mget_loc\u001b[0m\u001b[0;34m(\u001b[0m\u001b[0mcasted_key\u001b[0m\u001b[0;34m)\u001b[0m\u001b[0;34m\u001b[0m\u001b[0;34m\u001b[0m\u001b[0m\n\u001b[0m\u001b[1;32m   3081\u001b[0m             \u001b[0;32mexcept\u001b[0m \u001b[0mKeyError\u001b[0m \u001b[0;32mas\u001b[0m \u001b[0merr\u001b[0m\u001b[0;34m:\u001b[0m\u001b[0;34m\u001b[0m\u001b[0;34m\u001b[0m\u001b[0m\n",
      "\u001b[0;32mpandas/_libs/index.pyx\u001b[0m in \u001b[0;36mpandas._libs.index.IndexEngine.get_loc\u001b[0;34m()\u001b[0m\n",
      "\u001b[0;32mpandas/_libs/index.pyx\u001b[0m in \u001b[0;36mpandas._libs.index.IndexEngine.get_loc\u001b[0;34m()\u001b[0m\n",
      "\u001b[0;32mpandas/_libs/hashtable_class_helper.pxi\u001b[0m in \u001b[0;36mpandas._libs.hashtable.PyObjectHashTable.get_item\u001b[0;34m()\u001b[0m\n",
      "\u001b[0;32mpandas/_libs/hashtable_class_helper.pxi\u001b[0m in \u001b[0;36mpandas._libs.hashtable.PyObjectHashTable.get_item\u001b[0;34m()\u001b[0m\n",
      "\u001b[0;31mKeyError\u001b[0m: 0",
      "\nThe above exception was the direct cause of the following exception:\n",
      "\u001b[0;31mKeyError\u001b[0m                                Traceback (most recent call last)",
      "\u001b[0;32m<ipython-input-154-10705caf4d20>\u001b[0m in \u001b[0;36m<module>\u001b[0;34m\u001b[0m\n\u001b[1;32m      2\u001b[0m \u001b[0mdates\u001b[0m\u001b[0;34m=\u001b[0m \u001b[0;34m[\u001b[0m\u001b[0;34m]\u001b[0m\u001b[0;34m\u001b[0m\u001b[0;34m\u001b[0m\u001b[0m\n\u001b[1;32m      3\u001b[0m \u001b[0;32mfor\u001b[0m \u001b[0mtweet\u001b[0m \u001b[0;32min\u001b[0m \u001b[0mrange\u001b[0m\u001b[0;34m(\u001b[0m\u001b[0mlen\u001b[0m\u001b[0;34m(\u001b[0m\u001b[0minfo\u001b[0m\u001b[0;34m)\u001b[0m\u001b[0;34m)\u001b[0m\u001b[0;34m:\u001b[0m\u001b[0;34m\u001b[0m\u001b[0;34m\u001b[0m\u001b[0m\n\u001b[0;32m----> 4\u001b[0;31m     \u001b[0mdates\u001b[0m\u001b[0;34m.\u001b[0m\u001b[0mappend\u001b[0m\u001b[0;34m(\u001b[0m\u001b[0minfo\u001b[0m\u001b[0;34m[\u001b[0m\u001b[0mtweet\u001b[0m\u001b[0;34m]\u001b[0m\u001b[0;34m[\u001b[0m\u001b[0;34m\"date\"\u001b[0m\u001b[0;34m]\u001b[0m\u001b[0;34m)\u001b[0m\u001b[0;34m\u001b[0m\u001b[0;34m\u001b[0m\u001b[0m\n\u001b[0m",
      "\u001b[0;32m~/.pyenv/versions/3.8.6/envs/lewagon/lib/python3.8/site-packages/pandas/core/frame.py\u001b[0m in \u001b[0;36m__getitem__\u001b[0;34m(self, key)\u001b[0m\n\u001b[1;32m   3022\u001b[0m             \u001b[0;32mif\u001b[0m \u001b[0mself\u001b[0m\u001b[0;34m.\u001b[0m\u001b[0mcolumns\u001b[0m\u001b[0;34m.\u001b[0m\u001b[0mnlevels\u001b[0m \u001b[0;34m>\u001b[0m \u001b[0;36m1\u001b[0m\u001b[0;34m:\u001b[0m\u001b[0;34m\u001b[0m\u001b[0;34m\u001b[0m\u001b[0m\n\u001b[1;32m   3023\u001b[0m                 \u001b[0;32mreturn\u001b[0m \u001b[0mself\u001b[0m\u001b[0;34m.\u001b[0m\u001b[0m_getitem_multilevel\u001b[0m\u001b[0;34m(\u001b[0m\u001b[0mkey\u001b[0m\u001b[0;34m)\u001b[0m\u001b[0;34m\u001b[0m\u001b[0;34m\u001b[0m\u001b[0m\n\u001b[0;32m-> 3024\u001b[0;31m             \u001b[0mindexer\u001b[0m \u001b[0;34m=\u001b[0m \u001b[0mself\u001b[0m\u001b[0;34m.\u001b[0m\u001b[0mcolumns\u001b[0m\u001b[0;34m.\u001b[0m\u001b[0mget_loc\u001b[0m\u001b[0;34m(\u001b[0m\u001b[0mkey\u001b[0m\u001b[0;34m)\u001b[0m\u001b[0;34m\u001b[0m\u001b[0;34m\u001b[0m\u001b[0m\n\u001b[0m\u001b[1;32m   3025\u001b[0m             \u001b[0;32mif\u001b[0m \u001b[0mis_integer\u001b[0m\u001b[0;34m(\u001b[0m\u001b[0mindexer\u001b[0m\u001b[0;34m)\u001b[0m\u001b[0;34m:\u001b[0m\u001b[0;34m\u001b[0m\u001b[0;34m\u001b[0m\u001b[0m\n\u001b[1;32m   3026\u001b[0m                 \u001b[0mindexer\u001b[0m \u001b[0;34m=\u001b[0m \u001b[0;34m[\u001b[0m\u001b[0mindexer\u001b[0m\u001b[0;34m]\u001b[0m\u001b[0;34m\u001b[0m\u001b[0;34m\u001b[0m\u001b[0m\n",
      "\u001b[0;32m~/.pyenv/versions/3.8.6/envs/lewagon/lib/python3.8/site-packages/pandas/core/indexes/base.py\u001b[0m in \u001b[0;36mget_loc\u001b[0;34m(self, key, method, tolerance)\u001b[0m\n\u001b[1;32m   3080\u001b[0m                 \u001b[0;32mreturn\u001b[0m \u001b[0mself\u001b[0m\u001b[0;34m.\u001b[0m\u001b[0m_engine\u001b[0m\u001b[0;34m.\u001b[0m\u001b[0mget_loc\u001b[0m\u001b[0;34m(\u001b[0m\u001b[0mcasted_key\u001b[0m\u001b[0;34m)\u001b[0m\u001b[0;34m\u001b[0m\u001b[0;34m\u001b[0m\u001b[0m\n\u001b[1;32m   3081\u001b[0m             \u001b[0;32mexcept\u001b[0m \u001b[0mKeyError\u001b[0m \u001b[0;32mas\u001b[0m \u001b[0merr\u001b[0m\u001b[0;34m:\u001b[0m\u001b[0;34m\u001b[0m\u001b[0;34m\u001b[0m\u001b[0m\n\u001b[0;32m-> 3082\u001b[0;31m                 \u001b[0;32mraise\u001b[0m \u001b[0mKeyError\u001b[0m\u001b[0;34m(\u001b[0m\u001b[0mkey\u001b[0m\u001b[0;34m)\u001b[0m \u001b[0;32mfrom\u001b[0m \u001b[0merr\u001b[0m\u001b[0;34m\u001b[0m\u001b[0;34m\u001b[0m\u001b[0m\n\u001b[0m\u001b[1;32m   3083\u001b[0m \u001b[0;34m\u001b[0m\u001b[0m\n\u001b[1;32m   3084\u001b[0m         \u001b[0;32mif\u001b[0m \u001b[0mtolerance\u001b[0m \u001b[0;32mis\u001b[0m \u001b[0;32mnot\u001b[0m \u001b[0;32mNone\u001b[0m\u001b[0;34m:\u001b[0m\u001b[0;34m\u001b[0m\u001b[0;34m\u001b[0m\u001b[0m\n",
      "\u001b[0;31mKeyError\u001b[0m: 0"
     ]
    }
   ],
   "source": [
    "#sorting the tweets by date\n",
    "dates= []\n",
    "for tweet in range(len(info)):\n",
    "    dates.append(info[tweet][\"date\"])"
   ]
  },
  {
   "cell_type": "code",
   "execution_count": 155,
   "id": "eb0823cb",
   "metadata": {},
   "outputs": [],
   "source": [
    "def get_news2():\n",
    "    consult_params=dict(query=query,index='twitter_press',n=50)\n",
    "    press = requests.get(lexai_eurlex_url,params=consult_params).json()\n",
    "    info=[]\n",
    "    for i in press:\n",
    "        link = press[i][\"link\"]\n",
    "        text= press[i][\"text\"]\n",
    "        user= press[i][\"user\"]\n",
    "        date= press[i][\"date\"]\n",
    "        #html_link = f'<blockquote class=\"twitter-tweet\"><p lang=\"en\" dir=\"ltr\">{text}.<a href={link}</a></p>&mdash; {user} (@{user}) <a href={link}>{date}</a></blockquote> <script async src=\"https://platform.twitter.com/widgets.js\" charset=\"utf-8\"></script>'\n",
    "        html_link = f'<blockquote data-cards=\"hidden\" class=\"twitter-tweet\"><p lang=\"en\" dir=\"ltr\">{text}.<a href={link}</a></p>&mdash; {user} (@{user}) <a href={link}>{date}</a>'\n",
    "        info.append({\"link\":link,\"text\":text,\"user\":user,\"date\":date,\"html_link\":html_link})\n",
    "    return pd.DataFrame(info).sort_values(by=\"date\", ascending=False)\n"
   ]
  },
  {
   "cell_type": "code",
   "execution_count": 173,
   "id": "f2df1f82",
   "metadata": {},
   "outputs": [
    {
     "data": {
      "text/html": [
       "<blockquote class=\"twitter-tweet\"><p lang=\"en\" dir=\"ltr\">Organic farmers have been protesting in Paris against a potential cut in aid for #organic #farmers in the future #CAP. \n",
       "\n",
       "But the French agriculture minister insists their calculations are “biased”, writes @m__pistorius.\n",
       ".<a href=https://twitter.com/EURACTIV/status/1400497619340832774</a></p>&mdash; EURACTIV (@EURACTIV) <a href=https://twitter.com/EURACTIV/status/1400497619340832774>2021/06/03 17:00:27</a></blockquote> <script async src=\"https://platform.twitter.com/widgets.js\" charset=\"utf-8\"></script>"
      ],
      "text/plain": [
       "<IPython.core.display.HTML object>"
      ]
     },
     "metadata": {},
     "output_type": "display_data"
    },
    {
     "data": {
      "text/html": [
       "<blockquote class=\"twitter-tweet\"><p lang=\"en\" dir=\"ltr\">How can we feed the world's 7.9 billion people without exceeding the planet's limits? \n",
       "\n",
       "You asked your questions and we got experts to answer them. Join the live panel now: \n",
       "\n",
       "#agriculture #sustainabilty.<a href=https://twitter.com/euronews/status/1400441690956075011</a></p>&mdash; euronews (@euronews) <a href=https://twitter.com/euronews/status/1400441690956075011>2021/06/03 13:18:12</a></blockquote> <script async src=\"https://platform.twitter.com/widgets.js\" charset=\"utf-8\"></script>"
      ],
      "text/plain": [
       "<IPython.core.display.HTML object>"
      ]
     },
     "metadata": {},
     "output_type": "display_data"
    }
   ],
   "source": [
    "for i in range(len(html)):\n",
    "    display(HTML(html[i]))"
   ]
  },
  {
   "cell_type": "code",
   "execution_count": 149,
   "id": "125112b1",
   "metadata": {},
   "outputs": [
    {
     "data": {
      "text/html": [
       "<blockquote data-cards=\"hidden\" class=\"twitter-tweet\"><p lang=\"en\" dir=\"ltr\">Organic farmers have been protesting in Paris against a potential cut in aid for #organic #farmers in the future #CAP. \n",
       "\n",
       "But the French agriculture minister insists their calculations are “biased”, writes @m__pistorius.\n",
       ".<a href=https://twitter.com/EURACTIV/status/1400497619340832774</a></p>&mdash; EURACTIV (@EURACTIV) <a href=https://twitter.com/EURACTIV/status/1400497619340832774>2021/06/03 17:00:27</a></blockquote> <script async src=\"https://platform.twitter.com/widgets.js\" charset=\"utf-8\"></script>"
      ],
      "text/plain": [
       "<IPython.core.display.HTML object>"
      ]
     },
     "metadata": {},
     "output_type": "display_data"
    }
   ],
   "source": [
    "display(HTML(f'<blockquote data-cards=\"hidden\" class=\"twitter-tweet\"><p lang=\"en\" dir=\"ltr\">{text}.<a href={link}</a></p>&mdash; {user} (@{user}) <a href={link}>{date}</a></blockquote> <script async src=\"https://platform.twitter.com/widgets.js\" charset=\"utf-8\"></script>'))\n"
   ]
  },
  {
   "cell_type": "code",
   "execution_count": 174,
   "id": "fba87868",
   "metadata": {},
   "outputs": [],
   "source": [
    "def df_filter(message,df):\n",
    "\n",
    "        slider_1, slider_2 = st.slider('%s' % (message),0,len(df)-1,[0,len(df)-1],1)\n",
    "\n",
    "        while len(str(df.iloc[slider_1][1]).replace('.0','')) < 4:\n",
    "            df.iloc[slider_1,1] = '0' + str(df.iloc[slider_1][1]).replace('.0','')\n",
    "            \n",
    "        while len(str(df.iloc[slider_2][1]).replace('.0','')) < 4:\n",
    "            df.iloc[slider_2,1] = '0' + str(df.iloc[slider_1][1]).replace('.0','')\n",
    "\n",
    "        start_date = datetime.datetime.strptime(str(df.iloc[slider_1][0]).replace('.0','') + str(df.iloc[slider_1][1]).replace('.0',''),'%Y%m%d%H%M%S')\n",
    "        start_date = start_date.strftime('%d %b %Y, %I:%M%p')\n",
    "        \n",
    "        end_date = datetime.datetime.strptime(str(df.iloc[slider_2][0]).replace('.0','') + str(df.iloc[slider_2][1]).replace('.0',''),'%Y%m%d%H%M%S')\n",
    "        end_date = end_date.strftime('%d %b %Y, %I:%M%p')\n",
    "\n",
    "        st.info('Start: **%s** End: **%s**' % (start_date,end_date))\n",
    "        \n",
    "        filtered_df = df.iloc[slider_1:slider_2+1][:].reset_index(drop=True)\n",
    "\n",
    "        return filtered_df"
   ]
  },
  {
   "cell_type": "code",
   "execution_count": 177,
   "id": "22a80bc4",
   "metadata": {},
   "outputs": [
    {
     "ename": "AttributeError",
     "evalue": "module 'streamlit' has no attribute 'date_picker'",
     "output_type": "error",
     "traceback": [
      "\u001b[0;31m-------------------------------------------------------------------------\u001b[0m",
      "\u001b[0;31mAttributeError\u001b[0m                          Traceback (most recent call last)",
      "\u001b[0;32m<ipython-input-177-2f520533a19c>\u001b[0m in \u001b[0;36m<module>\u001b[0;34m\u001b[0m\n\u001b[0;32m----> 1\u001b[0;31m \u001b[0mstart_date\u001b[0m\u001b[0;34m,\u001b[0m \u001b[0mend_date\u001b[0m \u001b[0;34m=\u001b[0m \u001b[0mst\u001b[0m\u001b[0;34m.\u001b[0m\u001b[0mdate_picker\u001b[0m\u001b[0;34m(\u001b[0m\u001b[0;34m\"Pick a date range\"\u001b[0m\u001b[0;34m,\u001b[0m \u001b[0;34m[\u001b[0m\u001b[0;34m]\u001b[0m\u001b[0;34m)\u001b[0m\u001b[0;34m\u001b[0m\u001b[0;34m\u001b[0m\u001b[0m\n\u001b[0m",
      "\u001b[0;31mAttributeError\u001b[0m: module 'streamlit' has no attribute 'date_picker'"
     ]
    }
   ],
   "source": [
    "start_date, end_date = st.date_picker(\"Pick a date range\", [])"
   ]
  },
  {
   "cell_type": "code",
   "execution_count": 181,
   "id": "0fb82885",
   "metadata": {},
   "outputs": [
    {
     "data": {
      "text/plain": [
       "datetime.date(2021, 6, 6)"
      ]
     },
     "execution_count": 181,
     "metadata": {},
     "output_type": "execute_result"
    }
   ],
   "source": [
    "from datetime import date\n",
    "\n",
    "today = date.today()\n",
    "today\n",
    "\n"
   ]
  },
  {
   "cell_type": "code",
   "execution_count": 189,
   "id": "ef8472e0",
   "metadata": {},
   "outputs": [],
   "source": [
    "query = st.text_input(\"Search for a topic\", 'Technology')\n",
    "c1, c2, c3 = st.beta_columns((1, 1, 2))\n",
    "\n",
    "lexai_eurlex_url = \"http://127.0.0.1:8000/query\"\n",
    "tweet_params=dict(query=query,n=5)\n",
    "eurlex = requests.get(lexai_eurlex_url,params=tweet_params).json()\n"
   ]
  },
  {
   "cell_type": "code",
   "execution_count": 192,
   "id": "caee59f4",
   "metadata": {},
   "outputs": [
    {
     "data": {
      "text/plain": [
       "{'0': {'title': 'Opinion - European Economic and Social Committee - Health technology assessment / Compromise',\n",
       "  'author': 'European Economic and Social Committee',\n",
       "  'date': '27/04/2021',\n",
       "  'link': 'https://eur-lex.europa.eu/legal-content/AUTO/?uri=PI_EESC:EESC-2021-01784-AC'},\n",
       " '1': {'title': 'Voting result Regulation on the European Institute of Innovation and Technology (EIT) Adoption of the legislative act 3792nd meeting of the COUNCIL OF THE EUROPEAN UNION (Foreign Affairs) 10 May 2021, Brussels',\n",
       "  'author': 'Council of the European Union',\n",
       "  'date': '10/05/2021',\n",
       "  'link': 'https://eur-lex.europa.eu/legal-content/AUTO/?uri=CONSIL:ST_8601_2021_INIT'},\n",
       " '2': {'title': 'Statement of revenue and expenditure of the European Institute of Innovation and Technology for the financial year 2020 – amending budget No 3 2021/C 114/53',\n",
       "  'author': 'European Institute of Innovation and Technology',\n",
       "  'date': '31/03/2021',\n",
       "  'link': 'https://eur-lex.europa.eu/legal-content/AUTO/?uri=CELEX:32021B0331(53)'},\n",
       " '3': {'title': 'Statement of revenue and expenditure of the European Institute of Innovation and Technology for the financial year 2021 2021/C 114/34',\n",
       "  'author': 'European Institute of Innovation and Technology',\n",
       "  'date': '31/03/2021',\n",
       "  'link': 'https://eur-lex.europa.eu/legal-content/AUTO/?uri=CELEX:32021B0331(34)'},\n",
       " '4': {'title': 'Proposal for a Regulation of the European Parliament and of the Council on health technology assessment and amending Directive 2011/24/EU - Opinion of the European Economic and Social Committee',\n",
       "  'author': 'Council of the European Union',\n",
       "  'date': '29/04/2021',\n",
       "  'link': 'https://eur-lex.europa.eu/legal-content/AUTO/?uri=CONSIL:ST_8330_2021_INIT'}}"
      ]
     },
     "execution_count": 192,
     "metadata": {},
     "output_type": "execute_result"
    }
   ],
   "source": [
    "eurlex"
   ]
  },
  {
   "cell_type": "code",
   "execution_count": 276,
   "id": "924e82d3",
   "metadata": {},
   "outputs": [],
   "source": [
    "def get_regulation():\n",
    "    reg = []\n",
    "    for i in eurlex:\n",
    "        #It would be nice to have a list and small text\n",
    "        title=eurlex[i]['title']\n",
    "        author= eurlex[i]['author']\n",
    "        date= pd.to_datetime(eurlex[i]['date']).date()\n",
    "        link = eurlex[i]['link']\n",
    "        reg.append({\"title\":title,\"author\":author,\"date\":date,\"link\":link})\n",
    "    return pd.DataFrame(reg)"
   ]
  },
  {
   "cell_type": "code",
   "execution_count": 277,
   "id": "d5e0e6c8",
   "metadata": {},
   "outputs": [],
   "source": [
    "data = get_regulation()\n"
   ]
  },
  {
   "cell_type": "code",
   "execution_count": 278,
   "id": "547758fe",
   "metadata": {},
   "outputs": [
    {
     "data": {
      "text/html": [
       "<div>\n",
       "<style scoped>\n",
       "    .dataframe tbody tr th:only-of-type {\n",
       "        vertical-align: middle;\n",
       "    }\n",
       "\n",
       "    .dataframe tbody tr th {\n",
       "        vertical-align: top;\n",
       "    }\n",
       "\n",
       "    .dataframe thead th {\n",
       "        text-align: right;\n",
       "    }\n",
       "</style>\n",
       "<table border=\"1\" class=\"dataframe\">\n",
       "  <thead>\n",
       "    <tr style=\"text-align: right;\">\n",
       "      <th></th>\n",
       "      <th>title</th>\n",
       "      <th>author</th>\n",
       "      <th>date</th>\n",
       "      <th>link</th>\n",
       "    </tr>\n",
       "  </thead>\n",
       "  <tbody>\n",
       "    <tr>\n",
       "      <th>0</th>\n",
       "      <td>Opinion - European Economic and Social Committ...</td>\n",
       "      <td>European Economic and Social Committee</td>\n",
       "      <td>2021-04-27</td>\n",
       "      <td>https://eur-lex.europa.eu/legal-content/AUTO/?...</td>\n",
       "    </tr>\n",
       "    <tr>\n",
       "      <th>1</th>\n",
       "      <td>Voting result Regulation on the European Insti...</td>\n",
       "      <td>Council of the European Union</td>\n",
       "      <td>2021-10-05</td>\n",
       "      <td>https://eur-lex.europa.eu/legal-content/AUTO/?...</td>\n",
       "    </tr>\n",
       "    <tr>\n",
       "      <th>2</th>\n",
       "      <td>Statement of revenue and expenditure of the Eu...</td>\n",
       "      <td>European Institute of Innovation and Technology</td>\n",
       "      <td>2021-03-31</td>\n",
       "      <td>https://eur-lex.europa.eu/legal-content/AUTO/?...</td>\n",
       "    </tr>\n",
       "    <tr>\n",
       "      <th>3</th>\n",
       "      <td>Statement of revenue and expenditure of the Eu...</td>\n",
       "      <td>European Institute of Innovation and Technology</td>\n",
       "      <td>2021-03-31</td>\n",
       "      <td>https://eur-lex.europa.eu/legal-content/AUTO/?...</td>\n",
       "    </tr>\n",
       "    <tr>\n",
       "      <th>4</th>\n",
       "      <td>Proposal for a Regulation of the European Parl...</td>\n",
       "      <td>Council of the European Union</td>\n",
       "      <td>2021-04-29</td>\n",
       "      <td>https://eur-lex.europa.eu/legal-content/AUTO/?...</td>\n",
       "    </tr>\n",
       "  </tbody>\n",
       "</table>\n",
       "</div>"
      ],
      "text/plain": [
       "                                               title  \\\n",
       "0  Opinion - European Economic and Social Committ...   \n",
       "1  Voting result Regulation on the European Insti...   \n",
       "2  Statement of revenue and expenditure of the Eu...   \n",
       "3  Statement of revenue and expenditure of the Eu...   \n",
       "4  Proposal for a Regulation of the European Parl...   \n",
       "\n",
       "                                            author        date  \\\n",
       "0           European Economic and Social Committee  2021-04-27   \n",
       "1                    Council of the European Union  2021-10-05   \n",
       "2  European Institute of Innovation and Technology  2021-03-31   \n",
       "3  European Institute of Innovation and Technology  2021-03-31   \n",
       "4                    Council of the European Union  2021-04-29   \n",
       "\n",
       "                                                link  \n",
       "0  https://eur-lex.europa.eu/legal-content/AUTO/?...  \n",
       "1  https://eur-lex.europa.eu/legal-content/AUTO/?...  \n",
       "2  https://eur-lex.europa.eu/legal-content/AUTO/?...  \n",
       "3  https://eur-lex.europa.eu/legal-content/AUTO/?...  \n",
       "4  https://eur-lex.europa.eu/legal-content/AUTO/?...  "
      ]
     },
     "execution_count": 278,
     "metadata": {},
     "output_type": "execute_result"
    }
   ],
   "source": [
    "data\n"
   ]
  },
  {
   "cell_type": "code",
   "execution_count": 643,
   "id": "373266df",
   "metadata": {},
   "outputs": [],
   "source": [
    "st.write(data[(data[\"date\"] > start_date)& (data[\"date\"] < end_date)][[\"title\"]])\n",
    "\n",
    "\n",
    "\n"
   ]
  },
  {
   "cell_type": "code",
   "execution_count": 644,
   "id": "3f1f1747",
   "metadata": {
    "scrolled": true
   },
   "outputs": [
    {
     "data": {
      "text/plain": [
       "[{'title': 'Opinion - European Economic and Social Committee - Health technology assessment / Compromise',\n",
       "  'author': 'European Economic and Social Committee',\n",
       "  'date': datetime.date(2021, 4, 27),\n",
       "  'link': 'https://eur-lex.europa.eu/legal-content/AUTO/?uri=PI_EESC:EESC-2021-01784-AC'},\n",
       " {'title': 'Voting result Regulation on the European Institute of Innovation and Technology (EIT) Adoption of the legislative act 3792nd meeting of the COUNCIL OF THE EUROPEAN UNION (Foreign Affairs) 10 May 2021, Brussels',\n",
       "  'author': 'Council of the European Union',\n",
       "  'date': datetime.date(2021, 5, 10),\n",
       "  'link': 'https://eur-lex.europa.eu/legal-content/AUTO/?uri=CONSIL:ST_8601_2021_INIT'},\n",
       " {'title': 'Statement of revenue and expenditure of the European Institute of Innovation and Technology for the financial year 2020 – amending budget No 3 2021/C 114/53',\n",
       "  'author': 'European Institute of Innovation and Technology',\n",
       "  'date': datetime.date(2021, 3, 31),\n",
       "  'link': 'https://eur-lex.europa.eu/legal-content/AUTO/?uri=CELEX:32021B0331(53)'},\n",
       " {'title': 'Statement of revenue and expenditure of the European Institute of Innovation and Technology for the financial year 2021 2021/C 114/34',\n",
       "  'author': 'European Institute of Innovation and Technology',\n",
       "  'date': datetime.date(2021, 3, 31),\n",
       "  'link': 'https://eur-lex.europa.eu/legal-content/AUTO/?uri=CELEX:32021B0331(34)'},\n",
       " {'title': 'Proposal for a Regulation of the European Parliament and of the Council on health technology assessment and amending Directive 2011/24/EU - Opinion of the European Economic and Social Committee',\n",
       "  'author': 'Council of the European Union',\n",
       "  'date': datetime.date(2021, 4, 29),\n",
       "  'link': 'https://eur-lex.europa.eu/legal-content/AUTO/?uri=CONSIL:ST_8330_2021_INIT'},\n",
       " {'title': 'Proposal for a Regulation of the European Parliament and of the Council on health technology assessment and amending Directive 2011/24/EU - Partial mandate for negotiations with the European Parliament',\n",
       "  'author': 'Council of the European Union',\n",
       "  'date': datetime.date(2021, 3, 24),\n",
       "  'link': 'https://eur-lex.europa.eu/legal-content/AUTO/?uri=CONSIL:ST_7310_2021_INIT'},\n",
       " {'title': 'REGULATION OF THE EUROPEAN PARLIAMENT AND OF THE COUNCIL ON THE EUROPEAN INSTITUTE OF INNOVATION AND TECHNOLOGY (RECAST)',\n",
       "  'author': 'European Parliament, Council of the European Union',\n",
       "  'date': datetime.date(2021, 5, 20),\n",
       "  'link': 'https://eur-lex.europa.eu/legal-content/AUTO/?uri=CONSIL:PE_8_2021_REV_1'},\n",
       " {'title': 'REGULATION OF THE EUROPEAN PARLIAMENT AND OF THE COUNCIL on the European Institute of Innovation and Technology (recast)',\n",
       "  'author': 'Council of the European Union',\n",
       "  'date': datetime.date(2021, 4, 30),\n",
       "  'link': 'https://eur-lex.europa.eu/legal-content/AUTO/?uri=CONSIL:PE_8_2021_INIT'},\n",
       " {'title': 'Draft REGULATION OF THE EUROPEAN PARLIAMENT AND OF THE COUNCIL on the European Institute of Innovation and Technology (recast) (first reading) - Adoption of the legislative act = Statements',\n",
       "  'author': 'Council of the European Union',\n",
       "  'date': datetime.date(2021, 5, 4),\n",
       "  'link': 'https://eur-lex.europa.eu/legal-content/AUTO/?uri=CONSIL:ST_8240_2021_ADD_1'},\n",
       " {'title': 'Draft REGULATION OF THE EUROPEAN PARLIAMENT AND OF THE COUNCIL on the European Institute of Innovation and Technology (recast) (first reading) - Adoption of the legislative act',\n",
       "  'author': 'Council of the European Union',\n",
       "  'date': datetime.date(2021, 5, 4),\n",
       "  'link': 'https://eur-lex.europa.eu/legal-content/AUTO/?uri=CONSIL:ST_8240_2021_COR_1'},\n",
       " {'title': 'Opinion of the European Committee of the Regions — Strengthening local governance and representative democracy via new digital technology instruments',\n",
       "  'author': 'European Committee of the Regions, Commission for Citizenship, Governance, Institutional and External Affairs',\n",
       "  'date': datetime.date(2020, 12, 10),\n",
       "  'link': 'https://eur-lex.europa.eu/legal-content/AUTO/?uri=CELEX:52020IR0830'},\n",
       " {'title': 'Case T-875/19: Judgment of the General Court of 25 November 2020 — Impera v EUIPO — Euro Games Technology (Flaming Forties) (EU trade mark — Opposition proceedings — Application for the EU figurative mark Flaming Forties — Earlier national figurative mark 40 FLAMING FRUITS — Relative ground for refusal — Likelihood of confusion — Article 8(1)(b) of Regulation (EC) No 207/2009 (now Article 8(1)(b) of Regulation (EU) 2017/1001))',\n",
       "  'author': 'General Court',\n",
       "  'date': datetime.date(2020, 11, 25),\n",
       "  'link': 'https://eur-lex.europa.eu/legal-content/AUTO/?uri=CELEX:62019TA0875'},\n",
       " {'title': 'Case T-874/19: Judgment of the General Court of 25 November 2020 — Impera v EUIPO — Euro Games Technology (Flaming Forties) (EU trade mark — Opposition proceedings — Application for the EU word mark Flaming Forties — Earlier national figurative mark 40 FLAMING FRUITS — Relative ground for refusal — Likelihood of confusion — Article 8(1)(b) of Regulation (EC) No 207/2009 (now Article 8(1)(b) of Regulation (EU) 2017/1001))',\n",
       "  'author': 'General Court',\n",
       "  'date': datetime.date(2020, 11, 25),\n",
       "  'link': 'https://eur-lex.europa.eu/legal-content/AUTO/?uri=CELEX:62019TA0874'},\n",
       " {'title': \"Proposal for a REGULATION OF THE EUROPEAN PARLIAMENT AND OF THE COUNCIL on the European Institute of Innovation and Technology (recast) - Outcome of the European Parliament's first reading (Brussels, 27 to 29 April 2021)\",\n",
       "  'author': 'Council of the European Union',\n",
       "  'date': datetime.date(2021, 4, 28),\n",
       "  'link': 'https://eur-lex.europa.eu/legal-content/AUTO/?uri=CONSIL:ST_8184_2021_INIT'},\n",
       " {'title': 'Proposal for a REGULATION OF THE EUROPEAN PARLIAMENT AND OF THE COUNCIL on the European Institute of Innovation and Technology (recast) - Outcome of proceedings: final compromise text',\n",
       "  'author': 'Council of the European Union',\n",
       "  'date': datetime.date(2021, 2, 17),\n",
       "  'link': 'https://eur-lex.europa.eu/legal-content/AUTO/?uri=CONSIL:ST_6259_2021_INIT'},\n",
       " {'title': 'Case T-725/20: Action brought on 14 December 2020 — Guangdong Haomei New Materials and Guangdong King Metal Light Alloy Technology v Commission',\n",
       "  'author': 'General Court',\n",
       "  'date': datetime.date(2020, 12, 14),\n",
       "  'link': 'https://eur-lex.europa.eu/legal-content/AUTO/?uri=CELEX:62020TN0725'},\n",
       " {'title': 'DECISION OF THE EUROPEAN PARLIAMENT AND OF THE COUNCIL ON THE STRATEGIC INNOVATION AGENDA OF THE EUROPEAN INSTITUTE OF INNOVATION AND TECHNOLOGY (EIT) 2021-2027: BOOSTING THE INNOVATION TALENT AND CAPACITY OF EUROPE AND REPEALING DECISION No 1312/2013/EU',\n",
       "  'author': 'European Parliament, Council of the European Union',\n",
       "  'date': datetime.date(2021, 5, 20),\n",
       "  'link': 'https://eur-lex.europa.eu/legal-content/AUTO/?uri=CONSIL:PE_9_2021_REV_1'},\n",
       " {'title': 'REGULATION OF THE EUROPEAN PARLIAMENT AND OF THE COUNCIL ESTABLISHING THE EUROPEAN CYBERSECURITY INDUSTRIAL, TECHNOLOGY AND RESEARCH COMPETENCE CENTRE AND THE NETWORK OF NATIONAL COORDINATION CENTRES',\n",
       "  'author': 'European Parliament, Council of the European Union',\n",
       "  'date': datetime.date(2021, 5, 20),\n",
       "  'link': 'https://eur-lex.europa.eu/legal-content/AUTO/?uri=CONSIL:PE_28_2021_INIT'},\n",
       " {'title': 'DECISION OF THE EUROPEAN PARLIAMENT AND OF THE COUNCIL on the Strategic Innovation Agenda of the European Institute of Innovation and Technology (EIT) 2021-2027: Boosting the Innovation Talent and Capacity of Europe and repealing Decision No 1312/2013/EU',\n",
       "  'author': 'Council of the European Union',\n",
       "  'date': datetime.date(2021, 5, 3),\n",
       "  'link': 'https://eur-lex.europa.eu/legal-content/AUTO/?uri=CONSIL:PE_9_2021_INIT'},\n",
       " {'title': 'Opinion of the European Data Protection Supervisor on the Proposal for a Pilot Regime for Market Infrastructures based on Distributed Ledger Technology (DLT)',\n",
       "  'author': 'Council of the European Union',\n",
       "  'date': datetime.date(2021, 4, 27),\n",
       "  'link': 'https://eur-lex.europa.eu/legal-content/AUTO/?uri=CONSIL:ST_8199_2021_INIT'}]"
      ]
     },
     "execution_count": 644,
     "metadata": {},
     "output_type": "execute_result"
    }
   ],
   "source": [
    "regulation"
   ]
  },
  {
   "cell_type": "code",
   "execution_count": 481,
   "id": "49299c2b",
   "metadata": {
    "scrolled": true
   },
   "outputs": [],
   "source": [
    "\n",
    "headers={'X-Meili-API-Key':'OTkwNzQ0ZGRkZTc0NDcwM2RlMzFlOGIx'}\n"
   ]
  },
  {
   "cell_type": "code",
   "execution_count": 622,
   "id": "b28ee121",
   "metadata": {},
   "outputs": [],
   "source": [
    "def get_regulation():\n",
    "    lexai_url = \"http://35.223.18.2/indexes/eurlex/search\"\n",
    "    result = requests.get(lexai_url,params=params,headers=headers).json()\n",
    "    reg = []\n",
    "    for i in result[\"hits\"]:\n",
    "        title=i[\"title\"]\n",
    "        author= i['author']\n",
    "        date= pd.to_datetime(i['date']).date()\n",
    "        link = i['link']\n",
    "        reg.append({\"title\":title,\"author\":author,\"date\":date,\"link\":link})\n",
    "    \n",
    "    return reg"
   ]
  },
  {
   "cell_type": "code",
   "execution_count": 623,
   "id": "33ec1866",
   "metadata": {
    "scrolled": true
   },
   "outputs": [
    {
     "data": {
      "text/plain": [
       "[{'title': 'Opinion - European Economic and Social Committee - Health technology assessment / Compromise',\n",
       "  'author': 'European Economic and Social Committee',\n",
       "  'date': datetime.date(2021, 4, 27),\n",
       "  'link': 'https://eur-lex.europa.eu/legal-content/AUTO/?uri=PI_EESC:EESC-2021-01784-AC'},\n",
       " {'title': 'Voting result Regulation on the European Institute of Innovation and Technology (EIT) Adoption of the legislative act 3792nd meeting of the COUNCIL OF THE EUROPEAN UNION (Foreign Affairs) 10 May 2021, Brussels',\n",
       "  'author': 'Council of the European Union',\n",
       "  'date': datetime.date(2021, 5, 10),\n",
       "  'link': 'https://eur-lex.europa.eu/legal-content/AUTO/?uri=CONSIL:ST_8601_2021_INIT'},\n",
       " {'title': 'Statement of revenue and expenditure of the European Institute of Innovation and Technology for the financial year 2020 – amending budget No 3 2021/C 114/53',\n",
       "  'author': 'European Institute of Innovation and Technology',\n",
       "  'date': datetime.date(2021, 3, 31),\n",
       "  'link': 'https://eur-lex.europa.eu/legal-content/AUTO/?uri=CELEX:32021B0331(53)'},\n",
       " {'title': 'Statement of revenue and expenditure of the European Institute of Innovation and Technology for the financial year 2021 2021/C 114/34',\n",
       "  'author': 'European Institute of Innovation and Technology',\n",
       "  'date': datetime.date(2021, 3, 31),\n",
       "  'link': 'https://eur-lex.europa.eu/legal-content/AUTO/?uri=CELEX:32021B0331(34)'},\n",
       " {'title': 'Proposal for a Regulation of the European Parliament and of the Council on health technology assessment and amending Directive 2011/24/EU - Opinion of the European Economic and Social Committee',\n",
       "  'author': 'Council of the European Union',\n",
       "  'date': datetime.date(2021, 4, 29),\n",
       "  'link': 'https://eur-lex.europa.eu/legal-content/AUTO/?uri=CONSIL:ST_8330_2021_INIT'},\n",
       " {'title': 'Proposal for a Regulation of the European Parliament and of the Council on health technology assessment and amending Directive 2011/24/EU - Partial mandate for negotiations with the European Parliament',\n",
       "  'author': 'Council of the European Union',\n",
       "  'date': datetime.date(2021, 3, 24),\n",
       "  'link': 'https://eur-lex.europa.eu/legal-content/AUTO/?uri=CONSIL:ST_7310_2021_INIT'},\n",
       " {'title': 'REGULATION OF THE EUROPEAN PARLIAMENT AND OF THE COUNCIL ON THE EUROPEAN INSTITUTE OF INNOVATION AND TECHNOLOGY (RECAST)',\n",
       "  'author': 'European Parliament, Council of the European Union',\n",
       "  'date': datetime.date(2021, 5, 20),\n",
       "  'link': 'https://eur-lex.europa.eu/legal-content/AUTO/?uri=CONSIL:PE_8_2021_REV_1'},\n",
       " {'title': 'REGULATION OF THE EUROPEAN PARLIAMENT AND OF THE COUNCIL on the European Institute of Innovation and Technology (recast)',\n",
       "  'author': 'Council of the European Union',\n",
       "  'date': datetime.date(2021, 4, 30),\n",
       "  'link': 'https://eur-lex.europa.eu/legal-content/AUTO/?uri=CONSIL:PE_8_2021_INIT'},\n",
       " {'title': 'Draft REGULATION OF THE EUROPEAN PARLIAMENT AND OF THE COUNCIL on the European Institute of Innovation and Technology (recast) (first reading) - Adoption of the legislative act = Statements',\n",
       "  'author': 'Council of the European Union',\n",
       "  'date': datetime.date(2021, 5, 4),\n",
       "  'link': 'https://eur-lex.europa.eu/legal-content/AUTO/?uri=CONSIL:ST_8240_2021_ADD_1'},\n",
       " {'title': 'Draft REGULATION OF THE EUROPEAN PARLIAMENT AND OF THE COUNCIL on the European Institute of Innovation and Technology (recast) (first reading) - Adoption of the legislative act',\n",
       "  'author': 'Council of the European Union',\n",
       "  'date': datetime.date(2021, 5, 4),\n",
       "  'link': 'https://eur-lex.europa.eu/legal-content/AUTO/?uri=CONSIL:ST_8240_2021_COR_1'},\n",
       " {'title': 'Opinion of the European Committee of the Regions — Strengthening local governance and representative democracy via new digital technology instruments',\n",
       "  'author': 'European Committee of the Regions, Commission for Citizenship, Governance, Institutional and External Affairs',\n",
       "  'date': datetime.date(2020, 12, 10),\n",
       "  'link': 'https://eur-lex.europa.eu/legal-content/AUTO/?uri=CELEX:52020IR0830'},\n",
       " {'title': 'Case T-875/19: Judgment of the General Court of 25 November 2020 — Impera v EUIPO — Euro Games Technology (Flaming Forties) (EU trade mark — Opposition proceedings — Application for the EU figurative mark Flaming Forties — Earlier national figurative mark 40 FLAMING FRUITS — Relative ground for refusal — Likelihood of confusion — Article 8(1)(b) of Regulation (EC) No 207/2009 (now Article 8(1)(b) of Regulation (EU) 2017/1001))',\n",
       "  'author': 'General Court',\n",
       "  'date': datetime.date(2020, 11, 25),\n",
       "  'link': 'https://eur-lex.europa.eu/legal-content/AUTO/?uri=CELEX:62019TA0875'},\n",
       " {'title': 'Case T-874/19: Judgment of the General Court of 25 November 2020 — Impera v EUIPO — Euro Games Technology (Flaming Forties) (EU trade mark — Opposition proceedings — Application for the EU word mark Flaming Forties — Earlier national figurative mark 40 FLAMING FRUITS — Relative ground for refusal — Likelihood of confusion — Article 8(1)(b) of Regulation (EC) No 207/2009 (now Article 8(1)(b) of Regulation (EU) 2017/1001))',\n",
       "  'author': 'General Court',\n",
       "  'date': datetime.date(2020, 11, 25),\n",
       "  'link': 'https://eur-lex.europa.eu/legal-content/AUTO/?uri=CELEX:62019TA0874'},\n",
       " {'title': \"Proposal for a REGULATION OF THE EUROPEAN PARLIAMENT AND OF THE COUNCIL on the European Institute of Innovation and Technology (recast) - Outcome of the European Parliament's first reading (Brussels, 27 to 29 April 2021)\",\n",
       "  'author': 'Council of the European Union',\n",
       "  'date': datetime.date(2021, 4, 28),\n",
       "  'link': 'https://eur-lex.europa.eu/legal-content/AUTO/?uri=CONSIL:ST_8184_2021_INIT'},\n",
       " {'title': 'Proposal for a REGULATION OF THE EUROPEAN PARLIAMENT AND OF THE COUNCIL on the European Institute of Innovation and Technology (recast) - Outcome of proceedings: final compromise text',\n",
       "  'author': 'Council of the European Union',\n",
       "  'date': datetime.date(2021, 2, 17),\n",
       "  'link': 'https://eur-lex.europa.eu/legal-content/AUTO/?uri=CONSIL:ST_6259_2021_INIT'},\n",
       " {'title': 'Case T-725/20: Action brought on 14 December 2020 — Guangdong Haomei New Materials and Guangdong King Metal Light Alloy Technology v Commission',\n",
       "  'author': 'General Court',\n",
       "  'date': datetime.date(2020, 12, 14),\n",
       "  'link': 'https://eur-lex.europa.eu/legal-content/AUTO/?uri=CELEX:62020TN0725'},\n",
       " {'title': 'DECISION OF THE EUROPEAN PARLIAMENT AND OF THE COUNCIL ON THE STRATEGIC INNOVATION AGENDA OF THE EUROPEAN INSTITUTE OF INNOVATION AND TECHNOLOGY (EIT) 2021-2027: BOOSTING THE INNOVATION TALENT AND CAPACITY OF EUROPE AND REPEALING DECISION No 1312/2013/EU',\n",
       "  'author': 'European Parliament, Council of the European Union',\n",
       "  'date': datetime.date(2021, 5, 20),\n",
       "  'link': 'https://eur-lex.europa.eu/legal-content/AUTO/?uri=CONSIL:PE_9_2021_REV_1'},\n",
       " {'title': 'REGULATION OF THE EUROPEAN PARLIAMENT AND OF THE COUNCIL ESTABLISHING THE EUROPEAN CYBERSECURITY INDUSTRIAL, TECHNOLOGY AND RESEARCH COMPETENCE CENTRE AND THE NETWORK OF NATIONAL COORDINATION CENTRES',\n",
       "  'author': 'European Parliament, Council of the European Union',\n",
       "  'date': datetime.date(2021, 5, 20),\n",
       "  'link': 'https://eur-lex.europa.eu/legal-content/AUTO/?uri=CONSIL:PE_28_2021_INIT'},\n",
       " {'title': 'DECISION OF THE EUROPEAN PARLIAMENT AND OF THE COUNCIL on the Strategic Innovation Agenda of the European Institute of Innovation and Technology (EIT) 2021-2027: Boosting the Innovation Talent and Capacity of Europe and repealing Decision No 1312/2013/EU',\n",
       "  'author': 'Council of the European Union',\n",
       "  'date': datetime.date(2021, 5, 3),\n",
       "  'link': 'https://eur-lex.europa.eu/legal-content/AUTO/?uri=CONSIL:PE_9_2021_INIT'},\n",
       " {'title': 'Opinion of the European Data Protection Supervisor on the Proposal for a Pilot Regime for Market Infrastructures based on Distributed Ledger Technology (DLT)',\n",
       "  'author': 'Council of the European Union',\n",
       "  'date': datetime.date(2021, 4, 27),\n",
       "  'link': 'https://eur-lex.europa.eu/legal-content/AUTO/?uri=CONSIL:ST_8199_2021_INIT'}]"
      ]
     },
     "execution_count": 623,
     "metadata": {},
     "output_type": "execute_result"
    }
   ],
   "source": [
    "get_regulation()"
   ]
  },
  {
   "cell_type": "code",
   "execution_count": 645,
   "id": "566e76c9",
   "metadata": {},
   "outputs": [],
   "source": [
    "start_date, end_date = pd.to_datetime(\"2017/02/27\").date(), pd.to_datetime(\"2021/04/27\").date()\n"
   ]
  },
  {
   "cell_type": "code",
   "execution_count": 585,
   "id": "111ce1fb",
   "metadata": {},
   "outputs": [
    {
     "name": "stdout",
     "output_type": "stream",
     "text": [
      "<class 'datetime.date'>\n"
     ]
    }
   ],
   "source": [
    "print(type(end_date))"
   ]
  },
  {
   "cell_type": "code",
   "execution_count": 668,
   "id": "d635907c",
   "metadata": {},
   "outputs": [],
   "source": [
    "\n",
    "query = st.text_input(\"Search for a topic\", 'Technology')\n",
    "\n",
    "params=dict(q=query)\n",
    "\n",
    "def get_consultations():\n",
    "    lexai_url = \"http://35.223.18.2/indexes/consultations/search\"\n",
    "    result = requests.get(lexai_url,params=params,headers=headers).json()\n",
    "    consultations = []\n",
    "    for i in result[\"hits\"]:\n",
    "        title = i['title']\n",
    "        topics = i['topics']\n",
    "        type_of_act = i['type_of_act']\n",
    "        status = i[\"status\"]\n",
    "        try:\n",
    "            end_date = pd.to_datetime(i['end_date']).date()\n",
    "        except:\n",
    "            end_date = pd.to_datetime(i['end_date'])\n",
    "        link = i['link']\n",
    "        consultations.append({\"title\":title,\"status\":status,\"topics\":topics,\"type_of_act\":type_of_act,\"end_date\":end_date,\"link\":link})\n",
    "\n",
    "    return consultations"
   ]
  },
  {
   "cell_type": "code",
   "execution_count": 669,
   "id": "659ec7b0",
   "metadata": {
    "scrolled": true
   },
   "outputs": [
    {
     "data": {
      "text/plain": [
       "[{'title': 'EU cooperation on Health Technology Assessment',\n",
       "  'topics': 'Food safety',\n",
       "  'type_of_act': 'PROP_REG',\n",
       "  'end_date': datetime.date(2018, 4, 2),\n",
       "  'link': 'https://ec.europa.eu/info/law/better-regulation/have-your-say/initiatives/1565-EU-cooperation-on-Health-Technology-Assessment_en'},\n",
       " {'title': 'Amendment of the Regulation on the European Institute of Innovation and Technology (EIT)',\n",
       "  'topics': 'Culture and media',\n",
       "  'type_of_act': 'PROP_REG',\n",
       "  'end_date': datetime.date(2019, 9, 5),\n",
       "  'link': 'https://ec.europa.eu/info/law/better-regulation/have-your-say/initiatives/1530-Amendment-of-the-Regulation-on-the-European-Institute-of-Innovation-and-Technology-(EIT)_en'},\n",
       " {'title': 'Strategic Innovation Agenda for the period 2021-2027 of the European Institute of Innovation and Technology (EIT)',\n",
       "  'topics': 'Culture and media',\n",
       "  'type_of_act': 'PROP_DEC',\n",
       "  'end_date': datetime.date(2019, 9, 5),\n",
       "  'link': 'https://ec.europa.eu/info/law/better-regulation/have-your-say/initiatives/11876-Strategic-Innovation-Agenda-for-the-period-2021-2027-of-the-European-Institute-of-Innovation-and-Technology-(EIT)_en'},\n",
       " {'title': 'Evaluation of investments in information and communication technologies supported by the ERDF in the period 2007-2013',\n",
       "  'topics': 'Regional policy',\n",
       "  'type_of_act': 'SWD',\n",
       "  'end_date': None,\n",
       "  'link': 'https://ec.europa.eu/info/law/better-regulation/have-your-say/initiatives/11870-Evaluation-of-investments-in-information-and-communication-technologies-supported-by-the-ERDF-in-the-period-2007-2013_en'}]"
      ]
     },
     "execution_count": 669,
     "metadata": {},
     "output_type": "execute_result"
    }
   ],
   "source": [
    "get_consultations()"
   ]
  },
  {
   "cell_type": "code",
   "execution_count": 670,
   "id": "aba02dee",
   "metadata": {},
   "outputs": [
    {
     "name": "stdout",
     "output_type": "stream",
     "text": [
      "European Economic and Social Committee\n",
      "European Institute of Innovation and Technology\n",
      "European Institute of Innovation and Technology\n",
      "Council of the European Union\n",
      "Council of the European Union\n"
     ]
    }
   ],
   "source": [
    "\n",
    "start_date, end_date = \"2021/02/27\", \"2021/04/27\"\n",
    "\n",
    "start_date = pd.to_datetime(start_date).date()\n",
    "end_date = pd.to_datetime(end_date).date()\n",
    "regulation = get_regulation()\n",
    "\n",
    "\n",
    "\n",
    "for i in consultations:\n",
    "    if i[\"date\"] >= start_date and i[\"date\"] <= end_date:\n",
    "        print(i[\"author\"])        \n",
    "        #i[\"date\"] >= start_date & i[\"date\"] <= end_date\n",
    "        \n",
    "        \n",
    "        #st.write('Author: ',regulation[(i[\"date\"] >= start_date)& (i[\"date\"] <= end_date)][\"author\"])\n",
    "        #st.write('Date: ',regulation[(i[\"date\"] >= start_date)& (i[\"date\"] <= end_date)][\"date\"])\n",
    "        #st.write('Link: ',regulation[(i[\"date\"] >= start_date)& (i[\"date\"] <= end_date)][\"link\"])\n",
    "\n",
    "     \n",
    "\n"
   ]
  },
  {
   "cell_type": "code",
   "execution_count": 673,
   "id": "2e7c7592",
   "metadata": {},
   "outputs": [],
   "source": [
    "\n",
    "\n",
    "start_date, end_date = \"2018/01/01\", \"2021/01/01\"\n",
    "start_date = pd.to_datetime(start_date).date()\n",
    "end_date = pd.to_datetime(end_date).date()\n",
    "consultation = get_consultations()\n",
    "       "
   ]
  },
  {
   "cell_type": "code",
   "execution_count": 674,
   "id": "7515ef9e",
   "metadata": {},
   "outputs": [
    {
     "data": {
      "text/plain": [
       "[{'title': 'EU cooperation on Health Technology Assessment',\n",
       "  'topics': 'Food safety',\n",
       "  'type_of_act': 'PROP_REG',\n",
       "  'end_date': datetime.date(2018, 4, 2),\n",
       "  'link': 'https://ec.europa.eu/info/law/better-regulation/have-your-say/initiatives/1565-EU-cooperation-on-Health-Technology-Assessment_en'},\n",
       " {'title': 'Amendment of the Regulation on the European Institute of Innovation and Technology (EIT)',\n",
       "  'topics': 'Culture and media',\n",
       "  'type_of_act': 'PROP_REG',\n",
       "  'end_date': datetime.date(2019, 9, 5),\n",
       "  'link': 'https://ec.europa.eu/info/law/better-regulation/have-your-say/initiatives/1530-Amendment-of-the-Regulation-on-the-European-Institute-of-Innovation-and-Technology-(EIT)_en'},\n",
       " {'title': 'Strategic Innovation Agenda for the period 2021-2027 of the European Institute of Innovation and Technology (EIT)',\n",
       "  'topics': 'Culture and media',\n",
       "  'type_of_act': 'PROP_DEC',\n",
       "  'end_date': datetime.date(2019, 9, 5),\n",
       "  'link': 'https://ec.europa.eu/info/law/better-regulation/have-your-say/initiatives/11876-Strategic-Innovation-Agenda-for-the-period-2021-2027-of-the-European-Institute-of-Innovation-and-Technology-(EIT)_en'},\n",
       " {'title': 'Evaluation of investments in information and communication technologies supported by the ERDF in the period 2007-2013',\n",
       "  'topics': 'Regional policy',\n",
       "  'type_of_act': 'SWD',\n",
       "  'end_date': None,\n",
       "  'link': 'https://ec.europa.eu/info/law/better-regulation/have-your-say/initiatives/11870-Evaluation-of-investments-in-information-and-communication-technologies-supported-by-the-ERDF-in-the-period-2007-2013_en'}]"
      ]
     },
     "execution_count": 674,
     "metadata": {},
     "output_type": "execute_result"
    }
   ],
   "source": [
    "consultation"
   ]
  },
  {
   "cell_type": "code",
   "execution_count": 720,
   "id": "a2c47900",
   "metadata": {},
   "outputs": [],
   "source": [
    "params=dict(q=\"\", limit =20000)\n",
    "\n",
    "\n",
    "\n",
    "\n",
    "lexai_url = \"http://35.223.18.2/indexes/consultations/search\"\n",
    "result = requests.get(lexai_url,params=params,headers=headers).json()\n",
    "\n",
    "\n",
    "def get_consultations():\n",
    "    lexai_url = \"http://35.223.18.2/indexes/consultations/search\"\n",
    "    result = requests.get(lexai_url,params=params,headers=headers).json()\n",
    "    consultations = []\n",
    "    for i in result[\"hits\"]:\n",
    "        title = i['title']\n",
    "        topics = i['topics']\n",
    "        type_of_act = i['type_of_act']\n",
    "        status =  i[\"status\"]\n",
    "        try:\n",
    "            end_date = pd.to_datetime(i['end_date']).date()\n",
    "        except:\n",
    "            end_date = pd.to_datetime(i['end_date'])\n",
    "        link = i['link']\n",
    "        consultations.append({\"title\":title,\"status\":status,\"topics\":topics,\"type_of_act\":type_of_act,\"end_date\":end_date,\"link\":link})\n",
    "\n",
    "    return consultations\n",
    "    "
   ]
  },
  {
   "cell_type": "code",
   "execution_count": 727,
   "id": "b8d5aae8",
   "metadata": {},
   "outputs": [
    {
     "name": "stdout",
     "output_type": "stream",
     "text": [
      "Title:  A Drone Strategy 2.0 for Europe\n",
      "Status:  OPEN\n",
      "Topic:  Transport\n",
      "Type of act:  COMMUNIC\n",
      "End date:  2021-07-02\n",
      "Link:  https://ec.europa.eu/info/law/better-regulation/have-your-say/initiatives/13046-A-Drone-Strategy-2.0-for-Europe_en\n",
      "Title:  Conversion to a Farm Sustainability Data Network (FSDN)\n",
      "Status:  OPEN\n",
      "Topic:  Agriculture and rural development\n",
      "Type of act:  PROP_REG\n",
      "End date:  2021-07-02\n",
      "Link:  https://ec.europa.eu/info/law/better-regulation/have-your-say/initiatives/12951-Conversion-to-a-Farm-Sustainability-Data-Network-(FSDN)_en\n",
      "Title:  Environmental impact of mobile phones and tablets - Energy Labelling\n",
      "Status:  OPEN\n",
      "Topic:  Single market\n",
      "Type of act:  REG_DEL\n",
      "End date:  2021-08-23\n",
      "Link:  https://ec.europa.eu/info/law/better-regulation/have-your-say/initiatives/12798-Environmental-impact-of-mobile-phones-and-tablets---Energy-Labelling_en\n",
      "Title:  Environmental impact of mobile phones and tablets - Ecodesign\n",
      "Status:  OPEN\n",
      "Topic:  Single market\n",
      "Type of act:  REG\n",
      "End date:  2021-08-23\n",
      "Link:  https://ec.europa.eu/info/law/better-regulation/have-your-say/initiatives/12797-Environmental-impact-of-mobile-phones-and-tablets---Ecodesign_en\n",
      "Title:  Update of the tax advantage regime for certain products produced  in the French outermost regions \n",
      "Status:  OPEN\n",
      "Topic:  Taxation\n",
      "Type of act:  PROP_DEC\n",
      "End date:  2021-07-20\n",
      "Link:  https://ec.europa.eu/info/law/better-regulation/have-your-say/initiatives/12279-Update-of-the-tax-advantage-regime-for-certain-products-produced--in-the-French-outermost-regions-_en\n",
      "Title:  Further statistical details for tax and customs authorities \n",
      "Status:  OPEN\n",
      "Topic:  Statistics\n",
      "Type of act:  REG_DEL\n",
      "End date:  2021-06-22\n",
      "Link:  https://ec.europa.eu/info/law/better-regulation/have-your-say/initiatives/12904-Further-statistical-details-for-tax-and-customs-authorities-_en\n",
      "Title:  Evaluation of Fishing Vessel Safety Directive 97/70/EC \n",
      "Status:  OPEN\n",
      "Topic:  Transport\n",
      "Type of act:  None\n",
      "End date:  2021-06-18\n",
      "Link:  https://ec.europa.eu/info/law/better-regulation/have-your-say/initiatives/12522-Evaluation-of-Fishing-Vessel-Safety-Directive-97/70/EC-_en\n",
      "Title:  Calculation, verification and reporting of data on the separate collection of SUP beverage bottles\n",
      "Status:  OPEN\n",
      "Topic:  Environment\n",
      "Type of act:  DEC_IMPL\n",
      "End date:  2021-06-17\n",
      "Link:  https://ec.europa.eu/info/law/better-regulation/have-your-say/initiatives/13032-Calculation,-verification-and-reporting-of-data-on-the-separate-collection-of-SUP-beverage-bottles_en\n",
      "Title:  Ex-post evaluation of macro-financial assistance to Tunisia and Jordan\n",
      "Status:  OPEN\n",
      "Topic:  Economy, finance and the euro\n",
      "Type of act:  SWD\n",
      "End date:  2021-06-17\n",
      "Link:  https://ec.europa.eu/info/law/better-regulation/have-your-say/initiatives/13029-Ex-post-evaluation-of-macro-financial-assistance-to-Tunisia-and-Jordan_en\n",
      "Title:  Fighting the use of shell entities and arrangements for tax purposes\n",
      "Status:  OPEN\n",
      "Topic:  Taxation\n",
      "Type of act:  PROP_DIR\n",
      "End date:  2021-06-17\n",
      "Link:  https://ec.europa.eu/info/law/better-regulation/have-your-say/initiatives/12999-Fighting-the-use-of-shell-entities-and-arrangements-for-tax-purposes_en\n",
      "Title:  Recognition of parenthood \n",
      "Status:  OPEN\n",
      "Topic:  Justice and fundamental rights\n",
      "Type of act:  PROP_REG\n",
      "End date:  2021-08-25\n",
      "Link:  https://ec.europa.eu/info/law/better-regulation/have-your-say/initiatives/12878-Recognition-of-parenthood-_en\n",
      "Title:  Supervisory data strategy\n",
      "Status:  OPEN\n",
      "Topic:  Banking and financial services\n",
      "Type of act:  COMMUNIC\n",
      "End date:  2021-06-15\n",
      "Link:  https://ec.europa.eu/info/law/better-regulation/have-your-say/initiatives/13023-Supervisory-data-strategy_en\n",
      "Title:  Organic food: certificate for operators located in third countries and list of control authorities\n",
      "Status:  OPEN\n",
      "Topic:  Agriculture and rural development\n",
      "Type of act:  REG_IMPL\n",
      "End date:  2021-06-09\n",
      "Link:  https://ec.europa.eu/info/law/better-regulation/have-your-say/initiatives/12874-Organic-food:-certificate-for-operators-located-in-third-countries-and-list-of-control-authorities_en\n",
      "Title:  Organic products - Annual reporting on controls and labelling\n",
      "Status:  OPEN\n",
      "Topic:  Agriculture and rural development\n",
      "Type of act:  REG_IMPL\n",
      "End date:  2021-06-09\n",
      "Link:  https://ec.europa.eu/info/law/better-regulation/have-your-say/initiatives/12513-Organic-products---Annual-reporting-on-controls-and-labelling_en\n",
      "Title:  Declaration of Digital Principles\n",
      "Status:  OPEN\n",
      "Topic:  Digital economy and society\n",
      "Type of act:  COMMUNIC\n",
      "End date:  2021-06-09\n",
      "Link:  https://ec.europa.eu/info/law/better-regulation/have-your-say/initiatives/13017-Declaration-of-Digital-Principles_en\n",
      "Title:  EU strategy for sustainable textiles\n",
      "Status:  OPEN\n",
      "Topic:  Environment\n",
      "Type of act:  COMMUNIC\n",
      "End date:  2021-08-04\n",
      "Link:  https://ec.europa.eu/info/law/better-regulation/have-your-say/initiatives/12822-EU-strategy-for-sustainable-textiles_en\n",
      "Title:  Update of the strategic partnership with the outermost regions \n",
      "Status:  OPEN\n",
      "Topic:  Regional policy\n",
      "Type of act:  COMMUNIC\n",
      "End date:  2021-06-09\n",
      "Link:  https://ec.europa.eu/info/law/better-regulation/have-your-say/initiatives/13018-Update-of-the-strategic-partnership-with-the-outermost-regions-_en\n",
      "Title:  Ship recycling – updated list of approved breaking yards (8th edition)\n",
      "Status:  OPEN\n",
      "Topic:  Environment\n",
      "Type of act:  DEC_IMPL\n",
      "End date:  2021-06-08\n",
      "Link:  https://ec.europa.eu/info/law/better-regulation/have-your-say/initiatives/12896-Ship-recycling-–-updated-list-of-approved-breaking-yards-(8th-edition)_en\n",
      "Title:  EFSI 2.0 ex-post evaluation \n",
      "Status:  OPEN\n",
      "Topic:  Economy, finance and the euro\n",
      "Type of act:  None\n",
      "End date:  2021-06-07\n",
      "Link:  https://ec.europa.eu/info/law/better-regulation/have-your-say/initiatives/13021-EFSI-2.0-ex-post-evaluation-_en\n",
      "Title:  A European Health Data Space \n",
      "Status:  OPEN\n",
      "Topic:  Public health\n",
      "Type of act:  PROP_REG\n",
      "End date:  2021-07-26\n",
      "Link:  https://ec.europa.eu/info/law/better-regulation/have-your-say/initiatives/12663-A-European-Health-Data-Space-_en\n",
      "Title:  Revision of the Urban Wastewater Treatment Directive\n",
      "Status:  OPEN\n",
      "Topic:  Environment\n",
      "Type of act:  PROP_DIR\n",
      "End date:  2021-07-21\n",
      "Link:  https://ec.europa.eu/info/law/better-regulation/have-your-say/initiatives/12405-Revision-of-the-Urban-Wastewater-Treatment-Directive_en\n",
      "Title:  Revision of the Machinery Directive\n",
      "Status:  OPEN\n",
      "Topic:  Single market\n",
      "Type of act:  PROP_REG\n",
      "End date:  2021-07-30\n",
      "Link:  https://ec.europa.eu/info/law/better-regulation/have-your-say/initiatives/2019-Revision-of-the-Machinery-Directive_en\n",
      "Title:  Revision of Non-Financial Reporting Directive\n",
      "Status:  OPEN\n",
      "Topic:  Banking and financial services\n",
      "Type of act:  PROP_DIR\n",
      "End date:  2021-07-14\n",
      "Link:  https://ec.europa.eu/info/law/better-regulation/have-your-say/initiatives/12129-Revision-of-Non-Financial-Reporting-Directive_en\n",
      "Title:  Mid-term evaluation of the Union Customs Code \n",
      "Status:  OPEN\n",
      "Topic:  Customs\n",
      "Type of act:  REPORT\n",
      "End date:  2021-07-19\n",
      "Link:  https://ec.europa.eu/info/law/better-regulation/have-your-say/initiatives/11968-Mid-term-evaluation-of-the-Union-Customs-Code-_en\n",
      "Title:  Setting up an Infrastructure for Spatial Information (INSPIRE) - Evaluation of the Directive\n",
      "Status:  OPEN\n",
      "Topic:  Environment\n",
      "Type of act:  None\n",
      "End date:  2021-07-12\n",
      "Link:  https://ec.europa.eu/info/law/better-regulation/have-your-say/initiatives/12427-Setting-up-an-Infrastructure-for-Spatial-Information-(INSPIRE)---Evaluation-of-the-Directive_en\n",
      "Title:  EU police cooperation\n",
      "Status:  OPEN\n",
      "Topic:  Home affairs\n",
      "Type of act:  PROP_REG\n",
      "End date:  2021-06-14\n",
      "Link:  https://ec.europa.eu/info/law/better-regulation/have-your-say/initiatives/12614-EU-police-cooperation_en\n",
      "Title:  Information and promotion measures for agricultural and food products in the internal market and in non-EU countries\n",
      "Status:  OPEN\n",
      "Topic:  Agriculture and rural development\n",
      "Type of act:  PROP_REG\n",
      "End date:  2021-06-23\n",
      "Link:  https://ec.europa.eu/info/law/better-regulation/have-your-say/initiatives/12782-Information-and-promotion-measures-for-agricultural-and-food-products-in-the-internal-market-and-in-non-EU-countries_en\n",
      "Title:  Instant Payments \n",
      "Status:  OPEN\n",
      "Topic:  Banking and financial services\n",
      "Type of act:  PROP_REG\n",
      "End date:  2021-06-23\n",
      "Link:  https://ec.europa.eu/info/law/better-regulation/have-your-say/initiatives/12931-Instant-Payments-_en\n",
      "Title:  Revision of the Regulation on the statute and funding of European political parties\n",
      "Status:  OPEN\n",
      "Topic:  Institutional affairs\n",
      "Type of act:  PROP_REG\n",
      "End date:  2021-06-22\n",
      "Link:  https://ec.europa.eu/info/law/better-regulation/have-your-say/initiatives/12811-Revision-of-the-Regulation-on-the-statute-and-funding-of-European-political-parties_en\n",
      "Title:  Meta-evaluation of macro-financial assistance operations (2010 – 2020).\n",
      "Status:  OPEN\n",
      "Topic:  Economy, finance and the euro\n",
      "Type of act:  SWD\n",
      "End date:  2021-06-22\n",
      "Link:  https://ec.europa.eu/info/law/better-regulation/have-your-say/initiatives/12146-Meta-evaluation-of-macro-financial-assistance-operations-(2010-–-2020)._en\n",
      "Title:  Revision of the Energy Performance of Buildings Directive 2010/31/EU\n",
      "Status:  OPEN\n",
      "Topic:  Energy\n",
      "Type of act:  PROP_DIR\n",
      "End date:  2021-06-22\n",
      "Link:  https://ec.europa.eu/info/law/better-regulation/have-your-say/initiatives/12910-Revision-of-the-Energy-Performance-of-Buildings-Directive-2010/31/EU_en\n",
      "Title:  Revision of EU rules on Gas\n",
      "Status:  OPEN\n",
      "Topic:  Energy\n",
      "Type of act:  PROP_REG\n",
      "End date:  2021-06-18\n",
      "Link:  https://ec.europa.eu/info/law/better-regulation/have-your-say/initiatives/12911-Revision-of-EU-rules-on-Gas_en\n",
      "Title:  Revision of EU rules on Gas \n",
      "Status:  OPEN\n",
      "Topic:  Energy\n",
      "Type of act:  PROP_REG\n",
      "End date:  2021-06-18\n",
      "Link:  https://ec.europa.eu/info/law/better-regulation/have-your-say/initiatives/12766-Revision-of-EU-rules-on-Gas-_en\n",
      "Title:  Evaluation of Directive (EU) 2017/541 on combating terrorism\n",
      "Status:  OPEN\n",
      "Topic:  Home affairs\n",
      "Type of act:  None\n",
      "End date:  2021-06-16\n",
      "Link:  https://ec.europa.eu/info/law/better-regulation/have-your-say/initiatives/12545-Evaluation-of-Directive-(EU)-2017/541-on-combating-terrorism_en\n",
      "Title:  Instrument to deter and counteract coercive actions by third countries \n",
      "Status:  OPEN\n",
      "Topic:  Trade\n",
      "Type of act:  PROP_REG\n",
      "End date:  2021-06-15\n",
      "Link:  https://ec.europa.eu/info/law/better-regulation/have-your-say/initiatives/12803-Instrument-to-deter-and-counteract-coercive-actions-by-third-countries-_en\n",
      "Title:  Sustainable Products Initiative\n",
      "Status:  OPEN\n",
      "Topic:  Environment\n",
      "Type of act:  PROP_DIR\n",
      "End date:  2021-06-09\n",
      "Link:  https://ec.europa.eu/info/law/better-regulation/have-your-say/initiatives/12567-Sustainable-Products-Initiative_en\n",
      "Title:  Proposal for a Regulation - Migration and Home Affairs\n",
      "Status:  OPEN\n",
      "Topic:  Migration and asylum\n",
      "Type of act:  PROP_REG\n",
      "End date:  2021-07-30\n",
      "Link:  https://ec.europa.eu/info/law/better-regulation/have-your-say/initiatives/12629-Proposal-for-a-Regulation---Migration-and-Home-Affairs_en\n"
     ]
    }
   ],
   "source": [
    "consultation = get_consultations()\n",
    "checkbox_val_1 = st.checkbox(\"Open\")\n",
    "checkbox_val_2 = st.checkbox(\"Closed\")\n",
    "checkbox_val_3 = st.checkbox(\"Upcoming\")\n",
    "checkbox_val_4 = st.checkbox(\"Disabled\")\n",
    "checkbox_val_5 = st.checkbox(\"Other\")\n",
    "expander2=st.beta_expander(\"expand\")\n",
    "\n",
    "for i in consultation:\n",
    "    if i[\"status\"]==\"OPEN\":\n",
    "        print('Title: ',i[\"title\"])\n",
    "        print('Status: ',i[\"status\"])                \n",
    "        print('Topic: ',i[\"topics\"])\n",
    "        print('Type of act: ',i[\"type_of_act\"])\n",
    "        print('End date: ',i[\"end_date\"])\n",
    "        print('Link: ',i[\"link\"])\n",
    "    else:\n",
    "        None\n",
    "\n"
   ]
  },
  {
   "cell_type": "code",
   "execution_count": null,
   "id": "5dde27b7",
   "metadata": {},
   "outputs": [],
   "source": []
  }
 ],
 "metadata": {
  "kernelspec": {
   "display_name": "Python 3",
   "language": "python",
   "name": "python3"
  },
  "language_info": {
   "codemirror_mode": {
    "name": "ipython",
    "version": 3
   },
   "file_extension": ".py",
   "mimetype": "text/x-python",
   "name": "python",
   "nbconvert_exporter": "python",
   "pygments_lexer": "ipython3",
   "version": "3.8.6"
  },
  "toc": {
   "base_numbering": 1,
   "nav_menu": {},
   "number_sections": true,
   "sideBar": true,
   "skip_h1_title": false,
   "title_cell": "Table of Contents",
   "title_sidebar": "Contents",
   "toc_cell": false,
   "toc_position": {},
   "toc_section_display": true,
   "toc_window_display": false
  }
 },
 "nbformat": 4,
 "nbformat_minor": 5
}

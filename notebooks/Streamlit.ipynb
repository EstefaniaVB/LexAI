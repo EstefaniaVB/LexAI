{
 "cells": [
  {
   "cell_type": "code",
   "execution_count": 22,
   "id": "0782b34b",
   "metadata": {},
   "outputs": [
    {
     "name": "stdout",
     "output_type": "stream",
     "text": [
      "None\n"
     ]
    }
   ],
   "source": [
    "import streamlit as st\n",
    "'''\n",
    "# LexAI Website !!!\n",
    "It's beautiful\n",
    "'''\n",
    "\n",
    "\n",
    "# API QUERIES\n",
    "query = st.text_input(\"Search for a topic\", 'agriculture')\n",
    "\n",
    "import requests\n",
    "\n",
    "#indices=['eurlex', 'consultations', 'twitter_query', 'twitter_press', 'twitter_politicians'])\n",
    "\n",
    "\n",
    "## TWITTER\n",
    "#lexai_twitter_url = \"http://127.0.0.1:8000/predict\"\n",
    "#tweet_params=dict(keyword=query)\n",
    "#tweet_likes = requests.get(lexai_twitter_url,params=tweet_params).json()\n",
    "\n",
    "'''\n",
    "## Twitter says nothing\n",
    "'''\n",
    "print(st.write('Tweets about this topic were liked by', 'people on Twitter'))\n",
    "\n",
    "## Dashboard Style\n",
    "\n",
    "\n",
    "\n",
    "## EURLEX\n",
    "'''\n",
    "## REGULATIONS\n",
    "'''\n",
    "lexai_eurlex_url = \"http://127.0.0.1:8000/query\"\n",
    "tweet_params=dict(query=query,n=5)\n",
    "eurlex = requests.get(lexai_eurlex_url,params=tweet_params).json()\n",
    "for i in eurlex:\n",
    "    st.write(eurlex[str(i)]['title'])\n",
    "    st.write(eurlex[i]['author'])\n",
    "    st.write(eurlex[i]['date'])\n",
    "    st.write(eurlex[i]['link'])\n"
   ]
  },
  {
   "cell_type": "code",
   "execution_count": 33,
   "id": "a2d44f41",
   "metadata": {},
   "outputs": [
    {
     "data": {
      "text/plain": [
       "str"
      ]
     },
     "execution_count": 33,
     "metadata": {},
     "output_type": "execute_result"
    }
   ],
   "source": [
    "eurlex[str(0)]['date']\n"
   ]
  },
  {
   "cell_type": "code",
   "execution_count": 29,
   "id": "ca606488",
   "metadata": {},
   "outputs": [
    {
     "ename": "KeyError",
     "evalue": "'status'",
     "output_type": "error",
     "traceback": [
      "\u001b[0;31m---------------------------------------------------------------------------\u001b[0m",
      "\u001b[0;31mKeyError\u001b[0m                                  Traceback (most recent call last)",
      "\u001b[0;32m<ipython-input-29-147452818987>\u001b[0m in \u001b[0;36m<module>\u001b[0;34m\u001b[0m\n\u001b[1;32m      7\u001b[0m \u001b[0mconsults\u001b[0m \u001b[0;34m=\u001b[0m \u001b[0mrequests\u001b[0m\u001b[0;34m.\u001b[0m\u001b[0mget\u001b[0m\u001b[0;34m(\u001b[0m\u001b[0mlexai_eurlex_url\u001b[0m\u001b[0;34m,\u001b[0m\u001b[0mparams\u001b[0m\u001b[0;34m=\u001b[0m\u001b[0mconsults_params\u001b[0m\u001b[0;34m)\u001b[0m\u001b[0;34m.\u001b[0m\u001b[0mjson\u001b[0m\u001b[0;34m(\u001b[0m\u001b[0;34m)\u001b[0m\u001b[0;34m\u001b[0m\u001b[0;34m\u001b[0m\u001b[0m\n\u001b[1;32m      8\u001b[0m \u001b[0;32mfor\u001b[0m \u001b[0mi\u001b[0m \u001b[0;32min\u001b[0m \u001b[0mconsults\u001b[0m\u001b[0;34m:\u001b[0m\u001b[0;34m\u001b[0m\u001b[0;34m\u001b[0m\u001b[0m\n\u001b[0;32m----> 9\u001b[0;31m     \u001b[0;32mif\u001b[0m \u001b[0mconsults\u001b[0m\u001b[0;34m[\u001b[0m\u001b[0mstr\u001b[0m\u001b[0;34m(\u001b[0m\u001b[0mi\u001b[0m\u001b[0;34m)\u001b[0m\u001b[0;34m]\u001b[0m\u001b[0;34m[\u001b[0m\u001b[0;34m'status'\u001b[0m\u001b[0;34m]\u001b[0m\u001b[0;34m==\u001b[0m\u001b[0;34m'OPEN'\u001b[0m\u001b[0;34m:\u001b[0m\u001b[0;34m\u001b[0m\u001b[0;34m\u001b[0m\u001b[0m\n\u001b[0m\u001b[1;32m     10\u001b[0m         \u001b[0mst\u001b[0m\u001b[0;34m.\u001b[0m\u001b[0mwrite\u001b[0m\u001b[0;34m(\u001b[0m\u001b[0;34m'Title: '\u001b[0m\u001b[0;34m,\u001b[0m\u001b[0mconsults\u001b[0m\u001b[0;34m[\u001b[0m\u001b[0mi\u001b[0m\u001b[0;34m]\u001b[0m\u001b[0;34m[\u001b[0m\u001b[0;34m'title'\u001b[0m\u001b[0;34m]\u001b[0m\u001b[0;34m)\u001b[0m\u001b[0;34m\u001b[0m\u001b[0;34m\u001b[0m\u001b[0m\n\u001b[1;32m     11\u001b[0m         \u001b[0mst\u001b[0m\u001b[0;34m.\u001b[0m\u001b[0mwrite\u001b[0m\u001b[0;34m(\u001b[0m\u001b[0;34m'Type of act: '\u001b[0m\u001b[0;34m,\u001b[0m\u001b[0mconsults\u001b[0m\u001b[0;34m[\u001b[0m\u001b[0mi\u001b[0m\u001b[0;34m]\u001b[0m\u001b[0;34m[\u001b[0m\u001b[0;34m'type_of_act'\u001b[0m\u001b[0;34m]\u001b[0m\u001b[0;34m)\u001b[0m\u001b[0;34m\u001b[0m\u001b[0;34m\u001b[0m\u001b[0m\n",
      "\u001b[0;31mKeyError\u001b[0m: 'status'"
     ]
    }
   ],
   "source": [
    "# CONSULTS\n",
    "'''\n",
    "## OPEN CONSULTATIONS\n",
    "'''\n",
    "lexai_eurlex_url = \"http://127.0.0.1:8000/query\"\n",
    "consults_params=dict(query=query,index='consultations',n=50)\n",
    "consults = requests.get(lexai_eurlex_url,params=consults_params).json()\n",
    "for i in consults:\n",
    "    if consults[str(i)]['status']=='OPEN':\n",
    "        st.write('Title: ',consults[i]['title'])\n",
    "        st.write('Type of act: ',consults[i]['type_of_act'])\n",
    "        st.write('Start date: ',consults[i]['start_date'])\n",
    "        st.write('End date: ',consults[i]['end_date'])\n",
    "        st.write('Link: ',consults[i]['link'])"
   ]
  },
  {
   "cell_type": "code",
   "execution_count": 31,
   "id": "4f686799",
   "metadata": {},
   "outputs": [
    {
     "data": {
      "text/plain": [
       "{'title': 'Agriculture - List of products and substances authorised in organic production',\n",
       " 'type_of_act': 'REG_IMPL',\n",
       " 'topics': 'Agriculture and rural development',\n",
       " 'start_date': '2021/03/26',\n",
       " 'end_date': '2021/04/23',\n",
       " 'link': 'https://ec.europa.eu/info/law/better-regulation/have-your-say/initiatives/12377-Agriculture---List-of-products-and-substances-authorised-in-organic-production_en'}"
      ]
     },
     "execution_count": 31,
     "metadata": {},
     "output_type": "execute_result"
    }
   ],
   "source": [
    "consults[str(0)]"
   ]
  },
  {
   "cell_type": "code",
   "execution_count": null,
   "id": "dbfb30fe",
   "metadata": {},
   "outputs": [],
   "source": []
  }
 ],
 "metadata": {
  "kernelspec": {
   "display_name": "Python 3",
   "language": "python",
   "name": "python3"
  },
  "language_info": {
   "codemirror_mode": {
    "name": "ipython",
    "version": 3
   },
   "file_extension": ".py",
   "mimetype": "text/x-python",
   "name": "python",
   "nbconvert_exporter": "python",
   "pygments_lexer": "ipython3",
   "version": "3.8.6"
  },
  "toc": {
   "base_numbering": 1,
   "nav_menu": {},
   "number_sections": true,
   "sideBar": true,
   "skip_h1_title": false,
   "title_cell": "Table of Contents",
   "title_sidebar": "Contents",
   "toc_cell": false,
   "toc_position": {},
   "toc_section_display": true,
   "toc_window_display": false
  }
 },
 "nbformat": 4,
 "nbformat_minor": 5
}

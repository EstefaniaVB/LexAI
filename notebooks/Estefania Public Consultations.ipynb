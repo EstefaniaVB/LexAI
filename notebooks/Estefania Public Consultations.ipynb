{
 "cells": [
  {
   "cell_type": "code",
   "execution_count": 48,
   "id": "6c43ff09",
   "metadata": {},
   "outputs": [],
   "source": [
    "import sys\n",
    "from os import path\n",
    "import csv\n",
    "import requests\n",
    "from bs4 import BeautifulSoup"
   ]
  },
  {
   "cell_type": "code",
   "execution_count": 82,
   "id": "445a9be2",
   "metadata": {},
   "outputs": [],
   "source": [
    "# FILTER BY keyword\n",
    "SEARCH_URL = \"https://ec.europa.eu/info/law/better-regulation/have-your-say/initiatives_en?text=agriculture\"\n",
    "PAGES_TO_SCRAPE = 1\n",
    "\n",
    "\n",
    "response = requests.get(SEARCH_URL)#, params={\"text\": \"rural\"})\n",
    "soup = BeautifulSoup(response.content, \"html.parser\")\n",
    "consultations = []\n",
    "for consultation in soup.find_all(\"article\", class_=\"search-result-item ecl-u-mt-s ecl-u-pb-xs ecl-u-pb-lg-m ecl-u-border-bottom ecl-u-border-color-grey-15\"):\n",
    "    status = consultation.find('span', class_= \"label label--status-open\").string.strip()\n",
    "    title = consultation.find('div', class_= 'search-result-title ecl-u-type-none ecl-u-mv-s ecl-u-type-prolonged-m ecl-u-type-bold ecl-link').string.strip()\n",
    "    topics = consultation.find('div', class_= 'ecl-col-sm-12 ecl-col-md-9').string.strip()\n",
    "    type_of_act = consultation.find('div', class_= 'ecl-col-sm-12 ecl-col-md-9').string.strip()\n",
    "    consultation_period = consultation.find('div', class_= 'ecl-col-sm-12 ecl-col-md-9 ecl-u-type-capitalize').string.strip()\n",
    "    link = consultation.find('div', class_= 'field__items').string.strip()\n",
    "    consultations.append({'status': status, 'title': title,'topics': topics,\"type_of_act\":type_of_act,\"consultation_period\": consultation_period})"
   ]
  },
  {
   "cell_type": "code",
   "execution_count": 83,
   "id": "6f7ab4a2",
   "metadata": {},
   "outputs": [
    {
     "data": {
      "text/plain": [
       "[]"
      ]
     },
     "execution_count": 83,
     "metadata": {},
     "output_type": "execute_result"
    }
   ],
   "source": [
    "consultations"
   ]
  },
  {
   "cell_type": "code",
   "execution_count": 10,
   "id": "96944224",
   "metadata": {},
   "outputs": [
    {
     "name": "stderr",
     "output_type": "stream",
     "text": [
      "/Users/estefaniavidalbouzon/.pyenv/versions/3.8.6/envs/lewagon/lib/python3.8/site-packages/bs4/__init__.py:417: MarkupResemblesLocatorWarning: \"https://ec.europa.eu/info/consultations_en\" looks like a URL. Beautiful Soup is not an HTTP client. You should probably use an HTTP client like requests to get the document behind the URL, and feed that document to Beautiful Soup.\n",
      "  warnings.warn(\n"
     ]
    },
    {
     "data": {
      "text/plain": [
       "[]"
      ]
     },
     "execution_count": 10,
     "metadata": {},
     "output_type": "execute_result"
    }
   ],
   "source": [
    "\n",
    "def scrape_from_internet(ingredient, start=1):\n",
    "    print(f\"Scraping page {start}\")\n",
    "    response = requests.get(\n",
    "        SEARCH_URL,\n",
    "        params={'text': ingredient, 'page': start}\n",
    "        )\n",
    "    # We can check the reponse history to see if there is a re-direct\n",
    "    if response.history:\n",
    "        return None\n",
    "    return response.text\n",
    "\n",
    "\n",
    "\n",
    "def parse(html):\n",
    "    soup = BeautifulSoup(html, \"html.parser\")\n",
    "    return [parse_consultation(article) for article in soup.find_all('div', class_= 'listing__column-main ')]\n",
    "\n",
    "\n",
    "\n",
    "# RETRIEVE CONSULTATION STATUS\n",
    "\n",
    "def parse_consultation(article):\n",
    "    status = article.find('span', class_= \"label label--status\").string.strip()\n",
    "    title = article.find('h3', class_= 'listing__title').string.strip()\n",
    "    topics = article.find('span', class_= 'field__items').string.strip()\n",
    "    consultation_period = article.find('div', class_= 'field__items').string.strip()\n",
    "    return {'status': status, 'title': title, 'topics': topics, \"consultation_period\": consultation_period}\n",
    "\n",
    "# RETRIEVE TITLE \n",
    "for page in range(PAGES_TO_SCRAPE):\n",
    "            response = scrape_from_internet(ingredient, page+1)\n",
    "            if response:\n",
    "                recipes += parse(response)\n",
    "            else:\n",
    "                break\n",
    "        write_csv(ingredient, recipes)\n",
    "        print(f\"Wrote recipes to recipes/{ingredient}.csv\")\n",
    "\n",
    "# RETRIEVE CONSULTATION PERIOD"
   ]
  }
 ],
 "metadata": {
  "kernelspec": {
   "display_name": "Python 3",
   "language": "python",
   "name": "python3"
  },
  "language_info": {
   "codemirror_mode": {
    "name": "ipython",
    "version": 3
   },
   "file_extension": ".py",
   "mimetype": "text/x-python",
   "name": "python",
   "nbconvert_exporter": "python",
   "pygments_lexer": "ipython3",
   "version": "3.8.6"
  },
  "toc": {
   "base_numbering": 1,
   "nav_menu": {},
   "number_sections": true,
   "sideBar": true,
   "skip_h1_title": false,
   "title_cell": "Table of Contents",
   "title_sidebar": "Contents",
   "toc_cell": false,
   "toc_position": {},
   "toc_section_display": true,
   "toc_window_display": false
  }
 },
 "nbformat": 4,
 "nbformat_minor": 5
}

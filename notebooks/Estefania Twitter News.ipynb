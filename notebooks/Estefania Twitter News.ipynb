{
 "cells": [
  {
   "cell_type": "markdown",
   "id": "269812a0",
   "metadata": {},
   "source": [
    "## Twitter News detection"
   ]
  },
  {
   "cell_type": "code",
   "execution_count": 335,
   "id": "af7547ed",
   "metadata": {},
   "outputs": [],
   "source": [
    "import os\n",
    "from os.path import join\n",
    "from dotenv import load_dotenv\n",
    "from IPython.core.display import display, HTML\n",
    "import json\n",
    "from twython import Twython\n",
    "import pandas as pd\n",
    "import geocoder\n",
    "import os"
   ]
  },
  {
   "cell_type": "code",
   "execution_count": 336,
   "id": "b0a2dd1a",
   "metadata": {},
   "outputs": [],
   "source": [
    "pwd =\"/Users/estefaniavidalbouzon/code/EstefaniaVB/LexAI/LexAI/\""
   ]
  },
  {
   "cell_type": "code",
   "execution_count": 337,
   "id": "b15e94ff",
   "metadata": {},
   "outputs": [
    {
     "data": {
      "text/plain": [
       "'/Users/estefaniavidalbouzon/code/EstefaniaVB/LexAI/LexAI/'"
      ]
     },
     "execution_count": 337,
     "metadata": {},
     "output_type": "execute_result"
    }
   ],
   "source": [
    "pwd"
   ]
  },
  {
   "cell_type": "code",
   "execution_count": 338,
   "id": "0629e186",
   "metadata": {
    "scrolled": true
   },
   "outputs": [
    {
     "data": {
      "text/plain": [
       "True"
      ]
     },
     "execution_count": 338,
     "metadata": {},
     "output_type": "execute_result"
    }
   ],
   "source": [
    "env_path = join(pwd,'.env') # ../.env\n",
    "load_dotenv(dotenv_path=env_path)"
   ]
  },
  {
   "cell_type": "code",
   "execution_count": 339,
   "id": "ff548a7a",
   "metadata": {},
   "outputs": [],
   "source": [
    "inv = load_dotenv(dotenv_path=env_path)"
   ]
  },
  {
   "cell_type": "code",
   "execution_count": 340,
   "id": "8f9cca30",
   "metadata": {},
   "outputs": [],
   "source": [
    "client = Twython(creds['consumer_key'],\n",
    "                  creds['consumer_secret'],\n",
    "                  creds['access_token'],\n",
    "                  creds['access_token_secret'])"
   ]
  },
  {
   "cell_type": "code",
   "execution_count": 341,
   "id": "be4d52dc",
   "metadata": {},
   "outputs": [],
   "source": [
    "CONSUMER_KEY = os.getenv('CONSUMER_KEY')\n",
    "CONSUMER_SECRET = os.getenv(\"CONSUMER_SECRET\")\n",
    "ACCESS_TOKEN = os.getenv(\"ACCESS_TOKEN\")\n",
    "ACCESS_SECRET = os.getenv(\"ACCESS_SECRET\")"
   ]
  },
  {
   "cell_type": "code",
   "execution_count": 342,
   "id": "78f70021",
   "metadata": {},
   "outputs": [],
   "source": [
    "creds = {\n",
    "   \"consumer_key\": CONSUMER_KEY,\n",
    "   \"consumer_secret\": CONSUMER_SECRET,\n",
    "   \"access_token\": ACCESS_TOKEN,\n",
    "   \"access_token_secret\": ACCESS_SECRET\n",
    "}"
   ]
  },
  {
   "cell_type": "code",
   "execution_count": 343,
   "id": "312614aa",
   "metadata": {},
   "outputs": [],
   "source": [
    "python_tweets = Twython(CONSUMER_KEY, CONSUMER_SECRET)"
   ]
  },
  {
   "cell_type": "code",
   "execution_count": 344,
   "id": "ac58243b",
   "metadata": {},
   "outputs": [],
   "source": [
    "client = Twython(creds['consumer_key'],\n",
    "                  creds['consumer_secret'],\n",
    "                  creds['access_token'],\n",
    "                  creds['access_token_secret'])"
   ]
  },
  {
   "cell_type": "code",
   "execution_count": 345,
   "id": "30ed545e",
   "metadata": {},
   "outputs": [],
   "source": [
    "result = python_tweets.show_user(screen_name=\"el_pais\")"
   ]
  },
  {
   "cell_type": "code",
   "execution_count": 346,
   "id": "69c22f26",
   "metadata": {},
   "outputs": [
    {
     "data": {
      "text/plain": [
       "{'created_at': 'Wed Jun 02 14:24:00 +0000 2021',\n",
       " 'id': 1400095860155899907,\n",
       " 'id_str': '1400095860155899907',\n",
       " 'text': 'La colección cápsula, ajena al calendario, apunta a un nuevo camino en el que las firmas colaboran entre ellas y se… https://t.co/0ZjwcANa6I',\n",
       " 'truncated': True,\n",
       " 'entities': {'hashtags': [],\n",
       "  'symbols': [],\n",
       "  'user_mentions': [],\n",
       "  'urls': [{'url': 'https://t.co/0ZjwcANa6I',\n",
       "    'expanded_url': 'https://twitter.com/i/web/status/1400095860155899907',\n",
       "    'display_url': 'twitter.com/i/web/status/1…',\n",
       "    'indices': [117, 140]}]},\n",
       " 'source': '<a href=\"https://about.twitter.com/products/tweetdeck\" rel=\"nofollow\">TweetDeck</a>',\n",
       " 'in_reply_to_status_id': None,\n",
       " 'in_reply_to_status_id_str': None,\n",
       " 'in_reply_to_user_id': None,\n",
       " 'in_reply_to_user_id_str': None,\n",
       " 'in_reply_to_screen_name': None,\n",
       " 'user': {'id': 52401992,\n",
       "  'id_str': '52401992',\n",
       "  'name': 'S Moda',\n",
       "  'screen_name': 'smoda',\n",
       "  'location': 'España',\n",
       "  'description': 'La revista femenina de EL PAÍS. Cada tercer sábado de mes, con el diario de papel. Cada día, en nuestra web.',\n",
       "  'url': 'https://t.co/vV5KynDr9u',\n",
       "  'entities': {'url': {'urls': [{'url': 'https://t.co/vV5KynDr9u',\n",
       "      'expanded_url': 'http://smoda.elpais.com/',\n",
       "      'display_url': 'smoda.elpais.com',\n",
       "      'indices': [0, 23]}]},\n",
       "   'description': {'urls': []}},\n",
       "  'protected': False,\n",
       "  'followers_count': 346847,\n",
       "  'friends_count': 1397,\n",
       "  'listed_count': 1941,\n",
       "  'created_at': 'Tue Jun 30 14:03:04 +0000 2009',\n",
       "  'favourites_count': 0,\n",
       "  'utc_offset': None,\n",
       "  'time_zone': None,\n",
       "  'geo_enabled': True,\n",
       "  'verified': True,\n",
       "  'statuses_count': 68461,\n",
       "  'lang': None,\n",
       "  'contributors_enabled': False,\n",
       "  'is_translator': False,\n",
       "  'is_translation_enabled': False,\n",
       "  'profile_background_color': '000000',\n",
       "  'profile_background_image_url': 'http://abs.twimg.com/images/themes/theme7/bg.gif',\n",
       "  'profile_background_image_url_https': 'https://abs.twimg.com/images/themes/theme7/bg.gif',\n",
       "  'profile_background_tile': False,\n",
       "  'profile_image_url': 'http://pbs.twimg.com/profile_images/881847151059488768/qD1Gn9dw_normal.jpg',\n",
       "  'profile_image_url_https': 'https://pbs.twimg.com/profile_images/881847151059488768/qD1Gn9dw_normal.jpg',\n",
       "  'profile_banner_url': 'https://pbs.twimg.com/profile_banners/52401992/1621424289',\n",
       "  'profile_link_color': '990000',\n",
       "  'profile_sidebar_border_color': 'DFDFDF',\n",
       "  'profile_sidebar_fill_color': 'F3F3F3',\n",
       "  'profile_text_color': '333333',\n",
       "  'profile_use_background_image': True,\n",
       "  'has_extended_profile': False,\n",
       "  'default_profile': False,\n",
       "  'default_profile_image': False,\n",
       "  'following': None,\n",
       "  'follow_request_sent': None,\n",
       "  'notifications': None,\n",
       "  'translator_type': 'none',\n",
       "  'withheld_in_countries': []},\n",
       " 'geo': None,\n",
       " 'coordinates': None,\n",
       " 'place': None,\n",
       " 'contributors': None,\n",
       " 'is_quote_status': False,\n",
       " 'retweet_count': 2,\n",
       " 'favorite_count': 6,\n",
       " 'favorited': False,\n",
       " 'retweeted': False,\n",
       " 'possibly_sensitive': False,\n",
       " 'possibly_sensitive_appealable': False,\n",
       " 'lang': 'es'}"
      ]
     },
     "execution_count": 346,
     "metadata": {},
     "output_type": "execute_result"
    }
   ],
   "source": [
    "python_tweets.show_status(id=1400095860155899907)"
   ]
  },
  {
   "cell_type": "code",
   "execution_count": 347,
   "id": "b502e38d",
   "metadata": {
    "scrolled": false
   },
   "outputs": [],
   "source": [
    "query = {'q': 'el_pais',\n",
    "        'result_type': 'mixed',  # other options 'mixed','popular','recent'\n",
    "        'count': 20,   # max 100\n",
    "         # 'until':\"2019-02-01\",\n",
    "         #'geocode': '50.0598058,14.3255426,1000km'\n",
    "        }\n",
    "\n",
    "dict_ = {'user': [],\n",
    "         'id': [],\n",
    "         'url': [],\n",
    "         #'date': [],\n",
    "         'text': [],\n",
    "         \"source\":[],\n",
    "         #'favorite_count': [],\n",
    "         #'retweet_count': [],\n",
    "         #'user_loc': [],\n",
    "         #'followers_count': [],\n",
    "         #'lang': [],\n",
    "         #'user_desc': [],\n",
    "         #'hashtags': [],\n",
    "         'user_verified': []\n",
    "         #'geo': [],\n",
    "         #'coordinates':[],\n",
    "         #'place':[],\n",
    "         #'user_loc_country':[]         \n",
    "        }\n",
    "  #'entities': {'url': {'urls': [{'url': 'https://t.co/vV5KynDr9u',\n",
    "\n",
    "\n",
    "for status in python_tweets.search(**query)['statuses']:\n",
    "    dict_['user'].append(status['user']['screen_name'])\n",
    "    dict_['id'].append(status['id'])\n",
    "    dict_['url'].append(status[\"entities\"][\"urls\"])\n",
    "    #dict_['date'].append(status['created_at'])\n",
    "    dict_['text'].append(status['text'])\n",
    "    dict_['source'].append(status['source'])\n",
    "    #dict_['favorite_count'].append(status['favorite_count'])\n",
    "    #dict_['user_loc'].append( status['user']['location'])\n",
    "    #dict_['followers_count'].append(status['user']['followers_count'])\n",
    "    #dict_['lang'].append(status['lang'])\n",
    "    #dict_['user_desc'].append(status['user']['description'])\n",
    "    dict_['user_verified'].append(status['user']['verified'])\n",
    "    #dict_['hashtags'].append(status['entities']['hashtags'])\n",
    "    #dict_['retweet_count'].append(status['retweet_count'])\n",
    "    #dict_['geo'].append(status['geo'])\n",
    "    #dict_['coordinates'].append(status['coordinates'])\n",
    "    #dict_['place'].append(status['place'])\n",
    "    #dict_['user_loc_country'].append(status['user']['derived']['locations']['country'])\n",
    "    \n",
    "df = pd.DataFrame(dict_)\n",
    "#dict_['text']\n"
   ]
  },
  {
   "cell_type": "code",
   "execution_count": 348,
   "id": "b818bedf",
   "metadata": {},
   "outputs": [
    {
     "data": {
      "text/html": [
       "<div>\n",
       "<style scoped>\n",
       "    .dataframe tbody tr th:only-of-type {\n",
       "        vertical-align: middle;\n",
       "    }\n",
       "\n",
       "    .dataframe tbody tr th {\n",
       "        vertical-align: top;\n",
       "    }\n",
       "\n",
       "    .dataframe thead th {\n",
       "        text-align: right;\n",
       "    }\n",
       "</style>\n",
       "<table border=\"1\" class=\"dataframe\">\n",
       "  <thead>\n",
       "    <tr style=\"text-align: right;\">\n",
       "      <th></th>\n",
       "      <th>user</th>\n",
       "      <th>id</th>\n",
       "      <th>url</th>\n",
       "      <th>text</th>\n",
       "      <th>source</th>\n",
       "      <th>user_verified</th>\n",
       "    </tr>\n",
       "  </thead>\n",
       "  <tbody>\n",
       "    <tr>\n",
       "      <th>0</th>\n",
       "      <td>GustavoBolivar</td>\n",
       "      <td>1399822270676283392</td>\n",
       "      <td>[{'url': 'https://t.co/xTzJNKq0DX', 'expanded_...</td>\n",
       "      <td>#AndresEscobaralaCarcel\\n¡Qué vergüenza!\\nEl p...</td>\n",
       "      <td>&lt;a href=\"http://twitter.com/download/iphone\" r...</td>\n",
       "      <td>True</td>\n",
       "    </tr>\n",
       "    <tr>\n",
       "      <th>1</th>\n",
       "      <td>KRLS</td>\n",
       "      <td>1400134452806836227</td>\n",
       "      <td>[{'url': 'https://t.co/YxEhE43xti', 'expanded_...</td>\n",
       "      <td>Llàstima. Segur que la ministra espanyola li v...</td>\n",
       "      <td>&lt;a href=\"http://twitter.com/#!/download/ipad\" ...</td>\n",
       "      <td>True</td>\n",
       "    </tr>\n",
       "    <tr>\n",
       "      <th>2</th>\n",
       "      <td>MariaFdaCabal</td>\n",
       "      <td>1399904783687880707</td>\n",
       "      <td>[{'url': 'https://t.co/TkeK3kCccx', 'expanded_...</td>\n",
       "      <td>#SoyCabal | ¡Pilas, caleños! Reaccionemos, o s...</td>\n",
       "      <td>&lt;a href=\"https://studio.twitter.com\" rel=\"nofo...</td>\n",
       "      <td>True</td>\n",
       "    </tr>\n",
       "    <tr>\n",
       "      <th>3</th>\n",
       "      <td>Manolo67554861</td>\n",
       "      <td>1400345617486991360</td>\n",
       "      <td>[]</td>\n",
       "      <td>RT @AngelesMarra: Hoy comparto mi columna ⁦@pu...</td>\n",
       "      <td>&lt;a href=\"http://twitter.com/download/android\" ...</td>\n",
       "      <td>False</td>\n",
       "    </tr>\n",
       "    <tr>\n",
       "      <th>4</th>\n",
       "      <td>calisrafa2</td>\n",
       "      <td>1400345613951250432</td>\n",
       "      <td>[]</td>\n",
       "      <td>RT @Jahfrann: En Cali siguen atacando la comun...</td>\n",
       "      <td>&lt;a href=\"https://mobile.twitter.com\" rel=\"nofo...</td>\n",
       "      <td>False</td>\n",
       "    </tr>\n",
       "    <tr>\n",
       "      <th>5</th>\n",
       "      <td>bastilladigital</td>\n",
       "      <td>1400345611296251905</td>\n",
       "      <td>[]</td>\n",
       "      <td>RT @resd9: El “no a todo” no ha servido, dice ...</td>\n",
       "      <td>&lt;a href=\"https://mobile.twitter.com\" rel=\"nofo...</td>\n",
       "      <td>False</td>\n",
       "    </tr>\n",
       "    <tr>\n",
       "      <th>6</th>\n",
       "      <td>CondeFabian</td>\n",
       "      <td>1400345609375191042</td>\n",
       "      <td>[]</td>\n",
       "      <td>RT @rosadiezglez: Mientras Sánchez se hacía la...</td>\n",
       "      <td>&lt;a href=\"https://mobile.twitter.com\" rel=\"nofo...</td>\n",
       "      <td>False</td>\n",
       "    </tr>\n",
       "    <tr>\n",
       "      <th>7</th>\n",
       "      <td>FabianSfcpelu</td>\n",
       "      <td>1400345606388858880</td>\n",
       "      <td>[{'url': 'https://t.co/u8N4QFFpmq', 'expanded_...</td>\n",
       "      <td>Acaba de publicar un video en El Estadio Mas C...</td>\n",
       "      <td>&lt;a href=\"http://instagram.com\" rel=\"nofollow\"&gt;...</td>\n",
       "      <td>False</td>\n",
       "    </tr>\n",
       "    <tr>\n",
       "      <th>8</th>\n",
       "      <td>lvaroFe56410901</td>\n",
       "      <td>1400345603943682049</td>\n",
       "      <td>[]</td>\n",
       "      <td>@BJWILTHER Que vergüenza.. Hay problemas serio...</td>\n",
       "      <td>&lt;a href=\"http://twitter.com/download/android\" ...</td>\n",
       "      <td>False</td>\n",
       "    </tr>\n",
       "    <tr>\n",
       "      <th>9</th>\n",
       "      <td>montberche</td>\n",
       "      <td>1400345603771600897</td>\n",
       "      <td>[]</td>\n",
       "      <td>@G_landaburu @iuforn Porqué és mucho más fácil...</td>\n",
       "      <td>&lt;a href=\"http://twitter.com/download/android\" ...</td>\n",
       "      <td>False</td>\n",
       "    </tr>\n",
       "    <tr>\n",
       "      <th>10</th>\n",
       "      <td>JulioCe59337798</td>\n",
       "      <td>1400345602068815873</td>\n",
       "      <td>[]</td>\n",
       "      <td>RT @RichardArcePeru: El domingo mi voto será s...</td>\n",
       "      <td>&lt;a href=\"http://twitter.com/download/android\" ...</td>\n",
       "      <td>False</td>\n",
       "    </tr>\n",
       "    <tr>\n",
       "      <th>11</th>\n",
       "      <td>JulioTofani</td>\n",
       "      <td>1400345601074675714</td>\n",
       "      <td>[{'url': 'https://t.co/xJN6IosKvD', 'expanded_...</td>\n",
       "      <td>RT @cultrun: Una avalancha de parques eólicos ...</td>\n",
       "      <td>&lt;a href=\"http://itunes.apple.com/us/app/twitte...</td>\n",
       "      <td>False</td>\n",
       "    </tr>\n",
       "    <tr>\n",
       "      <th>12</th>\n",
       "      <td>miguelangelo_33</td>\n",
       "      <td>1400345597790523394</td>\n",
       "      <td>[{'url': 'https://t.co/WWwK9Re6B5', 'expanded_...</td>\n",
       "      <td>Levántate del sofá y lucha. Las reivindicacion...</td>\n",
       "      <td>&lt;a href=\"http://twitter.com/download/android\" ...</td>\n",
       "      <td>False</td>\n",
       "    </tr>\n",
       "    <tr>\n",
       "      <th>13</th>\n",
       "      <td>tonirasmo</td>\n",
       "      <td>1400345588475047939</td>\n",
       "      <td>[]</td>\n",
       "      <td>RT @NoaGresiva: España es ese país que podría ...</td>\n",
       "      <td>&lt;a href=\"http://twitter.com/download/android\" ...</td>\n",
       "      <td>False</td>\n",
       "    </tr>\n",
       "    <tr>\n",
       "      <th>14</th>\n",
       "      <td>VeloaRafis</td>\n",
       "      <td>1400345588437225472</td>\n",
       "      <td>[{'url': 'https://t.co/zVF2o90zia', 'expanded_...</td>\n",
       "      <td>@theatharis Para que venga a AL tiene que pasa...</td>\n",
       "      <td>&lt;a href=\"http://twitter.com/download/android\" ...</td>\n",
       "      <td>False</td>\n",
       "    </tr>\n",
       "    <tr>\n",
       "      <th>15</th>\n",
       "      <td>CmmanVi</td>\n",
       "      <td>1400345587443175427</td>\n",
       "      <td>[]</td>\n",
       "      <td>RT @luisgarcianmx: @ericvirgsag @lopezobrador_...</td>\n",
       "      <td>&lt;a href=\"http://twitter.com/download/android\" ...</td>\n",
       "      <td>False</td>\n",
       "    </tr>\n",
       "    <tr>\n",
       "      <th>16</th>\n",
       "      <td>Dacs01211670</td>\n",
       "      <td>1400345587145453569</td>\n",
       "      <td>[{'url': 'https://t.co/J02Z1wIjId', 'expanded_...</td>\n",
       "      <td>@HELIODOPTERO @GustavoBolivar @petrogustavo @G...</td>\n",
       "      <td>&lt;a href=\"http://twitter.com/download/android\" ...</td>\n",
       "      <td>False</td>\n",
       "    </tr>\n",
       "    <tr>\n",
       "      <th>17</th>\n",
       "      <td>gloriavergaragu</td>\n",
       "      <td>1400345586075897858</td>\n",
       "      <td>[]</td>\n",
       "      <td>RT @ToscaniDaniel: No nos suben los sueldos. N...</td>\n",
       "      <td>&lt;a href=\"http://twitter.com/download/android\" ...</td>\n",
       "      <td>False</td>\n",
       "    </tr>\n",
       "    <tr>\n",
       "      <th>18</th>\n",
       "      <td>pravda_es</td>\n",
       "      <td>1400345585090170884</td>\n",
       "      <td>[]</td>\n",
       "      <td>RT @rosadiezglez: Mientras Sánchez se hacía la...</td>\n",
       "      <td>&lt;a href=\"http://twitter.com/download/android\" ...</td>\n",
       "      <td>False</td>\n",
       "    </tr>\n",
       "    <tr>\n",
       "      <th>19</th>\n",
       "      <td>Jav29h</td>\n",
       "      <td>1400345584310030336</td>\n",
       "      <td>[{'url': 'https://t.co/F4fDm6koB4', 'expanded_...</td>\n",
       "      <td>@Huge_H_ @_Republicano74_ Por meter mano en la...</td>\n",
       "      <td>&lt;a href=\"https://mobile.twitter.com\" rel=\"nofo...</td>\n",
       "      <td>False</td>\n",
       "    </tr>\n",
       "  </tbody>\n",
       "</table>\n",
       "</div>"
      ],
      "text/plain": [
       "               user                   id  \\\n",
       "0    GustavoBolivar  1399822270676283392   \n",
       "1              KRLS  1400134452806836227   \n",
       "2     MariaFdaCabal  1399904783687880707   \n",
       "3    Manolo67554861  1400345617486991360   \n",
       "4        calisrafa2  1400345613951250432   \n",
       "5   bastilladigital  1400345611296251905   \n",
       "6       CondeFabian  1400345609375191042   \n",
       "7     FabianSfcpelu  1400345606388858880   \n",
       "8   lvaroFe56410901  1400345603943682049   \n",
       "9        montberche  1400345603771600897   \n",
       "10  JulioCe59337798  1400345602068815873   \n",
       "11      JulioTofani  1400345601074675714   \n",
       "12  miguelangelo_33  1400345597790523394   \n",
       "13        tonirasmo  1400345588475047939   \n",
       "14       VeloaRafis  1400345588437225472   \n",
       "15          CmmanVi  1400345587443175427   \n",
       "16     Dacs01211670  1400345587145453569   \n",
       "17  gloriavergaragu  1400345586075897858   \n",
       "18        pravda_es  1400345585090170884   \n",
       "19           Jav29h  1400345584310030336   \n",
       "\n",
       "                                                  url  \\\n",
       "0   [{'url': 'https://t.co/xTzJNKq0DX', 'expanded_...   \n",
       "1   [{'url': 'https://t.co/YxEhE43xti', 'expanded_...   \n",
       "2   [{'url': 'https://t.co/TkeK3kCccx', 'expanded_...   \n",
       "3                                                  []   \n",
       "4                                                  []   \n",
       "5                                                  []   \n",
       "6                                                  []   \n",
       "7   [{'url': 'https://t.co/u8N4QFFpmq', 'expanded_...   \n",
       "8                                                  []   \n",
       "9                                                  []   \n",
       "10                                                 []   \n",
       "11  [{'url': 'https://t.co/xJN6IosKvD', 'expanded_...   \n",
       "12  [{'url': 'https://t.co/WWwK9Re6B5', 'expanded_...   \n",
       "13                                                 []   \n",
       "14  [{'url': 'https://t.co/zVF2o90zia', 'expanded_...   \n",
       "15                                                 []   \n",
       "16  [{'url': 'https://t.co/J02Z1wIjId', 'expanded_...   \n",
       "17                                                 []   \n",
       "18                                                 []   \n",
       "19  [{'url': 'https://t.co/F4fDm6koB4', 'expanded_...   \n",
       "\n",
       "                                                 text  \\\n",
       "0   #AndresEscobaralaCarcel\\n¡Qué vergüenza!\\nEl p...   \n",
       "1   Llàstima. Segur que la ministra espanyola li v...   \n",
       "2   #SoyCabal | ¡Pilas, caleños! Reaccionemos, o s...   \n",
       "3   RT @AngelesMarra: Hoy comparto mi columna ⁦@pu...   \n",
       "4   RT @Jahfrann: En Cali siguen atacando la comun...   \n",
       "5   RT @resd9: El “no a todo” no ha servido, dice ...   \n",
       "6   RT @rosadiezglez: Mientras Sánchez se hacía la...   \n",
       "7   Acaba de publicar un video en El Estadio Mas C...   \n",
       "8   @BJWILTHER Que vergüenza.. Hay problemas serio...   \n",
       "9   @G_landaburu @iuforn Porqué és mucho más fácil...   \n",
       "10  RT @RichardArcePeru: El domingo mi voto será s...   \n",
       "11  RT @cultrun: Una avalancha de parques eólicos ...   \n",
       "12  Levántate del sofá y lucha. Las reivindicacion...   \n",
       "13  RT @NoaGresiva: España es ese país que podría ...   \n",
       "14  @theatharis Para que venga a AL tiene que pasa...   \n",
       "15  RT @luisgarcianmx: @ericvirgsag @lopezobrador_...   \n",
       "16  @HELIODOPTERO @GustavoBolivar @petrogustavo @G...   \n",
       "17  RT @ToscaniDaniel: No nos suben los sueldos. N...   \n",
       "18  RT @rosadiezglez: Mientras Sánchez se hacía la...   \n",
       "19  @Huge_H_ @_Republicano74_ Por meter mano en la...   \n",
       "\n",
       "                                               source  user_verified  \n",
       "0   <a href=\"http://twitter.com/download/iphone\" r...           True  \n",
       "1   <a href=\"http://twitter.com/#!/download/ipad\" ...           True  \n",
       "2   <a href=\"https://studio.twitter.com\" rel=\"nofo...           True  \n",
       "3   <a href=\"http://twitter.com/download/android\" ...          False  \n",
       "4   <a href=\"https://mobile.twitter.com\" rel=\"nofo...          False  \n",
       "5   <a href=\"https://mobile.twitter.com\" rel=\"nofo...          False  \n",
       "6   <a href=\"https://mobile.twitter.com\" rel=\"nofo...          False  \n",
       "7   <a href=\"http://instagram.com\" rel=\"nofollow\">...          False  \n",
       "8   <a href=\"http://twitter.com/download/android\" ...          False  \n",
       "9   <a href=\"http://twitter.com/download/android\" ...          False  \n",
       "10  <a href=\"http://twitter.com/download/android\" ...          False  \n",
       "11  <a href=\"http://itunes.apple.com/us/app/twitte...          False  \n",
       "12  <a href=\"http://twitter.com/download/android\" ...          False  \n",
       "13  <a href=\"http://twitter.com/download/android\" ...          False  \n",
       "14  <a href=\"http://twitter.com/download/android\" ...          False  \n",
       "15  <a href=\"http://twitter.com/download/android\" ...          False  \n",
       "16  <a href=\"http://twitter.com/download/android\" ...          False  \n",
       "17  <a href=\"http://twitter.com/download/android\" ...          False  \n",
       "18  <a href=\"http://twitter.com/download/android\" ...          False  \n",
       "19  <a href=\"https://mobile.twitter.com\" rel=\"nofo...          False  "
      ]
     },
     "execution_count": 348,
     "metadata": {},
     "output_type": "execute_result"
    }
   ],
   "source": [
    "df"
   ]
  },
  {
   "cell_type": "code",
   "execution_count": 264,
   "id": "63713068",
   "metadata": {},
   "outputs": [],
   "source": [
    "source = df[df[\"user\"] == \"el_pais\"][\"source\"]\n",
    "text = df[df[\"user\"] == \"el_pais\"][\"text\"]"
   ]
  },
  {
   "cell_type": "code",
   "execution_count": 350,
   "id": "72d13383",
   "metadata": {},
   "outputs": [],
   "source": [
    "pais_timeline = python_tweets.get_user_timeline(screen_name=\"el_pais\")"
   ]
  },
  {
   "cell_type": "code",
   "execution_count": 352,
   "id": "ef8f66ee",
   "metadata": {},
   "outputs": [
    {
     "data": {
      "text/plain": [
       "20"
      ]
     },
     "execution_count": 352,
     "metadata": {},
     "output_type": "execute_result"
    }
   ],
   "source": [
    "len(pais_timeline)"
   ]
  },
  {
   "cell_type": "code",
   "execution_count": 265,
   "id": "41196de7",
   "metadata": {},
   "outputs": [],
   "source": [
    "el_pais = python_tweets.show_user(screen_name=\"el_pais\")"
   ]
  },
  {
   "cell_type": "code",
   "execution_count": 266,
   "id": "db7af096",
   "metadata": {},
   "outputs": [],
   "source": [
    "#Geting relevant data to create the tweet\n",
    "\n",
    "text = el_pais[\"status\"][\"text\"]\n",
    "date = el_pais[\"status\"][\"created_at\"]\n",
    "url= el_pais[\"status\"][\"entities\"][\"urls\"][0][\"url\"]\n",
    "expanded_url= el_pais[\"status\"][\"entities\"][\"urls\"][0][\"expanded_url\"]\n",
    "name=el_pais[\"name\"]\n",
    "profile=el_pais[\"screen_name\"]\n",
    "url2= url.replace(\"''\",\"\")"
   ]
  },
  {
   "cell_type": "code",
   "execution_count": 267,
   "id": "0e55e5d5",
   "metadata": {},
   "outputs": [
    {
     "data": {
      "text/html": [
       "<blockquote class=\"twitter-tweet\" data-dnt=\"true\"><p width=\"100\" theme=\"dark\" cards=\"hidden\" lang=\"es\" dir=\"ltr\">“It is without historical parallel.” Why America’s economic recovery is like no other. <a href=\"https://t.co/IwsiI3VVFX\">https://t.co/IwsiI3VVFX</a> a través de <a href=\"https://twitter.com/WSJ?ref_src=twsrc%5Etfw\">@WSJ</a></p>&mdash; Pablo Ximénez de Sandoval (@pximenez) <a href=\"https://twitter.com/pximenez/status/1400190075468668936?ref_src=twsrc%5Etfw\">June 2, 2021</a></blockquote> <script async src=\"https://platform.twitter.com/widgets.js\" charset=\"utf-8\"></script>"
      ],
      "text/plain": [
       "<IPython.core.display.HTML object>"
      ]
     },
     "metadata": {},
     "output_type": "display_data"
    }
   ],
   "source": [
    "display(HTML('<blockquote class=\"twitter-tweet\" data-dnt=\"true\"><p width=\"100\" theme=\"dark\" cards=\"hidden\" lang=\"es\" dir=\"ltr\">“It is without historical parallel.” Why America’s economic recovery is like no other. <a href=\"https://t.co/IwsiI3VVFX\">https://t.co/IwsiI3VVFX</a> a través de <a href=\"https://twitter.com/WSJ?ref_src=twsrc%5Etfw\">@WSJ</a></p>&mdash; Pablo Ximénez de Sandoval (@pximenez) <a href=\"https://twitter.com/pximenez/status/1400190075468668936?ref_src=twsrc%5Etfw\">June 2, 2021</a></blockquote> <script async src=\"https://platform.twitter.com/widgets.js\" charset=\"utf-8\"></script>'))\n"
   ]
  },
  {
   "cell_type": "code",
   "execution_count": 322,
   "id": "e450fdf7",
   "metadata": {
    "scrolled": false
   },
   "outputs": [
    {
     "data": {
      "text/html": [
       "<blockquote class=\"twitter-feed\"><div class=\"col-md-4\"></div><div class=\"container\"><div class=\"panel-heading\"></div><div class=\"panel-body\"><div class=\"twitter-timeline\" data-width=\"50%\"><p lang=\"en\" dir=\"ltr\">El presidente de El Salvador, Nayib Bukele, ha insistido en la idea sobre la que girará su nueva etapa al frente de… https://t.co/bew2miuUVD<a href=https://t.co/bew2miuUVD>https://t.co/bew2miuUVD</a></p>&mdash; EL PAÍS (@el_pais) <a href=https://twitter.com/i/web/status/1400195961037766659>Wed Jun 02 21:01:46 +0000 2021</a><hide_thread=true><data-cards=\"hidden\"></blockquote> </div>      </div>   </div>   </div class=\"col-md-4\">   </div></div><blockquote class=\"twitter-feed\"><div class=\"col-md-4\"></div><div class=\"container\"><div class=\"panel-body\"><div class=\"twitter-timeline\" data-width=\"50%\"><p lang=\"en\" dir=\"ltr\">El presidente de El Salvador, Nayib Bukele, ha insistido en la idea sobre la que girará su nueva etapa al frente de… https://t.co/bew2miuUVD<a href=https://t.co/bew2miuUVD>https://t.co/bew2miuUVD</a></p>&mdash; EL PAÍS (@el_pais) <a href=https://twitter.com/i/web/status/1400195961037766659>Wed Jun 02 21:01:46 +0000 2021</a><hide_thread=true><data-cards=\"hidden\"></blockquote> </div>      </div>   </div>   </div class=\"col-md-4\">   </div></div><script async src=\"https://platform.twitter.com/widgets.js\" charset=\"utf-8\"></script>"
      ],
      "text/plain": [
       "<IPython.core.display.HTML object>"
      ]
     },
     "metadata": {},
     "output_type": "display_data"
    }
   ],
   "source": [
    "display(HTML(f'<blockquote class=\"twitter-feed\"><div class=\"col-md-4\"></div><div class=\"container\"><div class=\"panel-heading\"></div><div class=\"panel-body\"><div class=\"twitter-timeline\" data-width=\"50%\"><p lang=\"en\" dir=\"ltr\">{text}<a href={url}>{url2}</a></p>&mdash; {name} (@{profile}) <a href={expanded_url}>{date}</a><hide_thread=true><data-cards=\"hidden\"></blockquote> </div>\\\n",
    "      </div>\\\n",
    "   </div>\\\n",
    "   </div class=\"col-md-4\">\\\n",
    "   </div>\\\n",
    "</div>\\\n",
    "<blockquote class=\"twitter-feed\"><div class=\"col-md-4\"></div><div class=\"container\"><div class=\"panel-body\"><div class=\"twitter-timeline\" data-width=\"50%\"><p lang=\"en\" dir=\"ltr\">{text}<a href={url}>{url2}</a></p>&mdash; {name} (@{profile}) <a href={expanded_url}>{date}</a><hide_thread=true><data-cards=\"hidden\"></blockquote> </div>\\\n",
    "      </div>\\\n",
    "   </div>\\\n",
    "   </div class=\"col-md-4\">\\\n",
    "   </div>\\\n",
    "</div>\\\n",
    "<script async src=\"https://platform.twitter.com/widgets.js\" charset=\"utf-8\"></script>'))"
   ]
  },
  {
   "cell_type": "code",
   "execution_count": 334,
   "id": "c915973a",
   "metadata": {},
   "outputs": [
    {
     "data": {
      "text/html": [
       "<div class=\"twitter-feed\">   <div class=\"col-md-4\"></div>   <div class=\"container\">      <div class=\"col-md-4\">         <div class=\"panel panel-danger\">            <div class=\"panel-heading\">            </div>            <div class=\"panel-body\">               <div class=\"twitter-timeline\" data-width=\"100%\"><p lang=\"en\" dir=\"ltr\">El presidente de El Salvador, Nayib Bukele, ha insistido en la idea sobre la que girará su nueva etapa al frente de… https://t.co/bew2miuUVD<a href=https://t.co/bew2miuUVD>https://t.co/bew2miuUVD</a></p>&mdash; EL PAÍS (@el_pais) <a href=https://twitter.com/i/web/status/1400195961037766659>Wed Jun 02 21:01:46 +0000 2021</a><hide_thread=false></blockquote> </div>         </div>      </div>   </div>   </div class=\"col-md-4\">   </div></div><script async src=\"//platform.twitter.com/widgets.js\" charset=\"utf-8\"></script>"
      ],
      "text/plain": [
       "<IPython.core.display.HTML object>"
      ]
     },
     "metadata": {},
     "output_type": "display_data"
    }
   ],
   "source": [
    "tweet = display(HTML(f'<div class=\"twitter-feed\">\\\n",
    "   <div class=\"col-md-4\"></div>\\\n",
    "   <div class=\"container\">\\\n",
    "      <div class=\"col-md-4\">\\\n",
    "         <div class=\"panel panel-danger\">\\\n",
    "            <div class=\"panel-heading\">\\\n",
    "            </div>\\\n",
    "            <div class=\"panel-body\">\\\n",
    "               <div class=\"twitter-timeline\" data-width=\"100%\"><p lang=\"en\" dir=\"ltr\">{text}<a href={url}>{url2}</a></p>&mdash; {name} (@{profile}) <a href={expanded_url}>{date}</a><hide_thread=false></blockquote> </div>\\\n",
    "         </div>\\\n",
    "      </div>\\\n",
    "   </div>\\\n",
    "   </div class=\"col-md-4\">\\\n",
    "   </div>\\\n",
    "</div>\\\n",
    "<script async src=\"//platform.twitter.com/widgets.js\" charset=\"utf-8\"></script>'))\n"
   ]
  },
  {
   "cell_type": "code",
   "execution_count": 326,
   "id": "04973338",
   "metadata": {},
   "outputs": [
    {
     "data": {
      "text/html": [
       "<figure class=\"op-interactive\">    <blockquote class=\"twitter-tweet\"><p lang=\"en\" dir=\"ltr\">El presidente de El Salvador, Nayib Bukele, ha insistido en la idea sobre la que girará su nueva etapa al frente de… https://t.co/bew2miuUVD<a href=https://t.co/bew2miuUVD>https://t.co/bew2miuUVD</a></p>&mdash; EL PAÍS (@el_pais) <a href=https://twitter.com/i/web/status/1400195961037766659>Wed Jun 02 21:01:46 +0000 2021</a><<hide_thread=true><data-cards=\"hidden\"></blockquote> <script async src=\"https://platform.twitter.com/widgets.js\" charset=\"utf-8\"></script></figure>"
      ],
      "text/plain": [
       "<IPython.core.display.HTML object>"
      ]
     },
     "metadata": {},
     "output_type": "display_data"
    }
   ],
   "source": [
    "tweet = display(HTML(f'<figure class=\"op-interactive\">\\\n",
    "    <blockquote class=\"twitter-tweet\"><p lang=\"en\" dir=\"ltr\">{text}<a href={url}>{url2}</a></p>&mdash; {name} (@{profile}) <a href={expanded_url}>{date}</a><<hide_thread=true><data-cards=\"hidden\"></blockquote> <script async src=\"https://platform.twitter.com/widgets.js\" charset=\"utf-8\"></script>\\\n",
    "</figure>'))"
   ]
  },
  {
   "cell_type": "code",
   "execution_count": 311,
   "id": "d86fd609",
   "metadata": {},
   "outputs": [
    {
     "data": {
      "text/plain": [
       "'https://publish.twitter.com/oembed?url=https%3A%2F%2Ftwitter.com%2Fel_pais%2Fstatus%2F1400195961037766659'"
      ]
     },
     "execution_count": 311,
     "metadata": {},
     "output_type": "execute_result"
    }
   ],
   "source": [
    "url\n",
    "expanded_url\n",
    "oembed_url"
   ]
  },
  {
   "cell_type": "code",
   "execution_count": 309,
   "id": "e1a84217",
   "metadata": {},
   "outputs": [],
   "source": [
    "import requests\n",
    "from urllib.parse import urlencode\n",
    "\n",
    "#url = 'https://twitter.com/jack/status/20'\n",
    "\n",
    "query_string = urlencode({'url': \"https://twitter.com/el_pais/status/1400195961037766659\"}) # 'omit_script': 1\n",
    "oembed_url = f\"https://publish.twitter.com/oembed?{query_string}\"\n",
    "\n",
    "r = requests.get(oembed_url, params={\"widget_type\":\"grid\"})\n",
    "if r.status_code == 200:\n",
    "    result = r.json()\n",
    "    html = result['html'].strip()"
   ]
  },
  {
   "cell_type": "code",
   "execution_count": 310,
   "id": "4d6dc820",
   "metadata": {},
   "outputs": [
    {
     "data": {
      "text/html": [
       "<blockquote class=\"twitter-tweet\"><p lang=\"es\" dir=\"ltr\">El presidente de El Salvador, Nayib Bukele, ha insistido en la idea sobre la que girará su nueva etapa al frente de país: “los de antes” no volverán y “el pueblo” estará ahí para impedirlo <a href=\"https://t.co/uv1PDFKJyH\">https://t.co/uv1PDFKJyH</a></p>&mdash; EL PAÍS (@el_pais) <a href=\"https://twitter.com/el_pais/status/1400195961037766659?ref_src=twsrc%5Etfw\">June 2, 2021</a></blockquote>\n",
       "<script async src=\"https://platform.twitter.com/widgets.js\" charset=\"utf-8\"></script>"
      ],
      "text/plain": [
       "<IPython.core.display.HTML object>"
      ]
     },
     "metadata": {},
     "output_type": "display_data"
    }
   ],
   "source": [
    "display(HTML(html))"
   ]
  },
  {
   "cell_type": "code",
   "execution_count": null,
   "id": "e0c250db",
   "metadata": {},
   "outputs": [],
   "source": []
  },
  {
   "cell_type": "code",
   "execution_count": null,
   "id": "84794dff",
   "metadata": {},
   "outputs": [],
   "source": []
  }
 ],
 "metadata": {
  "kernelspec": {
   "display_name": "Python 3",
   "language": "python",
   "name": "python3"
  },
  "language_info": {
   "codemirror_mode": {
    "name": "ipython",
    "version": 3
   },
   "file_extension": ".py",
   "mimetype": "text/x-python",
   "name": "python",
   "nbconvert_exporter": "python",
   "pygments_lexer": "ipython3",
   "version": "3.8.6"
  },
  "toc": {
   "base_numbering": 1,
   "nav_menu": {},
   "number_sections": true,
   "sideBar": true,
   "skip_h1_title": false,
   "title_cell": "Table of Contents",
   "title_sidebar": "Contents",
   "toc_cell": false,
   "toc_position": {},
   "toc_section_display": true,
   "toc_window_display": false
  }
 },
 "nbformat": 4,
 "nbformat_minor": 5
}

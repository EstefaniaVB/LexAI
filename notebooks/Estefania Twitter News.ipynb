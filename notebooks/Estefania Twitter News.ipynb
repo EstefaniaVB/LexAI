{
 "cells": [
  {
   "cell_type": "markdown",
   "id": "269812a0",
   "metadata": {},
   "source": [
    "## Twitter News detection"
   ]
  },
  {
   "cell_type": "code",
   "execution_count": 5,
   "id": "3e49179e",
   "metadata": {
    "scrolled": true
   },
   "outputs": [
    {
     "data": {
      "text/html": [
       "<blockquote class=\"twitter-tweet\" data-lang=\"en\"><p lang=\"en\" dir=\"ltr\">just setting up my twttr</p>&mdash; Jack (@jack) <a href=\"https://platform.twitter.com/widgets.js\">March 21, 2006</a></blockquote>"
      ],
      "text/plain": [
       "<IPython.core.display.HTML object>"
      ]
     },
     "metadata": {},
     "output_type": "display_data"
    }
   ],
   "source": [
    "from IPython.core.display import display, HTML\n",
    "display(HTML('<blockquote class=\"twitter-tweet\" data-lang=\"en\"><p lang=\"en\" dir=\"ltr\">just setting up my twttr</p>&mdash; Jack (@jack) <a href=\"https://platform.twitter.com/widgets.js\">March 21, 2006</a></blockquote>'))"
   ]
  },
  {
   "cell_type": "code",
   "execution_count": null,
   "id": "03b91350",
   "metadata": {},
   "outputs": [],
   "source": [
    "<blockquote class=\"twitter-tweet\" data-lang=\"en\">\n",
    "  <p lang=\"en\" dir=\"ltr\">just setting up my twttr</p>&mdash; Jack (@jack) <a href=\"https://platform.twitter.com/widgets.js\">March 21, 2006</a>\n",
    "</blockquote>"
   ]
  },
  {
   "cell_type": "code",
   "execution_count": 8,
   "id": "e450fdf7",
   "metadata": {},
   "outputs": [
    {
     "ename": "SyntaxError",
     "evalue": "invalid syntax (<ipython-input-8-30d25a9322b6>, line 1)",
     "output_type": "error",
     "traceback": [
      "\u001b[0;36m  File \u001b[0;32m\"<ipython-input-8-30d25a9322b6>\"\u001b[0;36m, line \u001b[0;32m1\u001b[0m\n\u001b[0;31m    display(HTML(<blockquote class=\"twitter-tweet\"><p lang=\"es\" dir=\"ltr\">“A veces los actores y las actrices pecamos de tener un ego un poco elevado porque muchas veces en los rodajes nos tienen entre algodones”. Entrevista con Fran Perea, que estrena serie en la que interpreta a una caricatura de sí mismo <a href=\"https://t.co/iACNkETj00\">https://t.co/iACNkETj00</a></p>&mdash; EL PAÍS (@el_pais) <a href=\"https://twitter.com/el_pais/status/1400014575127252994?ref_src=twsrc%5Etfw\">June 2, 2021</a></blockquote> <script async src=\"https://platform.twitter.com/widgets.js\" charset=\"utf-8\"></script>)\u001b[0m\n\u001b[0m                 ^\u001b[0m\n\u001b[0;31mSyntaxError\u001b[0m\u001b[0;31m:\u001b[0m invalid syntax\n"
     ]
    }
   ],
   "source": [
    "display(HTML(<blockquote class=\"twitter-tweet\"><p lang=\"es\" dir=\"ltr\">“A veces los actores y las actrices pecamos de tener un ego un poco elevado porque muchas veces en los rodajes nos tienen entre algodones”. Entrevista con Fran Perea, que estrena serie en la que interpreta a una caricatura de sí mismo <a href=\"https://t.co/iACNkETj00\">https://t.co/iACNkETj00</a></p>&mdash; EL PAÍS (@el_pais) <a href=\"https://twitter.com/el_pais/status/1400014575127252994?ref_src=twsrc%5Etfw\">June 2, 2021</a></blockquote> <script async src=\"https://platform.twitter.com/widgets.js\" charset=\"utf-8\"></script>))"
   ]
  },
  {
   "cell_type": "code",
   "execution_count": null,
   "id": "4d6dc820",
   "metadata": {},
   "outputs": [],
   "source": []
  }
 ],
 "metadata": {
  "kernelspec": {
   "display_name": "Python 3",
   "language": "python",
   "name": "python3"
  },
  "language_info": {
   "codemirror_mode": {
    "name": "ipython",
    "version": 3
   },
   "file_extension": ".py",
   "mimetype": "text/x-python",
   "name": "python",
   "nbconvert_exporter": "python",
   "pygments_lexer": "ipython3",
   "version": "3.8.6"
  },
  "toc": {
   "base_numbering": 1,
   "nav_menu": {},
   "number_sections": true,
   "sideBar": true,
   "skip_h1_title": false,
   "title_cell": "Table of Contents",
   "title_sidebar": "Contents",
   "toc_cell": false,
   "toc_position": {},
   "toc_section_display": true,
   "toc_window_display": false
  }
 },
 "nbformat": 4,
 "nbformat_minor": 5
}

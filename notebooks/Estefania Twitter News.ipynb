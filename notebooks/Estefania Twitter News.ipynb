{
 "cells": [
  {
   "cell_type": "markdown",
   "id": "2926a1a3",
   "metadata": {},
   "source": [
    "## Twitter News detection"
   ]
  },
  {
   "cell_type": "code",
   "execution_count": 5,
   "id": "ec737654",
   "metadata": {
    "scrolled": true
   },
   "outputs": [
    {
     "data": {
      "text/html": [
       "<blockquote class=\"twitter-tweet\" data-lang=\"en\"><p lang=\"en\" dir=\"ltr\">just setting up my twttr</p>&mdash; Jack (@jack) <a href=\"https://platform.twitter.com/widgets.js\">March 21, 2006</a></blockquote>"
      ],
      "text/plain": [
       "<IPython.core.display.HTML object>"
      ]
     },
     "metadata": {},
     "output_type": "display_data"
    }
   ],
   "source": [
    "from IPython.core.display import display, HTML\n",
    "display(HTML('<blockquote class=\"twitter-tweet\" data-lang=\"en\"><p lang=\"en\" dir=\"ltr\">just setting up my twttr</p>&mdash; Jack (@jack) <a href=\"https://platform.twitter.com/widgets.js\">March 21, 2006</a></blockquote>'))"
   ]
  },
  {
   "cell_type": "code",
   "execution_count": null,
   "id": "4f211c2d",
   "metadata": {},
   "outputs": [],
   "source": [
    "<blockquote class=\"twitter-tweet\" data-lang=\"en\">\n",
    "  <p lang=\"en\" dir=\"ltr\">just setting up my twttr</p>&mdash; Jack (@jack) <a href=\"https://platform.twitter.com/widgets.js\">March 21, 2006</a>\n",
    "</blockquote>"
   ]
  }
 ],
 "metadata": {
  "kernelspec": {
   "display_name": "Python 3",
   "language": "python",
   "name": "python3"
  },
  "language_info": {
   "codemirror_mode": {
    "name": "ipython",
    "version": 3
   },
   "file_extension": ".py",
   "mimetype": "text/x-python",
   "name": "python",
   "nbconvert_exporter": "python",
   "pygments_lexer": "ipython3",
   "version": "3.8.6"
  },
  "toc": {
   "base_numbering": 1,
   "nav_menu": {},
   "number_sections": true,
   "sideBar": true,
   "skip_h1_title": false,
   "title_cell": "Table of Contents",
   "title_sidebar": "Contents",
   "toc_cell": false,
   "toc_position": {},
   "toc_section_display": true,
   "toc_window_display": false
  }
 },
 "nbformat": 4,
 "nbformat_minor": 5
}

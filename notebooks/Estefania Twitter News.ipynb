{
 "cells": [
  {
   "cell_type": "markdown",
   "id": "269812a0",
   "metadata": {},
   "source": [
    "## Twitter News detection"
   ]
  },
  {
   "cell_type": "code",
   "execution_count": 249,
   "id": "af7547ed",
   "metadata": {},
   "outputs": [],
   "source": [
    "import os\n",
    "from os.path import join\n",
    "from dotenv import load_dotenv\n",
    "from IPython.core.display import display, HTML\n",
    "import json\n",
    "from twython import Twython\n",
    "import pandas as pd\n",
    "import geocoder\n",
    "import os"
   ]
  },
  {
   "cell_type": "code",
   "execution_count": 250,
   "id": "b0a2dd1a",
   "metadata": {},
   "outputs": [],
   "source": [
    "pwd =\"/Users/estefaniavidalbouzon/code/EstefaniaVB/LexAI/LexAI/\""
   ]
  },
  {
   "cell_type": "code",
   "execution_count": 251,
   "id": "389ceb7d",
   "metadata": {},
   "outputs": [
    {
     "data": {
      "text/plain": [
       "'/Users/estefaniavidalbouzon/code/EstefaniaVB/LexAI/LexAI/'"
      ]
     },
     "execution_count": 251,
     "metadata": {},
     "output_type": "execute_result"
    }
   ],
   "source": [
    "pwd"
   ]
  },
  {
   "cell_type": "code",
   "execution_count": 252,
   "id": "0629e186",
   "metadata": {
    "scrolled": true
   },
   "outputs": [
    {
     "data": {
      "text/plain": [
       "True"
      ]
     },
     "execution_count": 252,
     "metadata": {},
     "output_type": "execute_result"
    }
   ],
   "source": [
    "env_path = join(pwd,'.env') # ../.env\n",
    "load_dotenv(dotenv_path=env_path)"
   ]
  },
  {
   "cell_type": "code",
   "execution_count": 253,
   "id": "ff548a7a",
   "metadata": {},
   "outputs": [],
   "source": [
    "inv = load_dotenv(dotenv_path=env_path)"
   ]
  },
  {
   "cell_type": "code",
   "execution_count": 254,
   "id": "4e314110",
   "metadata": {},
   "outputs": [],
   "source": [
    "client = Twython(creds['consumer_key'],\n",
    "                  creds['consumer_secret'],\n",
    "                  creds['access_token'],\n",
    "                  creds['access_token_secret'])"
   ]
  },
  {
   "cell_type": "code",
   "execution_count": 255,
   "id": "be4d52dc",
   "metadata": {},
   "outputs": [],
   "source": [
    "CONSUMER_KEY = os.getenv('CONSUMER_KEY')\n",
    "CONSUMER_SECRET = os.getenv(\"CONSUMER_SECRET\")\n",
    "ACCESS_TOKEN = os.getenv(\"ACCESS_TOKEN\")\n",
    "ACCESS_SECRET = os.getenv(\"ACCESS_SECRET\")"
   ]
  },
  {
   "cell_type": "code",
   "execution_count": 256,
   "id": "438fdae7",
   "metadata": {},
   "outputs": [],
   "source": [
    "creds = {\n",
    "   \"consumer_key\": CONSUMER_KEY,\n",
    "   \"consumer_secret\": CONSUMER_SECRET,\n",
    "   \"access_token\": ACCESS_TOKEN,\n",
    "   \"access_token_secret\": ACCESS_SECRET\n",
    "}"
   ]
  },
  {
   "cell_type": "code",
   "execution_count": 257,
   "id": "312614aa",
   "metadata": {},
   "outputs": [],
   "source": [
    "python_tweets = Twython(CONSUMER_KEY, CONSUMER_SECRET)"
   ]
  },
  {
   "cell_type": "code",
   "execution_count": 258,
   "id": "2a8ccb10",
   "metadata": {},
   "outputs": [],
   "source": [
    "client = Twython(creds['consumer_key'],\n",
    "                  creds['consumer_secret'],\n",
    "                  creds['access_token'],\n",
    "                  creds['access_token_secret'])"
   ]
  },
  {
   "cell_type": "code",
   "execution_count": 259,
   "id": "0f0b6d7f",
   "metadata": {},
   "outputs": [],
   "source": [
    "result = python_tweets.show_user(screen_name=\"el_pais\")"
   ]
  },
  {
   "cell_type": "code",
   "execution_count": 260,
   "id": "24391b2e",
   "metadata": {},
   "outputs": [
    {
     "data": {
      "text/plain": [
       "{'created_at': 'Wed Jun 02 14:24:00 +0000 2021',\n",
       " 'id': 1400095860155899907,\n",
       " 'id_str': '1400095860155899907',\n",
       " 'text': 'La colección cápsula, ajena al calendario, apunta a un nuevo camino en el que las firmas colaboran entre ellas y se… https://t.co/0ZjwcANa6I',\n",
       " 'truncated': True,\n",
       " 'entities': {'hashtags': [],\n",
       "  'symbols': [],\n",
       "  'user_mentions': [],\n",
       "  'urls': [{'url': 'https://t.co/0ZjwcANa6I',\n",
       "    'expanded_url': 'https://twitter.com/i/web/status/1400095860155899907',\n",
       "    'display_url': 'twitter.com/i/web/status/1…',\n",
       "    'indices': [117, 140]}]},\n",
       " 'source': '<a href=\"https://about.twitter.com/products/tweetdeck\" rel=\"nofollow\">TweetDeck</a>',\n",
       " 'in_reply_to_status_id': None,\n",
       " 'in_reply_to_status_id_str': None,\n",
       " 'in_reply_to_user_id': None,\n",
       " 'in_reply_to_user_id_str': None,\n",
       " 'in_reply_to_screen_name': None,\n",
       " 'user': {'id': 52401992,\n",
       "  'id_str': '52401992',\n",
       "  'name': 'S Moda',\n",
       "  'screen_name': 'smoda',\n",
       "  'location': 'España',\n",
       "  'description': 'La revista femenina de EL PAÍS. Cada tercer sábado de mes, con el diario de papel. Cada día, en nuestra web.',\n",
       "  'url': 'https://t.co/vV5KynDr9u',\n",
       "  'entities': {'url': {'urls': [{'url': 'https://t.co/vV5KynDr9u',\n",
       "      'expanded_url': 'http://smoda.elpais.com/',\n",
       "      'display_url': 'smoda.elpais.com',\n",
       "      'indices': [0, 23]}]},\n",
       "   'description': {'urls': []}},\n",
       "  'protected': False,\n",
       "  'followers_count': 346848,\n",
       "  'friends_count': 1397,\n",
       "  'listed_count': 1941,\n",
       "  'created_at': 'Tue Jun 30 14:03:04 +0000 2009',\n",
       "  'favourites_count': 0,\n",
       "  'utc_offset': None,\n",
       "  'time_zone': None,\n",
       "  'geo_enabled': True,\n",
       "  'verified': True,\n",
       "  'statuses_count': 68459,\n",
       "  'lang': None,\n",
       "  'contributors_enabled': False,\n",
       "  'is_translator': False,\n",
       "  'is_translation_enabled': False,\n",
       "  'profile_background_color': '000000',\n",
       "  'profile_background_image_url': 'http://abs.twimg.com/images/themes/theme7/bg.gif',\n",
       "  'profile_background_image_url_https': 'https://abs.twimg.com/images/themes/theme7/bg.gif',\n",
       "  'profile_background_tile': False,\n",
       "  'profile_image_url': 'http://pbs.twimg.com/profile_images/881847151059488768/qD1Gn9dw_normal.jpg',\n",
       "  'profile_image_url_https': 'https://pbs.twimg.com/profile_images/881847151059488768/qD1Gn9dw_normal.jpg',\n",
       "  'profile_banner_url': 'https://pbs.twimg.com/profile_banners/52401992/1621424289',\n",
       "  'profile_link_color': '990000',\n",
       "  'profile_sidebar_border_color': 'DFDFDF',\n",
       "  'profile_sidebar_fill_color': 'F3F3F3',\n",
       "  'profile_text_color': '333333',\n",
       "  'profile_use_background_image': True,\n",
       "  'has_extended_profile': False,\n",
       "  'default_profile': False,\n",
       "  'default_profile_image': False,\n",
       "  'following': None,\n",
       "  'follow_request_sent': None,\n",
       "  'notifications': None,\n",
       "  'translator_type': 'none',\n",
       "  'withheld_in_countries': []},\n",
       " 'geo': None,\n",
       " 'coordinates': None,\n",
       " 'place': None,\n",
       " 'contributors': None,\n",
       " 'is_quote_status': False,\n",
       " 'retweet_count': 2,\n",
       " 'favorite_count': 6,\n",
       " 'favorited': False,\n",
       " 'retweeted': False,\n",
       " 'possibly_sensitive': False,\n",
       " 'possibly_sensitive_appealable': False,\n",
       " 'lang': 'es'}"
      ]
     },
     "execution_count": 260,
     "metadata": {},
     "output_type": "execute_result"
    }
   ],
   "source": [
    "python_tweets.show_status(id=1400095860155899907)"
   ]
  },
  {
   "cell_type": "code",
   "execution_count": 261,
   "id": "b502e38d",
   "metadata": {
    "scrolled": false
   },
   "outputs": [],
   "source": [
    "query = {'q': 'el_pais',\n",
    "        'result_type': 'mixed',  # other options 'mixed','popular','recent'\n",
    "        'count': 20,   # max 100\n",
    "         # 'until':\"2019-02-01\",\n",
    "         #'geocode': '50.0598058,14.3255426,1000km'\n",
    "        }\n",
    "\n",
    "dict_ = {'user': [],\n",
    "         'id': [],\n",
    "         'url': [],\n",
    "         #'date': [],\n",
    "         'text': [],\n",
    "         \"source\":[],\n",
    "         #'favorite_count': [],\n",
    "         #'retweet_count': [],\n",
    "         #'user_loc': [],\n",
    "         #'followers_count': [],\n",
    "         #'lang': [],\n",
    "         #'user_desc': [],\n",
    "         #'hashtags': [],\n",
    "         'user_verified': []\n",
    "         #'geo': [],\n",
    "         #'coordinates':[],\n",
    "         #'place':[],\n",
    "         #'user_loc_country':[]         \n",
    "        }\n",
    "  #'entities': {'url': {'urls': [{'url': 'https://t.co/vV5KynDr9u',\n",
    "\n",
    "\n",
    "for status in python_tweets.search(**query)['statuses']:\n",
    "    dict_['user'].append(status['user']['screen_name'])\n",
    "    dict_['id'].append(status['id'])\n",
    "    dict_['url'].append(status[\"entities\"][\"urls\"])\n",
    "    #dict_['date'].append(status['created_at'])\n",
    "    dict_['text'].append(status['text'])\n",
    "    dict_['source'].append(status['source'])\n",
    "    #dict_['favorite_count'].append(status['favorite_count'])\n",
    "    #dict_['user_loc'].append( status['user']['location'])\n",
    "    #dict_['followers_count'].append(status['user']['followers_count'])\n",
    "    #dict_['lang'].append(status['lang'])\n",
    "    #dict_['user_desc'].append(status['user']['description'])\n",
    "    dict_['user_verified'].append(status['user']['verified'])\n",
    "    #dict_['hashtags'].append(status['entities']['hashtags'])\n",
    "    #dict_['retweet_count'].append(status['retweet_count'])\n",
    "    #dict_['geo'].append(status['geo'])\n",
    "    #dict_['coordinates'].append(status['coordinates'])\n",
    "    #dict_['place'].append(status['place'])\n",
    "    #dict_['user_loc_country'].append(status['user']['derived']['locations']['country'])\n",
    "    \n",
    "df = pd.DataFrame(dict_)\n",
    "#dict_['text']\n"
   ]
  },
  {
   "cell_type": "code",
   "execution_count": 262,
   "id": "c752f2a9",
   "metadata": {},
   "outputs": [
    {
     "ename": "SyntaxError",
     "evalue": "invalid syntax (<ipython-input-262-3e96aa8d3d13>, line 1)",
     "output_type": "error",
     "traceback": [
      "\u001b[0;36m  File \u001b[0;32m\"<ipython-input-262-3e96aa8d3d13>\"\u001b[0;36m, line \u001b[0;32m1\u001b[0m\n\u001b[0;31m    curl 'https://publish.twitter.com/oembed?url=https%3A%2F%2Ftwitter.com%2FInterior%2Fstatus%2F507185938620219395'\u001b[0m\n\u001b[0m         ^\u001b[0m\n\u001b[0;31mSyntaxError\u001b[0m\u001b[0;31m:\u001b[0m invalid syntax\n"
     ]
    }
   ],
   "source": [
    "curl 'https://publish.twitter.com/oembed?url=https%3A%2F%2Ftwitter.com%2FInterior%2Fstatus%2F507185938620219395'"
   ]
  },
  {
   "cell_type": "code",
   "execution_count": 263,
   "id": "fcf8a947",
   "metadata": {},
   "outputs": [
    {
     "ename": "IndentationError",
     "evalue": "unexpected indent (<ipython-input-263-1b6e99bfc064>, line 2)",
     "output_type": "error",
     "traceback": [
      "\u001b[0;36m  File \u001b[0;32m\"<ipython-input-263-1b6e99bfc064>\"\u001b[0;36m, line \u001b[0;32m2\u001b[0m\n\u001b[0;31m    url=https://twitter.com/Interior/status/463440424141459456\u001b[0m\n\u001b[0m    ^\u001b[0m\n\u001b[0;31mIndentationError\u001b[0m\u001b[0;31m:\u001b[0m unexpected indent\n"
     ]
    }
   ],
   "source": [
    "https://publish.twitter.com/oembed?\n",
    "  url=https://twitter.com/Interior/status/463440424141459456"
   ]
  },
  {
   "cell_type": "code",
   "execution_count": 264,
   "id": "e7a187da",
   "metadata": {},
   "outputs": [],
   "source": [
    "source = df[df[\"user\"] == \"el_pais\"][\"source\"]\n",
    "text = df[df[\"user\"] == \"el_pais\"][\"text\"]"
   ]
  },
  {
   "cell_type": "code",
   "execution_count": 265,
   "id": "385f890a",
   "metadata": {},
   "outputs": [],
   "source": [
    "el_pais = python_tweets.show_user(screen_name=\"el_pais\")"
   ]
  },
  {
   "cell_type": "code",
   "execution_count": 266,
   "id": "6d1c4de1",
   "metadata": {},
   "outputs": [],
   "source": [
    "#Geting relevant data to create the tweet\n",
    "\n",
    "text = el_pais[\"status\"][\"text\"]\n",
    "date = el_pais[\"status\"][\"created_at\"]\n",
    "url= el_pais[\"status\"][\"entities\"][\"urls\"][0][\"url\"]\n",
    "expanded_url= el_pais[\"status\"][\"entities\"][\"urls\"][0][\"expanded_url\"]\n",
    "name=el_pais[\"name\"]\n",
    "profile=el_pais[\"screen_name\"]\n",
    "url2= url.replace(\"''\",\"\")"
   ]
  },
  {
   "cell_type": "code",
   "execution_count": 267,
   "id": "d454dd3c",
   "metadata": {},
   "outputs": [
    {
     "data": {
      "text/html": [
       "<blockquote class=\"twitter-tweet\" data-dnt=\"true\"><p width=\"100\" theme=\"dark\" cards=\"hidden\" lang=\"es\" dir=\"ltr\">“It is without historical parallel.” Why America’s economic recovery is like no other. <a href=\"https://t.co/IwsiI3VVFX\">https://t.co/IwsiI3VVFX</a> a través de <a href=\"https://twitter.com/WSJ?ref_src=twsrc%5Etfw\">@WSJ</a></p>&mdash; Pablo Ximénez de Sandoval (@pximenez) <a href=\"https://twitter.com/pximenez/status/1400190075468668936?ref_src=twsrc%5Etfw\">June 2, 2021</a></blockquote> <script async src=\"https://platform.twitter.com/widgets.js\" charset=\"utf-8\"></script>"
      ],
      "text/plain": [
       "<IPython.core.display.HTML object>"
      ]
     },
     "metadata": {},
     "output_type": "display_data"
    }
   ],
   "source": [
    "display(HTML('<blockquote class=\"twitter-tweet\" data-dnt=\"true\"><p width=\"100\" theme=\"dark\" cards=\"hidden\" lang=\"es\" dir=\"ltr\">“It is without historical parallel.” Why America’s economic recovery is like no other. <a href=\"https://t.co/IwsiI3VVFX\">https://t.co/IwsiI3VVFX</a> a través de <a href=\"https://twitter.com/WSJ?ref_src=twsrc%5Etfw\">@WSJ</a></p>&mdash; Pablo Ximénez de Sandoval (@pximenez) <a href=\"https://twitter.com/pximenez/status/1400190075468668936?ref_src=twsrc%5Etfw\">June 2, 2021</a></blockquote> <script async src=\"https://platform.twitter.com/widgets.js\" charset=\"utf-8\"></script>'))\n"
   ]
  },
  {
   "cell_type": "code",
   "execution_count": 322,
   "id": "e450fdf7",
   "metadata": {
    "scrolled": false
   },
   "outputs": [
    {
     "data": {
      "text/html": [
       "<blockquote class=\"twitter-feed\"><div class=\"col-md-4\"></div><div class=\"container\"><div class=\"panel-heading\"></div><div class=\"panel-body\"><div class=\"twitter-timeline\" data-width=\"50%\"><p lang=\"en\" dir=\"ltr\">El presidente de El Salvador, Nayib Bukele, ha insistido en la idea sobre la que girará su nueva etapa al frente de… https://t.co/bew2miuUVD<a href=https://t.co/bew2miuUVD>https://t.co/bew2miuUVD</a></p>&mdash; EL PAÍS (@el_pais) <a href=https://twitter.com/i/web/status/1400195961037766659>Wed Jun 02 21:01:46 +0000 2021</a><hide_thread=true><data-cards=\"hidden\"></blockquote> </div>      </div>   </div>   </div class=\"col-md-4\">   </div></div><blockquote class=\"twitter-feed\"><div class=\"col-md-4\"></div><div class=\"container\"><div class=\"panel-body\"><div class=\"twitter-timeline\" data-width=\"50%\"><p lang=\"en\" dir=\"ltr\">El presidente de El Salvador, Nayib Bukele, ha insistido en la idea sobre la que girará su nueva etapa al frente de… https://t.co/bew2miuUVD<a href=https://t.co/bew2miuUVD>https://t.co/bew2miuUVD</a></p>&mdash; EL PAÍS (@el_pais) <a href=https://twitter.com/i/web/status/1400195961037766659>Wed Jun 02 21:01:46 +0000 2021</a><hide_thread=true><data-cards=\"hidden\"></blockquote> </div>      </div>   </div>   </div class=\"col-md-4\">   </div></div><script async src=\"https://platform.twitter.com/widgets.js\" charset=\"utf-8\"></script>"
      ],
      "text/plain": [
       "<IPython.core.display.HTML object>"
      ]
     },
     "metadata": {},
     "output_type": "display_data"
    }
   ],
   "source": [
    "display(HTML(f'<blockquote class=\"twitter-feed\"><div class=\"col-md-4\"></div><div class=\"container\"><div class=\"panel-heading\"></div><div class=\"panel-body\"><div class=\"twitter-timeline\" data-width=\"50%\"><p lang=\"en\" dir=\"ltr\">{text}<a href={url}>{url2}</a></p>&mdash; {name} (@{profile}) <a href={expanded_url}>{date}</a><hide_thread=true><data-cards=\"hidden\"></blockquote> </div>\\\n",
    "      </div>\\\n",
    "   </div>\\\n",
    "   </div class=\"col-md-4\">\\\n",
    "   </div>\\\n",
    "</div>\\\n",
    "<blockquote class=\"twitter-feed\"><div class=\"col-md-4\"></div><div class=\"container\"><div class=\"panel-body\"><div class=\"twitter-timeline\" data-width=\"50%\"><p lang=\"en\" dir=\"ltr\">{text}<a href={url}>{url2}</a></p>&mdash; {name} (@{profile}) <a href={expanded_url}>{date}</a><hide_thread=true><data-cards=\"hidden\"></blockquote> </div>\\\n",
    "      </div>\\\n",
    "   </div>\\\n",
    "   </div class=\"col-md-4\">\\\n",
    "   </div>\\\n",
    "</div>\\\n",
    "<script async src=\"https://platform.twitter.com/widgets.js\" charset=\"utf-8\"></script>'))"
   ]
  },
  {
   "cell_type": "code",
   "execution_count": 334,
   "id": "c915973a",
   "metadata": {},
   "outputs": [
    {
     "data": {
      "text/html": [
       "<div class=\"twitter-feed\">   <div class=\"col-md-4\"></div>   <div class=\"container\">      <div class=\"col-md-4\">         <div class=\"panel panel-danger\">            <div class=\"panel-heading\">            </div>            <div class=\"panel-body\">               <div class=\"twitter-timeline\" data-width=\"100%\"><p lang=\"en\" dir=\"ltr\">El presidente de El Salvador, Nayib Bukele, ha insistido en la idea sobre la que girará su nueva etapa al frente de… https://t.co/bew2miuUVD<a href=https://t.co/bew2miuUVD>https://t.co/bew2miuUVD</a></p>&mdash; EL PAÍS (@el_pais) <a href=https://twitter.com/i/web/status/1400195961037766659>Wed Jun 02 21:01:46 +0000 2021</a><hide_thread=false></blockquote> </div>         </div>      </div>   </div>   </div class=\"col-md-4\">   </div></div><script async src=\"//platform.twitter.com/widgets.js\" charset=\"utf-8\"></script>"
      ],
      "text/plain": [
       "<IPython.core.display.HTML object>"
      ]
     },
     "metadata": {},
     "output_type": "display_data"
    }
   ],
   "source": [
    "tweet = display(HTML(f'<div class=\"twitter-feed\">\\\n",
    "   <div class=\"col-md-4\"></div>\\\n",
    "   <div class=\"container\">\\\n",
    "      <div class=\"col-md-4\">\\\n",
    "         <div class=\"panel panel-danger\">\\\n",
    "            <div class=\"panel-heading\">\\\n",
    "            </div>\\\n",
    "            <div class=\"panel-body\">\\\n",
    "               <div class=\"twitter-timeline\" data-width=\"100%\"><p lang=\"en\" dir=\"ltr\">{text}<a href={url}>{url2}</a></p>&mdash; {name} (@{profile}) <a href={expanded_url}>{date}</a><hide_thread=false></blockquote> </div>\\\n",
    "         </div>\\\n",
    "      </div>\\\n",
    "   </div>\\\n",
    "   </div class=\"col-md-4\">\\\n",
    "   </div>\\\n",
    "</div>\\\n",
    "<script async src=\"//platform.twitter.com/widgets.js\" charset=\"utf-8\"></script>'))\n"
   ]
  },
  {
   "cell_type": "code",
   "execution_count": 326,
   "id": "22ba62ff",
   "metadata": {},
   "outputs": [
    {
     "data": {
      "text/html": [
       "<figure class=\"op-interactive\">    <blockquote class=\"twitter-tweet\"><p lang=\"en\" dir=\"ltr\">El presidente de El Salvador, Nayib Bukele, ha insistido en la idea sobre la que girará su nueva etapa al frente de… https://t.co/bew2miuUVD<a href=https://t.co/bew2miuUVD>https://t.co/bew2miuUVD</a></p>&mdash; EL PAÍS (@el_pais) <a href=https://twitter.com/i/web/status/1400195961037766659>Wed Jun 02 21:01:46 +0000 2021</a><<hide_thread=true><data-cards=\"hidden\"></blockquote> <script async src=\"https://platform.twitter.com/widgets.js\" charset=\"utf-8\"></script></figure>"
      ],
      "text/plain": [
       "<IPython.core.display.HTML object>"
      ]
     },
     "metadata": {},
     "output_type": "display_data"
    }
   ],
   "source": [
    "tweet = display(HTML(f'<figure class=\"op-interactive\">\\\n",
    "    <blockquote class=\"twitter-tweet\"><p lang=\"en\" dir=\"ltr\">{text}<a href={url}>{url2}</a></p>&mdash; {name} (@{profile}) <a href={expanded_url}>{date}</a><<hide_thread=true><data-cards=\"hidden\"></blockquote> <script async src=\"https://platform.twitter.com/widgets.js\" charset=\"utf-8\"></script>\\\n",
    "</figure>'))"
   ]
  },
  {
   "cell_type": "code",
   "execution_count": 311,
   "id": "d78452d9",
   "metadata": {},
   "outputs": [
    {
     "data": {
      "text/plain": [
       "'https://publish.twitter.com/oembed?url=https%3A%2F%2Ftwitter.com%2Fel_pais%2Fstatus%2F1400195961037766659'"
      ]
     },
     "execution_count": 311,
     "metadata": {},
     "output_type": "execute_result"
    }
   ],
   "source": [
    "url\n",
    "expanded_url\n",
    "oembed_url"
   ]
  },
  {
   "cell_type": "code",
   "execution_count": 309,
   "id": "2db7ca93",
   "metadata": {},
   "outputs": [],
   "source": [
    "import requests\n",
    "from urllib.parse import urlencode\n",
    "\n",
    "#url = 'https://twitter.com/jack/status/20'\n",
    "\n",
    "query_string = urlencode({'url': \"https://twitter.com/el_pais/status/1400195961037766659\"}) # 'omit_script': 1\n",
    "oembed_url = f\"https://publish.twitter.com/oembed?{query_string}\"\n",
    "\n",
    "r = requests.get(oembed_url, params={\"widget_type\":\"grid\"})\n",
    "if r.status_code == 200:\n",
    "    result = r.json()\n",
    "    html = result['html'].strip()"
   ]
  },
  {
   "cell_type": "code",
   "execution_count": 310,
   "id": "4d6dc820",
   "metadata": {},
   "outputs": [
    {
     "data": {
      "text/html": [
       "<blockquote class=\"twitter-tweet\"><p lang=\"es\" dir=\"ltr\">El presidente de El Salvador, Nayib Bukele, ha insistido en la idea sobre la que girará su nueva etapa al frente de país: “los de antes” no volverán y “el pueblo” estará ahí para impedirlo <a href=\"https://t.co/uv1PDFKJyH\">https://t.co/uv1PDFKJyH</a></p>&mdash; EL PAÍS (@el_pais) <a href=\"https://twitter.com/el_pais/status/1400195961037766659?ref_src=twsrc%5Etfw\">June 2, 2021</a></blockquote>\n",
       "<script async src=\"https://platform.twitter.com/widgets.js\" charset=\"utf-8\"></script>"
      ],
      "text/plain": [
       "<IPython.core.display.HTML object>"
      ]
     },
     "metadata": {},
     "output_type": "display_data"
    }
   ],
   "source": [
    "display(HTML(html))"
   ]
  },
  {
   "cell_type": "code",
   "execution_count": null,
   "id": "8b8234f2",
   "metadata": {},
   "outputs": [],
   "source": []
  },
  {
   "cell_type": "code",
   "execution_count": null,
   "id": "d6893e07",
   "metadata": {},
   "outputs": [],
   "source": []
  }
 ],
 "metadata": {
  "kernelspec": {
   "display_name": "Python 3",
   "language": "python",
   "name": "python3"
  },
  "language_info": {
   "codemirror_mode": {
    "name": "ipython",
    "version": 3
   },
   "file_extension": ".py",
   "mimetype": "text/x-python",
   "name": "python",
   "nbconvert_exporter": "python",
   "pygments_lexer": "ipython3",
   "version": "3.8.6"
  },
  "toc": {
   "base_numbering": 1,
   "nav_menu": {},
   "number_sections": true,
   "sideBar": true,
   "skip_h1_title": false,
   "title_cell": "Table of Contents",
   "title_sidebar": "Contents",
   "toc_cell": false,
   "toc_position": {},
   "toc_section_display": true,
   "toc_window_display": false
  }
 },
 "nbformat": 4,
 "nbformat_minor": 5
}

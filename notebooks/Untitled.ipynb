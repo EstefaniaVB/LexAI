{
 "cells": [
  {
   "cell_type": "code",
   "execution_count": 2,
   "id": "9779ceb6-e907-4af0-8944-1ff43ef6c3c7",
   "metadata": {},
   "outputs": [],
   "source": [
    "import requests\n",
    "from bs4 import BeautifulSoup\n",
    "import unicodedata"
   ]
  },
  {
   "cell_type": "code",
   "execution_count": 30,
   "id": "6643b9c8-1f1d-4470-8587-3bbcddcaa303",
   "metadata": {},
   "outputs": [
    {
     "data": {
      "text/plain": [
       "[{'title': 'Consolidated text: Regulation (EU) No 575/2013 of the European Parliament and of the Council of 26 June 2013 on prudential requirements for credit institutions and amending Regulation (EU) No 648/2012 (Text with EEA relevance)Text with EEA relevance',\n",
       "  'author': 'Not available',\n",
       "  'date': '28/06/2023',\n",
       "  'link': 'https://eur-lex.europa.eu/legal-content/AUTO/?uri=CELEX:02013R0575-20230628'},\n",
       " {'title': 'Consolidated text: Directive 2009/138/EC of the European Parliament and of the Council of 25 November 2009 on the taking-up and pursuit of the business of Insurance and Reinsurance (Solvency II) (recast) (Text with EEA relevance)Text with EEA relevance',\n",
       "  'author': 'Not available',\n",
       "  'date': '30/06/2021',\n",
       "  'link': 'https://eur-lex.europa.eu/legal-content/AUTO/?uri=CELEX:02009L0138-20210630'},\n",
       " {'title': 'REPORT FROM THE COMMISSION Experience of Member States with Directive 2009/41/EC of the European Parliament and of the Council of 6 May 2009 on the contained use of genetically modified micro-organisms for the period 2014 – 2018',\n",
       "  'author': 'Directorate-General for Health and Food Safety',\n",
       "  'date': '31/05/2021',\n",
       "  'link': 'https://eur-lex.europa.eu/legal-content/AUTO/?uri=COM:2021:266:FIN'},\n",
       " {'title': 'COMMISSION STAFF WORKING DOCUMENT Accompanying the document Report from the Commission Experience of Member States with Directive 2009/41/EC of the European Parliament and of the Council of 6 May 2009 on the contained use of genetically modified micro-organisms for the period 2014 – 2018',\n",
       "  'author': 'Directorate-General for Health and Food Safety',\n",
       "  'date': '31/05/2021',\n",
       "  'link': 'https://eur-lex.europa.eu/legal-content/AUTO/?uri=SWD:2021:114:FIN'},\n",
       " {'title': 'Prior notification of a concentration (Case M.10275 — SMFL/Yanmar/Yanmar Credit) Candidate case for simplified procedure (Text with EEA relevance) 2021/C 205/05',\n",
       "  'author': 'European Commission, Directorate-General for Competition',\n",
       "  'date': '31/05/2021',\n",
       "  'link': 'https://eur-lex.europa.eu/legal-content/AUTO/?uri=CELEX:52021M10275'},\n",
       " {'title': 'Case T-306/19: Order of the General Court of 24 March 2021 — Graanhandel P. van Schelven v Commission (Action for annulment — Agricultural policy — Organic production — Regulation (EC) No 834/2007 — Production and labelling of organic products — Organic products imported into the European Union — Certification of products by a control body — No interest in bringing proceedings — Lack of direct concern — Manifest inadmissibility)',\n",
       "  'author': 'General Court',\n",
       "  'date': '31/05/2021',\n",
       "  'link': 'https://eur-lex.europa.eu/legal-content/AUTO/?uri=CELEX:62019TB0306'},\n",
       " {'title': 'Case C-160/21: Request for a preliminary ruling from the Administrativen sad Veliko Tarnovo (Bulgaria) lodged on 10 March 2021 — ‘NIKOPOLIS AD ISTRUM 2010’ EOOD v Izpalnitelen direktor na Darzhaven fond ‘Zemedelie’',\n",
       "  'author': 'Court of Justice',\n",
       "  'date': '31/05/2021',\n",
       "  'link': 'https://eur-lex.europa.eu/legal-content/AUTO/?uri=CELEX:62021CN0160'},\n",
       " {'title': 'Commission Implementing Regulation (EU) 2021/865 of 28 May 2021 entering a name in the register of protected designations of origin and protected geographical indications (‘Rooibos’/‘Red Bush’ (PDO))',\n",
       "  'author': 'European Commission, Directorate-General for Agriculture and Rural Development',\n",
       "  'date': '28/05/2021',\n",
       "  'link': 'https://eur-lex.europa.eu/legal-content/AUTO/?uri=CELEX:32021R0865'},\n",
       " {'title': 'Commission Implementing Decision (EU) 2021/873 of 28 May 2021 on the clearance of the accounts of the paying agencies of Member States concerning expenditure financed by the European Agricultural Fund for Rural Development (EAFRD) for financial year 2020 (notified under document C(2021) 3690)',\n",
       "  'author': 'European Commission, Directorate-General for Agriculture and Rural Development',\n",
       "  'date': '28/05/2021',\n",
       "  'link': 'https://eur-lex.europa.eu/legal-content/AUTO/?uri=CELEX:32021D0873'},\n",
       " {'title': 'Commission Implementing Decision (EU) 2021/872 of 28 May 2021 on the clearance of the accounts of the paying agencies of the United Kingdom concerning expenditure financed by the European Agricultural Fund for Rural Development (EAFRD) for financial year 2020 (notified under document C(2021) 3686) (Only the English text is authentic)',\n",
       "  'author': 'European Commission, Directorate-General for Agriculture and Rural Development',\n",
       "  'date': '28/05/2021',\n",
       "  'link': 'https://eur-lex.europa.eu/legal-content/AUTO/?uri=CELEX:32021D0872'}]"
      ]
     },
     "execution_count": 30,
     "metadata": {},
     "output_type": "execute_result"
    }
   ],
   "source": [
    "def search(query, page=1):\n",
    "    url = \"https://eur-lex.europa.eu/search.html\"\n",
    "\n",
    "    params = {\n",
    "        \"scope\": \"EURLEX\",\n",
    "        \"text\": query,\n",
    "        \"lang\": \"en\",\n",
    "        \"type\": \"quick\",\n",
    "        \"DTS_DOM\": \"EU_LAW\",\n",
    "        \"sortOne\": \"DD\",\n",
    "        \"sortOneOrder\": \"desc\",\n",
    "        \"page\": page\n",
    "    }\n",
    "\n",
    "    html = requests.get(url, params=params).content\n",
    "    soup = BeautifulSoup(html, 'html.parser')\n",
    "    \n",
    "    page_results = soup.find_all('div', class_='SearchResult')\n",
    "    final_results = []\n",
    "    \n",
    "    for result in page_results:\n",
    "        entry = {}\n",
    "        entry['title'] = unicodedata.normalize('NFKD', result.find('a', class_='title').text)\n",
    "        entry['author'] = unicodedata.normalize('NFKD', result.find_all('div', class_='col-sm-6')[1].find_all('dd')[0].text)\n",
    "        entry['date'] = unicodedata.normalize('NFKD', result.find_all('div', class_='col-sm-6')[1].find_all('dd')[1].text)\n",
    "        entry['link'] = unicodedata.normalize('NFKD', result.find('a', class_='title')['name'])\n",
    "        final_results.append(entry)\n",
    "    return final_results\n",
    "\n",
    "results = search('agriculture', 1)\n",
    "results"
   ]
  },
  {
   "cell_type": "code",
   "execution_count": null,
   "id": "2a60c5e1-a500-4214-bb4b-94ea184f8815",
   "metadata": {},
   "outputs": [],
   "source": []
  }
 ],
 "metadata": {
  "kernelspec": {
   "display_name": "Python 3",
   "language": "python",
   "name": "python3"
  },
  "language_info": {
   "codemirror_mode": {
    "name": "ipython",
    "version": 3
   },
   "file_extension": ".py",
   "mimetype": "text/x-python",
   "name": "python",
   "nbconvert_exporter": "python",
   "pygments_lexer": "ipython3",
   "version": "3.8.6"
  }
 },
 "nbformat": 4,
 "nbformat_minor": 5
}

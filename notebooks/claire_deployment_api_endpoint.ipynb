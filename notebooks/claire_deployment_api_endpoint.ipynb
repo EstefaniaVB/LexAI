{
 "cells": [
  {
   "cell_type": "markdown",
   "id": "20f651c8",
   "metadata": {},
   "source": [
    "# API Final Endpoint"
   ]
  },
  {
   "cell_type": "markdown",
   "id": "d4257e7a",
   "metadata": {},
   "source": [
    "**Objective:** \n",
    "Use FastAPI in order to create an API for your model.\n",
    "\n",
    "Run that API on your machine."
   ]
  },
  {
   "cell_type": "code",
   "execution_count": 3,
   "id": "49119f1e",
   "metadata": {},
   "outputs": [],
   "source": [
    "import requests"
   ]
  },
  {
   "cell_type": "code",
   "execution_count": 13,
   "id": "c6d45a0f",
   "metadata": {},
   "outputs": [
    {
     "name": "stdout",
     "output_type": "stream",
     "text": [
      "API call success\n"
     ]
    },
    {
     "data": {
      "text/plain": [
       "(200, 'no prediction', {'greeting': 'Hello LexAI'})"
      ]
     },
     "execution_count": 13,
     "metadata": {},
     "output_type": "execute_result"
    }
   ],
   "source": [
    "### Create root endpoint\n",
    "\n",
    "# Test endpoint\n",
    "# URL\n",
    "lexai_api_url = \"http://127.0.0.1:8000\"\n",
    "\n",
    "# retrieve the response\n",
    "response = requests.get(\n",
    "    lexai_api_url\n",
    ")\n",
    "\n",
    "if response.status_code == 200:\n",
    "    print(\"API call success\")\n",
    "else:\n",
    "    print(\"API call error\")\n",
    "\n",
    "response.status_code, response.json().get(\"prediction\", \"no prediction\"), response.json()"
   ]
  },
  {
   "cell_type": "code",
   "execution_count": 33,
   "id": "41023479",
   "metadata": {},
   "outputs": [
    {
     "name": "stdout",
     "output_type": "stream",
     "text": [
      "API call success\n"
     ]
    },
    {
     "data": {
      "text/plain": [
       "['2863', '23131635']"
      ]
     },
     "execution_count": 33,
     "metadata": {},
     "output_type": "execute_result"
    }
   ],
   "source": [
    "### TEST PREDICT ENDPOINT ###\n",
    "params = dict(keyword='agriculture')\n",
    "\n",
    "# URL\n",
    "lexai_api_url = \"http://127.0.0.1:8000/predict\"\n",
    "\n",
    "# retrieve the response\n",
    "response = requests.get(\n",
    "    lexai_api_url,\n",
    "    params=params\n",
    ")\n",
    "\n",
    "if response.status_code == 200:\n",
    "    print(\"API call success\")\n",
    "else:\n",
    "    print(\"API call error\")\n",
    "\n",
    "#response.status_code, response.json().get(\"prediction\", \"no prediction\"), response.json()\n",
    "response.json()"
   ]
  },
  {
   "cell_type": "code",
   "execution_count": null,
   "id": "a31aaeff",
   "metadata": {},
   "outputs": [],
   "source": []
  }
 ],
 "metadata": {
  "kernelspec": {
   "display_name": "Python 3",
   "language": "python",
   "name": "python3"
  },
  "language_info": {
   "codemirror_mode": {
    "name": "ipython",
    "version": 3
   },
   "file_extension": ".py",
   "mimetype": "text/x-python",
   "name": "python",
   "nbconvert_exporter": "python",
   "pygments_lexer": "ipython3",
   "version": "3.8.6"
  },
  "toc": {
   "base_numbering": 1,
   "nav_menu": {},
   "number_sections": true,
   "sideBar": true,
   "skip_h1_title": false,
   "title_cell": "Table of Contents",
   "title_sidebar": "Contents",
   "toc_cell": false,
   "toc_position": {},
   "toc_section_display": true,
   "toc_window_display": false
  }
 },
 "nbformat": 4,
 "nbformat_minor": 5
}

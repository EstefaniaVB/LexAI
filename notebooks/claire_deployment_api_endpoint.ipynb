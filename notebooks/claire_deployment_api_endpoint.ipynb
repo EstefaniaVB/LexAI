{
 "cells": [
  {
   "cell_type": "markdown",
   "id": "20f651c8",
   "metadata": {},
   "source": [
    "# API Final Endpoint"
   ]
  },
  {
   "cell_type": "markdown",
   "id": "d4257e7a",
   "metadata": {},
   "source": [
    "**Objective:** \n",
    "Use FastAPI in order to create an API for your model.\n",
    "\n",
    "Run that API on your machine."
   ]
  },
  {
   "cell_type": "code",
   "execution_count": 3,
   "id": "49119f1e",
   "metadata": {},
   "outputs": [],
   "source": [
    "import requests"
   ]
  },
  {
   "cell_type": "code",
   "execution_count": 13,
   "id": "c6d45a0f",
   "metadata": {},
   "outputs": [
    {
     "name": "stdout",
     "output_type": "stream",
     "text": [
      "API call success\n"
     ]
    },
    {
     "data": {
      "text/plain": [
       "(200, 'no prediction', {'greeting': 'Hello LexAI'})"
      ]
     },
     "execution_count": 13,
     "metadata": {},
     "output_type": "execute_result"
    }
   ],
   "source": [
    "### Create root endpoint\n",
    "\n",
    "# Test endpoint\n",
    "# URL\n",
    "lexai_api_url = \"http://127.0.0.1:8000\"\n",
    "\n",
    "# retrieve the response\n",
    "response = requests.get(\n",
    "    lexai_api_url\n",
    ")\n",
    "\n",
    "if response.status_code == 200:\n",
    "    print(\"API call success\")\n",
    "else:\n",
    "    print(\"API call error\")\n",
    "\n",
    "response.status_code, response.json().get(\"prediction\", \"no prediction\"), response.json()"
   ]
  },
  {
   "cell_type": "code",
   "execution_count": 51,
   "id": "41023479",
   "metadata": {},
   "outputs": [
    {
     "name": "stdout",
     "output_type": "stream",
     "text": [
      "API call success\n"
     ]
    },
    {
     "data": {
      "text/plain": [
       "['6913', '75239225']"
      ]
     },
     "execution_count": 51,
     "metadata": {},
     "output_type": "execute_result"
    }
   ],
   "source": [
    "### TEST PREDICT ENDPOINT ###\n",
    "params = dict(keyword='agriculture')\n",
    "\n",
    "# URL\n",
    "lexai_api_url = \"http://127.0.0.1:8000/predict\"\n",
    "\n",
    "# retrieve the response\n",
    "response = requests.get(\n",
    "    lexai_api_url,\n",
    "    params=params\n",
    ")\n",
    "\n",
    "if response.status_code == 200:\n",
    "    print(\"API call success\")\n",
    "else:\n",
    "    print(\"API call error\")\n",
    "\n",
    "#response.status_code, response.json().get(\"prediction\", \"no prediction\"), response.json()\n",
    "response.json()"
   ]
  },
  {
   "cell_type": "code",
   "execution_count": 41,
   "id": "a31aaeff",
   "metadata": {},
   "outputs": [
    {
     "data": {
      "text/plain": [
       "{'0': {'id': '32021D0762',\n",
       "  'title': 'Commission Implementing Decision (EU) 2021/762 of 6 May 2021 concerning the extension of the action taken by the Irish Department of Agriculture, Food and the Marine permitting the making available on the market and use of biocidal products containing propan-2-ol for use as human hygiene products in accordance with Article 55(1) of Regulation (EU) No 528/2012 of the European Parliament and of the Council (notified under document C(2021) 3127) (Only the English text is authentic)',\n",
       "  'author': 'European Commission, Directorate-General for Health and Food Safety',\n",
       "  'date': '06/05/2021',\n",
       "  'link': 'https://eur-lex.europa.eu/legal-content/AUTO/?uri=CELEX:32021D0762'},\n",
       " '1': {'id': '32021D0735',\n",
       "  'title': 'Commission Implementing Decision (EU) 2021/735 of 4 May 2021 concerning the extension of the action taken by the Irish Department of Agriculture, Food and the Marine permitting the making available on the market and use of the biocidal product Biobor JF in accordance with Article 55(1) of Regulation (EU) No 528/2012 of the European Parliament and of the Council (notified under document C(2021) 3026) (Only the English text is authentic)',\n",
       "  'author': 'European Commission, Directorate-General for Health and Food Safety',\n",
       "  'date': '04/05/2021',\n",
       "  'link': 'https://eur-lex.europa.eu/legal-content/AUTO/?uri=CELEX:32021D0735'},\n",
       " '2': {'id': 'ST72082021COR1',\n",
       "  'title': 'Voting result Council Directive amending Directive 2011/16/EU on administrative cooperation in the field of taxation Adoption of the legislative act 3788th meeting of the COUNCIL OF THE EUROPEAN UNION (Agriculture and Fisheries) 22 March 2021, Brussels',\n",
       "  'author': 'Council of the European Union',\n",
       "  'date': '22/03/2021',\n",
       "  'link': 'https://eur-lex.europa.eu/legal-content/AUTO/?uri=CONSIL:ST_7208_2021_COR_1'},\n",
       " '3': {'id': 'ST72082021INIT',\n",
       "  'title': 'Voting result Council Directive amending Directive 2011/16/EU on administrative cooperation in the field of taxation Adoption of the legislative act 3788th meeting of the COUNCIL OF THE EUROPEAN UNION (Agriculture and Fisheries) 22 March 2021, Brussels',\n",
       "  'author': 'Council of the European Union',\n",
       "  'date': '22/03/2021',\n",
       "  'link': 'https://eur-lex.europa.eu/legal-content/AUTO/?uri=CONSIL:ST_7208_2021_INIT'},\n",
       " '4': {'id': 'ST72482021INIT',\n",
       "  'title': 'Proposal for a REGULATION OF THE EUROPEAN PARLIAMENT AND OF THE COUNCIL amending Regulation (EC) No 138/2004 of the European Parliament and of the Council as regards regional economic accounts for agriculture [6161/21 + REV1 + ADD1 - COM(2021) 54 final] - Opinion on the application of the Principles of Subsidiarity and Proportionality',\n",
       "  'author': 'Council of the European Union',\n",
       "  'date': '22/03/2021',\n",
       "  'link': 'https://eur-lex.europa.eu/legal-content/AUTO/?uri=CONSIL:ST_7248_2021_INIT'},\n",
       " '5': {'id': '52021PC0054R01',\n",
       "  'title': 'Proposal for a REGULATION OF THE EUROPEAN PARLIAMENT AND OF THE COUNCIL amending Regulation (EC) No 138/2004 of the European Parliament and of the Council as regards regional economic accounts for agriculture',\n",
       "  'author': 'European Commission, Eurostat',\n",
       "  'date': '26/02/2021',\n",
       "  'link': 'https://eur-lex.europa.eu/legal-content/AUTO/?uri=CELEX:52021PC0054R(01)'},\n",
       " '6': {'id': '52021PC0054',\n",
       "  'title': 'Proposal for a REGULATION OF THE EUROPEAN PARLIAMENT AND OF THE COUNCIL amending Regulation (EC) No 138/2004 of the European Parliament and of the Council as regards regional economic accounts for agriculture',\n",
       "  'author': 'European Commission, Eurostat',\n",
       "  'date': '12/02/2021',\n",
       "  'link': 'https://eur-lex.europa.eu/legal-content/AUTO/?uri=CELEX:52021PC0054'},\n",
       " '7': {'id': '62019CC0128',\n",
       "  'title': 'Opinion of Advocate General Tanchev delivered on 17 December 2020.Azienda Sanitaria Provinciale di Catania v Assessorato della Salute della Regione Siciliana.Request for a preliminary ruling from the Corte suprema di cassazione.Reference for a preliminary ruling – State aid – Agriculture sector – Slaughtering of animals affected by infectious diseases – Compensation for farmers – Notification and standstill requirements – Article 108(3) TFEU – Concepts of ‘existing aid’ and ‘new aid’ – Regulation (EC) No 659/1999 – Exemptions by categories of aid – Regulation (EU) No 702/2014 – De minimis aid – Regulation (EU) No 1408/2013.Case C-128/19.',\n",
       "  'author': 'Court of Justice',\n",
       "  'date': '17/12/2020',\n",
       "  'link': 'https://eur-lex.europa.eu/legal-content/AUTO/?uri=CELEX:62019CC0128'},\n",
       " '8': {'id': '62019CJ0815',\n",
       "  'title': 'Judgment of the Court (Third Chamber) of 29 April 2021.Natumi GmbH v Land Nordrhein-Westfalen.Request for a preliminary ruling from the Bundesverwaltungsgericht.Reference for a preliminary ruling – Agriculture and fisheries – Organic production and labelling of organic products – Regulation (EC) No 834/2007 – Article 19(2) – Articles 21 and 23 – Regulation (EC) No 889/2008 – Article 27(1) – Article 28 – Annex IX, point 1.3 – Processing of organic food – Non-organic ingredients of agricultural origin – Lithothamnium calcareum alga – Powder obtained by cleaning, grinding and drying the sediment of that alga – Classification – Use in organic foodstuffs for the purpose of calcium enrichment – Authorisation – Conditions.Case C-815/19.',\n",
       "  'author': 'Court of Justice',\n",
       "  'date': '29/04/2021',\n",
       "  'link': 'https://eur-lex.europa.eu/legal-content/AUTO/?uri=CELEX:62019CJ0815'},\n",
       " '9': {'id': '62019CJ0736',\n",
       "  'title': 'Judgment of the Court (Sixth Chamber) of 15 April 2021.ZS “Plaukti”.Request for a preliminary ruling from the Augstākā tiesa (Senāts).Reference for a preliminary ruling – Agriculture – European agricultural fund for rural development (EAFRD) – Regulation (EC) No 1698/2005 – Regulation (EU) No 65/2011 – Third subparagraph of Article 16(5) – Regulation (EC) No 73/2009 – Articles 4 and 6 – Regulation (EC) No 1122/2009 – Support for rural development – Agri-environmental payments – Aid for the maintenance of grassland biodiversity – Non-compliance with the conditions for granting those payments – Early mowing – Reduction and exclusion of those payments – Mandatory standards – Statutory management requirements – Minimum requirements for good agricultural and environmental conditions – Commitments that exceed mandatory standards, minimum requirements and other appropriate mandatory requirements established by national legislation.Case C-736/19.',\n",
       "  'author': 'Court of Justice',\n",
       "  'date': '15/04/2021',\n",
       "  'link': 'https://eur-lex.europa.eu/legal-content/AUTO/?uri=CELEX:62019CJ0736'},\n",
       " '10': {'id': '62019CJ0128',\n",
       "  'title': 'Judgment of the Court (Fourth Chamber) of 20 May 2021.Azienda Sanitaria Provinciale di Catania v Assessorato della Salute della Regione Siciliana.Request for a preliminary ruling from the Corte suprema di cassazione.Reference for a preliminary ruling – State aid – Agriculture sector – Slaughtering of animals affected by infectious diseases – Compensation for farmers – Notification and standstill requirements – Article 108(3) TFEU – Concepts of ‘existing aid’ and ‘new aid’ – Regulation (EC) No 659/1999 – Exemptions by categories of aid – Regulation (EU) No 702/2014 – De minimis aid – Regulation (EU) No 1408/2013.Case C-128/19.',\n",
       "  'author': 'Court of Justice',\n",
       "  'date': '20/05/2021',\n",
       "  'link': 'https://eur-lex.europa.eu/legal-content/AUTO/?uri=CELEX:62019CJ0128'},\n",
       " '11': {'id': '62019CJ0294',\n",
       "  'title': 'Judgment of the Court (Sixth Chamber) of 29 April 2021.Agenţia de Plăţi şi Intervenţie pentru Agricultură - Centrul Judeţean Tulcea and Ira Invest SRL v SC Piscicola Tulcea SA and Agenţia de Plăţi şi Intervenţie pentru Agricultură - Centrul Judeţean Tulcea.Requests for a preliminary ruling from the Curtea de Apel Constanţa.References for a preliminary ruling – Agriculture – Common agricultural policy (CAP) – Direct support schemes – Eligible hectare – Aquaculture facility – Land use – Actual use for agricultural purposes – Use complying with the entries in the land register.Joined Cases C-294/19 and C-304/19.',\n",
       "  'author': 'Court of Justice',\n",
       "  'date': '29/04/2021',\n",
       "  'link': 'https://eur-lex.europa.eu/legal-content/AUTO/?uri=CELEX:62019CJ0294'},\n",
       " '12': {'id': 'ST91072021INIT',\n",
       "  'title': \"Voting result Regulation of the European Parliament and of the Council establishing the Neighbourhood, Development and International Cooperation Instrument – Global Europe, amending and repealing Decision No 466/2014/EU of the European Parliament and of the Council and repealing Regulation (EU) 2017/1601 of the European Parliament and of the Council and Council Regulation (EC, Euratom) No 480/2009 Adoption of the Council's position at first reading and of the statement of the Council's reasons 3796th meeting of the COUNCIL OF THE EUROPEAN UNION (Agriculture and Fisheries) 26-27 May 2021, Brussels\",\n",
       "  'author': 'Council of the European Union',\n",
       "  'date': '26/05/2021',\n",
       "  'link': 'https://eur-lex.europa.eu/legal-content/AUTO/?uri=CONSIL:ST_9107_2021_INIT'},\n",
       " '13': {'id': 'ST69002021INIT',\n",
       "  'title': 'Proposal for a REGULATION OF THE EUROPEAN PARLIAMENT AND OF THE COUNCIL amending Regulations (EU) No 1308/2013 establishing a common organisation of the markets in agricultural products, (EU) No 1151/2012 on quality schemes for agricultural products and foodstuffs, (EU) No 251/2014 on the definition, description, presentation, labelling and the protection of geographical indications of aromatised wine products, (EU) No 228/2013 laying down specific measures for agriculture in the outermost regions of the Union and (EU) No 229/2013 laying down specific measures for agriculture in favour of the smaller Aegean islands - Policy debate',\n",
       "  'author': 'Council of the European Union',\n",
       "  'date': '11/03/2021',\n",
       "  'link': 'https://eur-lex.europa.eu/legal-content/AUTO/?uri=CONSIL:ST_6900_2021_INIT'},\n",
       " '14': {'id': '52021XC053102',\n",
       "  'title': 'Publication of an application pursuant to Article 17(6) of Regulation (EC) No 110/2008 of the European Parliament and of the Council on the definition, description, presentation, labelling and the protection of geographical indications of spirit drinks and repealing Council Regulation (EEC) No 1576/89 2021/C 205/09',\n",
       "  'author': 'European Commission, Directorate-General for Agriculture and Rural Development',\n",
       "  'date': '31/05/2021',\n",
       "  'link': 'https://eur-lex.europa.eu/legal-content/AUTO/?uri=CELEX:52021XC0531(02)'},\n",
       " '15': {'id': '32021D0871',\n",
       "  'title': 'Commission Implementing Decision (EU) 2021/871 of 28 May 2021 on the clearance of the accounts of the paying agencies of the United Kingdom concerning expenditure financed by the European Agricultural Guarantee Fund (EAGF) for financial year 2020 and on the reimbursement of appropriations related to financial discipline, carried over from financial year 2020 (notified under document C(2021) 3685) (Only the English text is authentic)',\n",
       "  'author': 'European Commission, Directorate-General for Agriculture and Rural Development',\n",
       "  'date': '28/05/2021',\n",
       "  'link': 'https://eur-lex.europa.eu/legal-content/AUTO/?uri=CELEX:32021D0871'},\n",
       " '16': {'id': '32021D0873',\n",
       "  'title': 'Commission Implementing Decision (EU) 2021/873 of 28 May 2021 on the clearance of the accounts of the paying agencies of Member States concerning expenditure financed by the European Agricultural Fund for Rural Development (EAFRD) for financial year 2020 (notified under document C(2021) 3690)',\n",
       "  'author': 'European Commission, Directorate-General for Agriculture and Rural Development',\n",
       "  'date': '28/05/2021',\n",
       "  'link': 'https://eur-lex.europa.eu/legal-content/AUTO/?uri=CELEX:32021D0873'},\n",
       " '17': {'id': '32021D0870',\n",
       "  'title': 'Commission Implementing Decision (EU) 2021/870 of 28 May 2021 on the clearance of the accounts of the paying agencies of Member States concerning expenditure financed by the European Agricultural Guarantee Fund (EAGF) for financial year 2020 (notified under document C(2021) 3684)',\n",
       "  'author': 'European Commission, Directorate-General for Agriculture and Rural Development',\n",
       "  'date': '28/05/2021',\n",
       "  'link': 'https://eur-lex.europa.eu/legal-content/AUTO/?uri=CELEX:32021D0870'},\n",
       " '18': {'id': '32021R0865',\n",
       "  'title': 'Commission Implementing Regulation (EU) 2021/865 of 28 May 2021 entering a name in the register of protected designations of origin and protected geographical indications (‘Rooibos’/‘Red Bush’ (PDO))',\n",
       "  'author': 'European Commission, Directorate-General for Agriculture and Rural Development',\n",
       "  'date': '28/05/2021',\n",
       "  'link': 'https://eur-lex.europa.eu/legal-content/AUTO/?uri=CELEX:32021R0865'},\n",
       " '19': {'id': '32021D0872',\n",
       "  'title': 'Commission Implementing Decision (EU) 2021/872 of 28 May 2021 on the clearance of the accounts of the paying agencies of the United Kingdom concerning expenditure financed by the European Agricultural Fund for Rural Development (EAFRD) for financial year 2020 (notified under document C(2021) 3686) (Only the English text is authentic)',\n",
       "  'author': 'European Commission, Directorate-General for Agriculture and Rural Development',\n",
       "  'date': '28/05/2021',\n",
       "  'link': 'https://eur-lex.europa.eu/legal-content/AUTO/?uri=CELEX:32021D0872'}}"
      ]
     },
     "execution_count": 41,
     "metadata": {},
     "output_type": "execute_result"
    }
   ],
   "source": [
    "query='agriculture'\n",
    "\n",
    "import requests\n",
    "\n",
    "lexai_api_url = \"http://127.0.0.1:8000/query\"\n",
    "response = requests.get(lexai_api_url,params={'query':query}).json()\n",
    "response"
   ]
  },
  {
   "cell_type": "code",
   "execution_count": 54,
   "id": "9e00975b",
   "metadata": {},
   "outputs": [
    {
     "data": {
      "text/plain": [
       "('6919', '75239248')"
      ]
     },
     "execution_count": 54,
     "metadata": {},
     "output_type": "execute_result"
    }
   ],
   "source": [
    "import requests\n",
    "\n",
    "query='agriculture'\n",
    "\n",
    "lexai_twitter_url = \"http://127.0.0.1:8000/predict\"\n",
    "tweet_params=dict(keyword=query)\n",
    "response = requests.get(lexai_twitter_url,params=tweet_params).json()\n",
    "response[0], response[1]"
   ]
  },
  {
   "cell_type": "code",
   "execution_count": 55,
   "id": "0a81a938",
   "metadata": {},
   "outputs": [],
   "source": [
    "query='agriculture'\n",
    "\n",
    "import requests\n",
    "\n",
    "lexai_twitter_url = \"http://127.0.0.1:8000/predict\"\n",
    "tweet_params=dict(keyword=query)\n",
    "response = requests.get(lexai_twitter_url,params=tweet_params).json()"
   ]
  },
  {
   "cell_type": "code",
   "execution_count": null,
   "id": "6a7f7bbc",
   "metadata": {},
   "outputs": [],
   "source": []
  }
 ],
 "metadata": {
  "kernelspec": {
   "display_name": "Python 3",
   "language": "python",
   "name": "python3"
  },
  "language_info": {
   "codemirror_mode": {
    "name": "ipython",
    "version": 3
   },
   "file_extension": ".py",
   "mimetype": "text/x-python",
   "name": "python",
   "nbconvert_exporter": "python",
   "pygments_lexer": "ipython3",
   "version": "3.8.6"
  },
  "toc": {
   "base_numbering": 1,
   "nav_menu": {},
   "number_sections": true,
   "sideBar": true,
   "skip_h1_title": false,
   "title_cell": "Table of Contents",
   "title_sidebar": "Contents",
   "toc_cell": false,
   "toc_position": {},
   "toc_section_display": true,
   "toc_window_display": false
  }
 },
 "nbformat": 4,
 "nbformat_minor": 5
}

{
 "cells": [
  {
   "cell_type": "code",
   "execution_count": 35,
   "id": "73d12816-ef1c-41e0-b38b-289b3a5ce6e5",
   "metadata": {},
   "outputs": [
    {
     "data": {
      "text/plain": [
       "(<Response [200]>, [<Response [302]>])"
      ]
     },
     "execution_count": 35,
     "metadata": {},
     "output_type": "execute_result"
    }
   ],
   "source": [
    "import requests\n",
    "\n",
    "url = \"https://eur-lex.europa.eu/search.html\"\n",
    "\n",
    "params = {\n",
    "    \"scope\": \"EURLEX\",\n",
    "    \"text\": 'aaaaaaaaaaaaaaaaaaaaa',\n",
    "    \"lang\": 'en',\n",
    "    \"type\": \"quick\",\n",
    "    \"DTS_DOM\": \"EU_LAW\",\n",
    "    \"sortOne\": \"DD\",\n",
    "    \"sortOneOrder\": \"desc\",\n",
    "    \"DD_YEAR\": 2020,\n",
    "    \"page\": 2\n",
    "}\n",
    "r = requests.get(url, params=params)\n",
    "r, r.history"
   ]
  },
  {
   "cell_type": "code",
   "execution_count": 36,
   "id": "711cb7e7-f037-41e3-97dd-2378a28c2621",
   "metadata": {},
   "outputs": [
    {
     "data": {
      "text/plain": [
       "'https://eur-lex.europa.eu/search.html?scope=EURLEX&DD_YEAR=2020&sortOneOrder=desc&DTS_DOM=EU_LAW&sortOne=DD&page=2&text=aaaaaaaaaaaaaaaaaaaaa&lang=en&type=quick&qid=1622553666155'"
      ]
     },
     "execution_count": 36,
     "metadata": {},
     "output_type": "execute_result"
    }
   ],
   "source": [
    "r.url"
   ]
  },
  {
   "cell_type": "code",
   "execution_count": 62,
   "id": "9779ceb6-e907-4af0-8944-1ff43ef6c3c7",
   "metadata": {},
   "outputs": [],
   "source": [
    "import requests\n",
    "from bs4 import BeautifulSoup\n",
    "import unicodedata\n",
    "\n",
    "import meilisearch\n",
    "import json\n",
    "import re"
   ]
  },
  {
   "cell_type": "code",
   "execution_count": 161,
   "id": "6643b9c8-1f1d-4470-8587-3bbcddcaa303",
   "metadata": {},
   "outputs": [],
   "source": [
    "def search_page(query, page=1, language='en'):\n",
    "    url = \"https://eur-lex.europa.eu/search.html\"\n",
    "\n",
    "    params = {\n",
    "        \"scope\": \"EURLEX\",\n",
    "        \"text\": query,\n",
    "        \"lang\": language,\n",
    "        \"type\": \"quick\",\n",
    "        \"DTS_DOM\": \"EU_LAW\",\n",
    "        \"sortOne\": \"DD\",\n",
    "        \"sortOneOrder\": \"desc\",\n",
    "        \"page\": page\n",
    "    }\n",
    "\n",
    "    html = requests.get(url, params=params).content\n",
    "    soup = BeautifulSoup(html, 'html.parser')\n",
    "    \n",
    "    page_results = soup.find_all('div', class_='SearchResult')\n",
    "    final_results = []\n",
    "    \n",
    "    for result in page_results:\n",
    "        entry = {}\n",
    "        \n",
    "        celex = result.find_all('div', class_='col-sm-6')[0].find('dd')\n",
    "        celex = result.find('p').text if celex is None else celex.text\n",
    "        celex = re.sub(r'[^a-zA-Z0-9]', '', celex)\n",
    "        \n",
    "        title = result.find('a', class_='title')\n",
    "        col2 = result.find_all('div', class_='col-sm-6')[1].find_all('dd')\n",
    "        date = list(filter(lambda v: re.match(\"\\d{2}/\\d{2}/\\d{4}\", v.text), col2))[0]\n",
    "        \n",
    "        entry['id'] = unicodedata.normalize('NFKD', celex)\n",
    "        entry['title'] = unicodedata.normalize('NFKD', title.text)\n",
    "        entry['author'] = unicodedata.normalize('NFKD', col2[0].text)\n",
    "        entry['date'] = unicodedata.normalize('NFKD', date.text[:10])\n",
    "        entry['link'] = unicodedata.normalize('NFKD', title['name'])\n",
    "        final_results.append(entry)\n",
    "    return final_results"
   ]
  },
  {
   "cell_type": "code",
   "execution_count": 162,
   "id": "3e591608-c9ed-42d7-ab03-2c4541631371",
   "metadata": {},
   "outputs": [],
   "source": [
    "def search_many(query, pages=10):\n",
    "    results = []\n",
    "    for page in range(1, pages+1):\n",
    "        results.extend(search_page(query, page))\n",
    "    return results"
   ]
  },
  {
   "cell_type": "code",
   "execution_count": 163,
   "id": "2a60c5e1-a500-4214-bb4b-94ea184f8815",
   "metadata": {},
   "outputs": [],
   "source": [
    "results = search_many('agriculture', 30)"
   ]
  },
  {
   "cell_type": "code",
   "execution_count": 229,
   "id": "a6591d94-ccd0-4d02-940f-c544fe6d3cbe",
   "metadata": {},
   "outputs": [],
   "source": [
    "client = meilisearch.Client('http://127.0.0.1:7700')"
   ]
  },
  {
   "cell_type": "code",
   "execution_count": 228,
   "id": "33b946a7-0218-482e-8b9b-78166b435fb5",
   "metadata": {},
   "outputs": [
    {
     "ename": "MeiliSearchCommunicationError",
     "evalue": "MeiliSearchCommunicationError, HTTPConnectionPool(host='127.0.0.1', port=7700): Max retries exceeded with url: /indexes/eurlex/documents (Caused by NewConnectionError('<urllib3.connection.HTTPConnection object at 0x7fd935fa2610>: Failed to establish a new connection: [Errno 111] Connection refused'))",
     "output_type": "error",
     "traceback": [
      "\u001b[0;31m---------------------------------------------------------------------------\u001b[0m",
      "\u001b[0;31mConnectionRefusedError\u001b[0m                    Traceback (most recent call last)",
      "\u001b[0;32m~/.pyenv/versions/3.8.6/envs/lewagon/lib/python3.8/site-packages/urllib3/connection.py\u001b[0m in \u001b[0;36m_new_conn\u001b[0;34m(self)\u001b[0m\n\u001b[1;32m    168\u001b[0m         \u001b[0;32mtry\u001b[0m\u001b[0;34m:\u001b[0m\u001b[0;34m\u001b[0m\u001b[0;34m\u001b[0m\u001b[0m\n\u001b[0;32m--> 169\u001b[0;31m             conn = connection.create_connection(\n\u001b[0m\u001b[1;32m    170\u001b[0m                 \u001b[0;34m(\u001b[0m\u001b[0mself\u001b[0m\u001b[0;34m.\u001b[0m\u001b[0m_dns_host\u001b[0m\u001b[0;34m,\u001b[0m \u001b[0mself\u001b[0m\u001b[0;34m.\u001b[0m\u001b[0mport\u001b[0m\u001b[0;34m)\u001b[0m\u001b[0;34m,\u001b[0m \u001b[0mself\u001b[0m\u001b[0;34m.\u001b[0m\u001b[0mtimeout\u001b[0m\u001b[0;34m,\u001b[0m \u001b[0;34m**\u001b[0m\u001b[0mextra_kw\u001b[0m\u001b[0;34m\u001b[0m\u001b[0;34m\u001b[0m\u001b[0m\n",
      "\u001b[0;32m~/.pyenv/versions/3.8.6/envs/lewagon/lib/python3.8/site-packages/urllib3/util/connection.py\u001b[0m in \u001b[0;36mcreate_connection\u001b[0;34m(address, timeout, source_address, socket_options)\u001b[0m\n\u001b[1;32m     95\u001b[0m     \u001b[0;32mif\u001b[0m \u001b[0merr\u001b[0m \u001b[0;32mis\u001b[0m \u001b[0;32mnot\u001b[0m \u001b[0;32mNone\u001b[0m\u001b[0;34m:\u001b[0m\u001b[0;34m\u001b[0m\u001b[0;34m\u001b[0m\u001b[0m\n\u001b[0;32m---> 96\u001b[0;31m         \u001b[0;32mraise\u001b[0m \u001b[0merr\u001b[0m\u001b[0;34m\u001b[0m\u001b[0;34m\u001b[0m\u001b[0m\n\u001b[0m\u001b[1;32m     97\u001b[0m \u001b[0;34m\u001b[0m\u001b[0m\n",
      "\u001b[0;32m~/.pyenv/versions/3.8.6/envs/lewagon/lib/python3.8/site-packages/urllib3/util/connection.py\u001b[0m in \u001b[0;36mcreate_connection\u001b[0;34m(address, timeout, source_address, socket_options)\u001b[0m\n\u001b[1;32m     85\u001b[0m                 \u001b[0msock\u001b[0m\u001b[0;34m.\u001b[0m\u001b[0mbind\u001b[0m\u001b[0;34m(\u001b[0m\u001b[0msource_address\u001b[0m\u001b[0;34m)\u001b[0m\u001b[0;34m\u001b[0m\u001b[0;34m\u001b[0m\u001b[0m\n\u001b[0;32m---> 86\u001b[0;31m             \u001b[0msock\u001b[0m\u001b[0;34m.\u001b[0m\u001b[0mconnect\u001b[0m\u001b[0;34m(\u001b[0m\u001b[0msa\u001b[0m\u001b[0;34m)\u001b[0m\u001b[0;34m\u001b[0m\u001b[0;34m\u001b[0m\u001b[0m\n\u001b[0m\u001b[1;32m     87\u001b[0m             \u001b[0;32mreturn\u001b[0m \u001b[0msock\u001b[0m\u001b[0;34m\u001b[0m\u001b[0;34m\u001b[0m\u001b[0m\n",
      "\u001b[0;31mConnectionRefusedError\u001b[0m: [Errno 111] Connection refused",
      "\nDuring handling of the above exception, another exception occurred:\n",
      "\u001b[0;31mNewConnectionError\u001b[0m                        Traceback (most recent call last)",
      "\u001b[0;32m~/.pyenv/versions/3.8.6/envs/lewagon/lib/python3.8/site-packages/urllib3/connectionpool.py\u001b[0m in \u001b[0;36murlopen\u001b[0;34m(self, method, url, body, headers, retries, redirect, assert_same_host, timeout, pool_timeout, release_conn, chunked, body_pos, **response_kw)\u001b[0m\n\u001b[1;32m    698\u001b[0m             \u001b[0;31m# Make the request on the httplib connection object.\u001b[0m\u001b[0;34m\u001b[0m\u001b[0;34m\u001b[0m\u001b[0;34m\u001b[0m\u001b[0m\n\u001b[0;32m--> 699\u001b[0;31m             httplib_response = self._make_request(\n\u001b[0m\u001b[1;32m    700\u001b[0m                 \u001b[0mconn\u001b[0m\u001b[0;34m,\u001b[0m\u001b[0;34m\u001b[0m\u001b[0;34m\u001b[0m\u001b[0m\n",
      "\u001b[0;32m~/.pyenv/versions/3.8.6/envs/lewagon/lib/python3.8/site-packages/urllib3/connectionpool.py\u001b[0m in \u001b[0;36m_make_request\u001b[0;34m(self, conn, method, url, timeout, chunked, **httplib_request_kw)\u001b[0m\n\u001b[1;32m    393\u001b[0m             \u001b[0;32melse\u001b[0m\u001b[0;34m:\u001b[0m\u001b[0;34m\u001b[0m\u001b[0;34m\u001b[0m\u001b[0m\n\u001b[0;32m--> 394\u001b[0;31m                 \u001b[0mconn\u001b[0m\u001b[0;34m.\u001b[0m\u001b[0mrequest\u001b[0m\u001b[0;34m(\u001b[0m\u001b[0mmethod\u001b[0m\u001b[0;34m,\u001b[0m \u001b[0murl\u001b[0m\u001b[0;34m,\u001b[0m \u001b[0;34m**\u001b[0m\u001b[0mhttplib_request_kw\u001b[0m\u001b[0;34m)\u001b[0m\u001b[0;34m\u001b[0m\u001b[0;34m\u001b[0m\u001b[0m\n\u001b[0m\u001b[1;32m    395\u001b[0m \u001b[0;34m\u001b[0m\u001b[0m\n",
      "\u001b[0;32m~/.pyenv/versions/3.8.6/envs/lewagon/lib/python3.8/site-packages/urllib3/connection.py\u001b[0m in \u001b[0;36mrequest\u001b[0;34m(self, method, url, body, headers)\u001b[0m\n\u001b[1;32m    233\u001b[0m             \u001b[0mheaders\u001b[0m\u001b[0;34m[\u001b[0m\u001b[0;34m\"User-Agent\"\u001b[0m\u001b[0;34m]\u001b[0m \u001b[0;34m=\u001b[0m \u001b[0m_get_default_user_agent\u001b[0m\u001b[0;34m(\u001b[0m\u001b[0;34m)\u001b[0m\u001b[0;34m\u001b[0m\u001b[0;34m\u001b[0m\u001b[0m\n\u001b[0;32m--> 234\u001b[0;31m         \u001b[0msuper\u001b[0m\u001b[0;34m(\u001b[0m\u001b[0mHTTPConnection\u001b[0m\u001b[0;34m,\u001b[0m \u001b[0mself\u001b[0m\u001b[0;34m)\u001b[0m\u001b[0;34m.\u001b[0m\u001b[0mrequest\u001b[0m\u001b[0;34m(\u001b[0m\u001b[0mmethod\u001b[0m\u001b[0;34m,\u001b[0m \u001b[0murl\u001b[0m\u001b[0;34m,\u001b[0m \u001b[0mbody\u001b[0m\u001b[0;34m=\u001b[0m\u001b[0mbody\u001b[0m\u001b[0;34m,\u001b[0m \u001b[0mheaders\u001b[0m\u001b[0;34m=\u001b[0m\u001b[0mheaders\u001b[0m\u001b[0;34m)\u001b[0m\u001b[0;34m\u001b[0m\u001b[0;34m\u001b[0m\u001b[0m\n\u001b[0m\u001b[1;32m    235\u001b[0m \u001b[0;34m\u001b[0m\u001b[0m\n",
      "\u001b[0;32m~/.pyenv/versions/3.8.6/lib/python3.8/http/client.py\u001b[0m in \u001b[0;36mrequest\u001b[0;34m(self, method, url, body, headers, encode_chunked)\u001b[0m\n\u001b[1;32m   1254\u001b[0m         \u001b[0;34m\"\"\"Send a complete request to the server.\"\"\"\u001b[0m\u001b[0;34m\u001b[0m\u001b[0;34m\u001b[0m\u001b[0m\n\u001b[0;32m-> 1255\u001b[0;31m         \u001b[0mself\u001b[0m\u001b[0;34m.\u001b[0m\u001b[0m_send_request\u001b[0m\u001b[0;34m(\u001b[0m\u001b[0mmethod\u001b[0m\u001b[0;34m,\u001b[0m \u001b[0murl\u001b[0m\u001b[0;34m,\u001b[0m \u001b[0mbody\u001b[0m\u001b[0;34m,\u001b[0m \u001b[0mheaders\u001b[0m\u001b[0;34m,\u001b[0m \u001b[0mencode_chunked\u001b[0m\u001b[0;34m)\u001b[0m\u001b[0;34m\u001b[0m\u001b[0;34m\u001b[0m\u001b[0m\n\u001b[0m\u001b[1;32m   1256\u001b[0m \u001b[0;34m\u001b[0m\u001b[0m\n",
      "\u001b[0;32m~/.pyenv/versions/3.8.6/lib/python3.8/http/client.py\u001b[0m in \u001b[0;36m_send_request\u001b[0;34m(self, method, url, body, headers, encode_chunked)\u001b[0m\n\u001b[1;32m   1300\u001b[0m             \u001b[0mbody\u001b[0m \u001b[0;34m=\u001b[0m \u001b[0m_encode\u001b[0m\u001b[0;34m(\u001b[0m\u001b[0mbody\u001b[0m\u001b[0;34m,\u001b[0m \u001b[0;34m'body'\u001b[0m\u001b[0;34m)\u001b[0m\u001b[0;34m\u001b[0m\u001b[0;34m\u001b[0m\u001b[0m\n\u001b[0;32m-> 1301\u001b[0;31m         \u001b[0mself\u001b[0m\u001b[0;34m.\u001b[0m\u001b[0mendheaders\u001b[0m\u001b[0;34m(\u001b[0m\u001b[0mbody\u001b[0m\u001b[0;34m,\u001b[0m \u001b[0mencode_chunked\u001b[0m\u001b[0;34m=\u001b[0m\u001b[0mencode_chunked\u001b[0m\u001b[0;34m)\u001b[0m\u001b[0;34m\u001b[0m\u001b[0;34m\u001b[0m\u001b[0m\n\u001b[0m\u001b[1;32m   1302\u001b[0m \u001b[0;34m\u001b[0m\u001b[0m\n",
      "\u001b[0;32m~/.pyenv/versions/3.8.6/lib/python3.8/http/client.py\u001b[0m in \u001b[0;36mendheaders\u001b[0;34m(self, message_body, encode_chunked)\u001b[0m\n\u001b[1;32m   1249\u001b[0m             \u001b[0;32mraise\u001b[0m \u001b[0mCannotSendHeader\u001b[0m\u001b[0;34m(\u001b[0m\u001b[0;34m)\u001b[0m\u001b[0;34m\u001b[0m\u001b[0;34m\u001b[0m\u001b[0m\n\u001b[0;32m-> 1250\u001b[0;31m         \u001b[0mself\u001b[0m\u001b[0;34m.\u001b[0m\u001b[0m_send_output\u001b[0m\u001b[0;34m(\u001b[0m\u001b[0mmessage_body\u001b[0m\u001b[0;34m,\u001b[0m \u001b[0mencode_chunked\u001b[0m\u001b[0;34m=\u001b[0m\u001b[0mencode_chunked\u001b[0m\u001b[0;34m)\u001b[0m\u001b[0;34m\u001b[0m\u001b[0;34m\u001b[0m\u001b[0m\n\u001b[0m\u001b[1;32m   1251\u001b[0m \u001b[0;34m\u001b[0m\u001b[0m\n",
      "\u001b[0;32m~/.pyenv/versions/3.8.6/lib/python3.8/http/client.py\u001b[0m in \u001b[0;36m_send_output\u001b[0;34m(self, message_body, encode_chunked)\u001b[0m\n\u001b[1;32m   1009\u001b[0m         \u001b[0;32mdel\u001b[0m \u001b[0mself\u001b[0m\u001b[0;34m.\u001b[0m\u001b[0m_buffer\u001b[0m\u001b[0;34m[\u001b[0m\u001b[0;34m:\u001b[0m\u001b[0;34m]\u001b[0m\u001b[0;34m\u001b[0m\u001b[0;34m\u001b[0m\u001b[0m\n\u001b[0;32m-> 1010\u001b[0;31m         \u001b[0mself\u001b[0m\u001b[0;34m.\u001b[0m\u001b[0msend\u001b[0m\u001b[0;34m(\u001b[0m\u001b[0mmsg\u001b[0m\u001b[0;34m)\u001b[0m\u001b[0;34m\u001b[0m\u001b[0;34m\u001b[0m\u001b[0m\n\u001b[0m\u001b[1;32m   1011\u001b[0m \u001b[0;34m\u001b[0m\u001b[0m\n",
      "\u001b[0;32m~/.pyenv/versions/3.8.6/lib/python3.8/http/client.py\u001b[0m in \u001b[0;36msend\u001b[0;34m(self, data)\u001b[0m\n\u001b[1;32m    949\u001b[0m             \u001b[0;32mif\u001b[0m \u001b[0mself\u001b[0m\u001b[0;34m.\u001b[0m\u001b[0mauto_open\u001b[0m\u001b[0;34m:\u001b[0m\u001b[0;34m\u001b[0m\u001b[0;34m\u001b[0m\u001b[0m\n\u001b[0;32m--> 950\u001b[0;31m                 \u001b[0mself\u001b[0m\u001b[0;34m.\u001b[0m\u001b[0mconnect\u001b[0m\u001b[0;34m(\u001b[0m\u001b[0;34m)\u001b[0m\u001b[0;34m\u001b[0m\u001b[0;34m\u001b[0m\u001b[0m\n\u001b[0m\u001b[1;32m    951\u001b[0m             \u001b[0;32melse\u001b[0m\u001b[0;34m:\u001b[0m\u001b[0;34m\u001b[0m\u001b[0;34m\u001b[0m\u001b[0m\n",
      "\u001b[0;32m~/.pyenv/versions/3.8.6/envs/lewagon/lib/python3.8/site-packages/urllib3/connection.py\u001b[0m in \u001b[0;36mconnect\u001b[0;34m(self)\u001b[0m\n\u001b[1;32m    199\u001b[0m     \u001b[0;32mdef\u001b[0m \u001b[0mconnect\u001b[0m\u001b[0;34m(\u001b[0m\u001b[0mself\u001b[0m\u001b[0;34m)\u001b[0m\u001b[0;34m:\u001b[0m\u001b[0;34m\u001b[0m\u001b[0;34m\u001b[0m\u001b[0m\n\u001b[0;32m--> 200\u001b[0;31m         \u001b[0mconn\u001b[0m \u001b[0;34m=\u001b[0m \u001b[0mself\u001b[0m\u001b[0;34m.\u001b[0m\u001b[0m_new_conn\u001b[0m\u001b[0;34m(\u001b[0m\u001b[0;34m)\u001b[0m\u001b[0;34m\u001b[0m\u001b[0;34m\u001b[0m\u001b[0m\n\u001b[0m\u001b[1;32m    201\u001b[0m         \u001b[0mself\u001b[0m\u001b[0;34m.\u001b[0m\u001b[0m_prepare_conn\u001b[0m\u001b[0;34m(\u001b[0m\u001b[0mconn\u001b[0m\u001b[0;34m)\u001b[0m\u001b[0;34m\u001b[0m\u001b[0;34m\u001b[0m\u001b[0m\n",
      "\u001b[0;32m~/.pyenv/versions/3.8.6/envs/lewagon/lib/python3.8/site-packages/urllib3/connection.py\u001b[0m in \u001b[0;36m_new_conn\u001b[0;34m(self)\u001b[0m\n\u001b[1;32m    180\u001b[0m         \u001b[0;32mexcept\u001b[0m \u001b[0mSocketError\u001b[0m \u001b[0;32mas\u001b[0m \u001b[0me\u001b[0m\u001b[0;34m:\u001b[0m\u001b[0;34m\u001b[0m\u001b[0;34m\u001b[0m\u001b[0m\n\u001b[0;32m--> 181\u001b[0;31m             raise NewConnectionError(\n\u001b[0m\u001b[1;32m    182\u001b[0m                 \u001b[0mself\u001b[0m\u001b[0;34m,\u001b[0m \u001b[0;34m\"Failed to establish a new connection: %s\"\u001b[0m \u001b[0;34m%\u001b[0m \u001b[0me\u001b[0m\u001b[0;34m\u001b[0m\u001b[0;34m\u001b[0m\u001b[0m\n",
      "\u001b[0;31mNewConnectionError\u001b[0m: <urllib3.connection.HTTPConnection object at 0x7fd935fa2610>: Failed to establish a new connection: [Errno 111] Connection refused",
      "\nDuring handling of the above exception, another exception occurred:\n",
      "\u001b[0;31mMaxRetryError\u001b[0m                             Traceback (most recent call last)",
      "\u001b[0;32m~/.pyenv/versions/3.8.6/envs/lewagon/lib/python3.8/site-packages/requests/adapters.py\u001b[0m in \u001b[0;36msend\u001b[0;34m(self, request, stream, timeout, verify, cert, proxies)\u001b[0m\n\u001b[1;32m    438\u001b[0m             \u001b[0;32mif\u001b[0m \u001b[0;32mnot\u001b[0m \u001b[0mchunked\u001b[0m\u001b[0;34m:\u001b[0m\u001b[0;34m\u001b[0m\u001b[0;34m\u001b[0m\u001b[0m\n\u001b[0;32m--> 439\u001b[0;31m                 resp = conn.urlopen(\n\u001b[0m\u001b[1;32m    440\u001b[0m                     \u001b[0mmethod\u001b[0m\u001b[0;34m=\u001b[0m\u001b[0mrequest\u001b[0m\u001b[0;34m.\u001b[0m\u001b[0mmethod\u001b[0m\u001b[0;34m,\u001b[0m\u001b[0;34m\u001b[0m\u001b[0;34m\u001b[0m\u001b[0m\n",
      "\u001b[0;32m~/.pyenv/versions/3.8.6/envs/lewagon/lib/python3.8/site-packages/urllib3/connectionpool.py\u001b[0m in \u001b[0;36murlopen\u001b[0;34m(self, method, url, body, headers, retries, redirect, assert_same_host, timeout, pool_timeout, release_conn, chunked, body_pos, **response_kw)\u001b[0m\n\u001b[1;32m    754\u001b[0m \u001b[0;34m\u001b[0m\u001b[0m\n\u001b[0;32m--> 755\u001b[0;31m             retries = retries.increment(\n\u001b[0m\u001b[1;32m    756\u001b[0m                 \u001b[0mmethod\u001b[0m\u001b[0;34m,\u001b[0m \u001b[0murl\u001b[0m\u001b[0;34m,\u001b[0m \u001b[0merror\u001b[0m\u001b[0;34m=\u001b[0m\u001b[0me\u001b[0m\u001b[0;34m,\u001b[0m \u001b[0m_pool\u001b[0m\u001b[0;34m=\u001b[0m\u001b[0mself\u001b[0m\u001b[0;34m,\u001b[0m \u001b[0m_stacktrace\u001b[0m\u001b[0;34m=\u001b[0m\u001b[0msys\u001b[0m\u001b[0;34m.\u001b[0m\u001b[0mexc_info\u001b[0m\u001b[0;34m(\u001b[0m\u001b[0;34m)\u001b[0m\u001b[0;34m[\u001b[0m\u001b[0;36m2\u001b[0m\u001b[0;34m]\u001b[0m\u001b[0;34m\u001b[0m\u001b[0;34m\u001b[0m\u001b[0m\n",
      "\u001b[0;32m~/.pyenv/versions/3.8.6/envs/lewagon/lib/python3.8/site-packages/urllib3/util/retry.py\u001b[0m in \u001b[0;36mincrement\u001b[0;34m(self, method, url, response, error, _pool, _stacktrace)\u001b[0m\n\u001b[1;32m    573\u001b[0m         \u001b[0;32mif\u001b[0m \u001b[0mnew_retry\u001b[0m\u001b[0;34m.\u001b[0m\u001b[0mis_exhausted\u001b[0m\u001b[0;34m(\u001b[0m\u001b[0;34m)\u001b[0m\u001b[0;34m:\u001b[0m\u001b[0;34m\u001b[0m\u001b[0;34m\u001b[0m\u001b[0m\n\u001b[0;32m--> 574\u001b[0;31m             \u001b[0;32mraise\u001b[0m \u001b[0mMaxRetryError\u001b[0m\u001b[0;34m(\u001b[0m\u001b[0m_pool\u001b[0m\u001b[0;34m,\u001b[0m \u001b[0murl\u001b[0m\u001b[0;34m,\u001b[0m \u001b[0merror\u001b[0m \u001b[0;32mor\u001b[0m \u001b[0mResponseError\u001b[0m\u001b[0;34m(\u001b[0m\u001b[0mcause\u001b[0m\u001b[0;34m)\u001b[0m\u001b[0;34m)\u001b[0m\u001b[0;34m\u001b[0m\u001b[0;34m\u001b[0m\u001b[0m\n\u001b[0m\u001b[1;32m    575\u001b[0m \u001b[0;34m\u001b[0m\u001b[0m\n",
      "\u001b[0;31mMaxRetryError\u001b[0m: HTTPConnectionPool(host='127.0.0.1', port=7700): Max retries exceeded with url: /indexes/eurlex/documents (Caused by NewConnectionError('<urllib3.connection.HTTPConnection object at 0x7fd935fa2610>: Failed to establish a new connection: [Errno 111] Connection refused'))",
      "\nDuring handling of the above exception, another exception occurred:\n",
      "\u001b[0;31mConnectionError\u001b[0m                           Traceback (most recent call last)",
      "\u001b[0;32m~/.pyenv/versions/3.8.6/envs/lewagon/lib/python3.8/site-packages/meilisearch/_httprequests.py\u001b[0m in \u001b[0;36msend_request\u001b[0;34m(self, http_method, path, body)\u001b[0m\n\u001b[1;32m     29\u001b[0m             \u001b[0;32melse\u001b[0m\u001b[0;34m:\u001b[0m\u001b[0;34m\u001b[0m\u001b[0;34m\u001b[0m\u001b[0m\n\u001b[0;32m---> 30\u001b[0;31m                 request = http_method(\n\u001b[0m\u001b[1;32m     31\u001b[0m                     \u001b[0mrequest_path\u001b[0m\u001b[0;34m,\u001b[0m\u001b[0;34m\u001b[0m\u001b[0;34m\u001b[0m\u001b[0m\n",
      "\u001b[0;32m~/.pyenv/versions/3.8.6/envs/lewagon/lib/python3.8/site-packages/requests/api.py\u001b[0m in \u001b[0;36mpost\u001b[0;34m(url, data, json, **kwargs)\u001b[0m\n\u001b[1;32m    118\u001b[0m \u001b[0;34m\u001b[0m\u001b[0m\n\u001b[0;32m--> 119\u001b[0;31m     \u001b[0;32mreturn\u001b[0m \u001b[0mrequest\u001b[0m\u001b[0;34m(\u001b[0m\u001b[0;34m'post'\u001b[0m\u001b[0;34m,\u001b[0m \u001b[0murl\u001b[0m\u001b[0;34m,\u001b[0m \u001b[0mdata\u001b[0m\u001b[0;34m=\u001b[0m\u001b[0mdata\u001b[0m\u001b[0;34m,\u001b[0m \u001b[0mjson\u001b[0m\u001b[0;34m=\u001b[0m\u001b[0mjson\u001b[0m\u001b[0;34m,\u001b[0m \u001b[0;34m**\u001b[0m\u001b[0mkwargs\u001b[0m\u001b[0;34m)\u001b[0m\u001b[0;34m\u001b[0m\u001b[0;34m\u001b[0m\u001b[0m\n\u001b[0m\u001b[1;32m    120\u001b[0m \u001b[0;34m\u001b[0m\u001b[0m\n",
      "\u001b[0;32m~/.pyenv/versions/3.8.6/envs/lewagon/lib/python3.8/site-packages/requests/api.py\u001b[0m in \u001b[0;36mrequest\u001b[0;34m(method, url, **kwargs)\u001b[0m\n\u001b[1;32m     60\u001b[0m     \u001b[0;32mwith\u001b[0m \u001b[0msessions\u001b[0m\u001b[0;34m.\u001b[0m\u001b[0mSession\u001b[0m\u001b[0;34m(\u001b[0m\u001b[0;34m)\u001b[0m \u001b[0;32mas\u001b[0m \u001b[0msession\u001b[0m\u001b[0;34m:\u001b[0m\u001b[0;34m\u001b[0m\u001b[0;34m\u001b[0m\u001b[0m\n\u001b[0;32m---> 61\u001b[0;31m         \u001b[0;32mreturn\u001b[0m \u001b[0msession\u001b[0m\u001b[0;34m.\u001b[0m\u001b[0mrequest\u001b[0m\u001b[0;34m(\u001b[0m\u001b[0mmethod\u001b[0m\u001b[0;34m=\u001b[0m\u001b[0mmethod\u001b[0m\u001b[0;34m,\u001b[0m \u001b[0murl\u001b[0m\u001b[0;34m=\u001b[0m\u001b[0murl\u001b[0m\u001b[0;34m,\u001b[0m \u001b[0;34m**\u001b[0m\u001b[0mkwargs\u001b[0m\u001b[0;34m)\u001b[0m\u001b[0;34m\u001b[0m\u001b[0;34m\u001b[0m\u001b[0m\n\u001b[0m\u001b[1;32m     62\u001b[0m \u001b[0;34m\u001b[0m\u001b[0m\n",
      "\u001b[0;32m~/.pyenv/versions/3.8.6/envs/lewagon/lib/python3.8/site-packages/requests/sessions.py\u001b[0m in \u001b[0;36mrequest\u001b[0;34m(self, method, url, params, data, headers, cookies, files, auth, timeout, allow_redirects, proxies, hooks, stream, verify, cert, json)\u001b[0m\n\u001b[1;32m    541\u001b[0m         \u001b[0msend_kwargs\u001b[0m\u001b[0;34m.\u001b[0m\u001b[0mupdate\u001b[0m\u001b[0;34m(\u001b[0m\u001b[0msettings\u001b[0m\u001b[0;34m)\u001b[0m\u001b[0;34m\u001b[0m\u001b[0;34m\u001b[0m\u001b[0m\n\u001b[0;32m--> 542\u001b[0;31m         \u001b[0mresp\u001b[0m \u001b[0;34m=\u001b[0m \u001b[0mself\u001b[0m\u001b[0;34m.\u001b[0m\u001b[0msend\u001b[0m\u001b[0;34m(\u001b[0m\u001b[0mprep\u001b[0m\u001b[0;34m,\u001b[0m \u001b[0;34m**\u001b[0m\u001b[0msend_kwargs\u001b[0m\u001b[0;34m)\u001b[0m\u001b[0;34m\u001b[0m\u001b[0;34m\u001b[0m\u001b[0m\n\u001b[0m\u001b[1;32m    543\u001b[0m \u001b[0;34m\u001b[0m\u001b[0m\n",
      "\u001b[0;32m~/.pyenv/versions/3.8.6/envs/lewagon/lib/python3.8/site-packages/requests/sessions.py\u001b[0m in \u001b[0;36msend\u001b[0;34m(self, request, **kwargs)\u001b[0m\n\u001b[1;32m    654\u001b[0m         \u001b[0;31m# Send the request\u001b[0m\u001b[0;34m\u001b[0m\u001b[0;34m\u001b[0m\u001b[0;34m\u001b[0m\u001b[0m\n\u001b[0;32m--> 655\u001b[0;31m         \u001b[0mr\u001b[0m \u001b[0;34m=\u001b[0m \u001b[0madapter\u001b[0m\u001b[0;34m.\u001b[0m\u001b[0msend\u001b[0m\u001b[0;34m(\u001b[0m\u001b[0mrequest\u001b[0m\u001b[0;34m,\u001b[0m \u001b[0;34m**\u001b[0m\u001b[0mkwargs\u001b[0m\u001b[0;34m)\u001b[0m\u001b[0;34m\u001b[0m\u001b[0;34m\u001b[0m\u001b[0m\n\u001b[0m\u001b[1;32m    656\u001b[0m \u001b[0;34m\u001b[0m\u001b[0m\n",
      "\u001b[0;32m~/.pyenv/versions/3.8.6/envs/lewagon/lib/python3.8/site-packages/requests/adapters.py\u001b[0m in \u001b[0;36msend\u001b[0;34m(self, request, stream, timeout, verify, cert, proxies)\u001b[0m\n\u001b[1;32m    515\u001b[0m \u001b[0;34m\u001b[0m\u001b[0m\n\u001b[0;32m--> 516\u001b[0;31m             \u001b[0;32mraise\u001b[0m \u001b[0mConnectionError\u001b[0m\u001b[0;34m(\u001b[0m\u001b[0me\u001b[0m\u001b[0;34m,\u001b[0m \u001b[0mrequest\u001b[0m\u001b[0;34m=\u001b[0m\u001b[0mrequest\u001b[0m\u001b[0;34m)\u001b[0m\u001b[0;34m\u001b[0m\u001b[0;34m\u001b[0m\u001b[0m\n\u001b[0m\u001b[1;32m    517\u001b[0m \u001b[0;34m\u001b[0m\u001b[0m\n",
      "\u001b[0;31mConnectionError\u001b[0m: HTTPConnectionPool(host='127.0.0.1', port=7700): Max retries exceeded with url: /indexes/eurlex/documents (Caused by NewConnectionError('<urllib3.connection.HTTPConnection object at 0x7fd935fa2610>: Failed to establish a new connection: [Errno 111] Connection refused'))",
      "\nThe above exception was the direct cause of the following exception:\n",
      "\u001b[0;31mMeiliSearchCommunicationError\u001b[0m             Traceback (most recent call last)",
      "\u001b[0;32m<ipython-input-228-67c0ef6483b2>\u001b[0m in \u001b[0;36m<module>\u001b[0;34m\u001b[0m\n\u001b[0;32m----> 1\u001b[0;31m \u001b[0mclient\u001b[0m\u001b[0;34m.\u001b[0m\u001b[0mindex\u001b[0m\u001b[0;34m(\u001b[0m\u001b[0;34m'eurlex'\u001b[0m\u001b[0;34m)\u001b[0m\u001b[0;34m.\u001b[0m\u001b[0madd_documents\u001b[0m\u001b[0;34m(\u001b[0m\u001b[0mresults\u001b[0m\u001b[0;34m)\u001b[0m\u001b[0;34m\u001b[0m\u001b[0;34m\u001b[0m\u001b[0m\n\u001b[0m",
      "\u001b[0;32m~/.pyenv/versions/3.8.6/envs/lewagon/lib/python3.8/site-packages/meilisearch/index.py\u001b[0m in \u001b[0;36madd_documents\u001b[0;34m(self, documents, primary_key)\u001b[0m\n\u001b[1;32m    328\u001b[0m             \u001b[0mprimary_key\u001b[0m \u001b[0;34m=\u001b[0m \u001b[0murllib\u001b[0m\u001b[0;34m.\u001b[0m\u001b[0mparse\u001b[0m\u001b[0;34m.\u001b[0m\u001b[0murlencode\u001b[0m\u001b[0;34m(\u001b[0m\u001b[0;34m{\u001b[0m\u001b[0;34m'primaryKey'\u001b[0m\u001b[0;34m:\u001b[0m \u001b[0mprimary_key\u001b[0m\u001b[0;34m}\u001b[0m\u001b[0;34m)\u001b[0m\u001b[0;34m\u001b[0m\u001b[0;34m\u001b[0m\u001b[0m\n\u001b[1;32m    329\u001b[0m             \u001b[0murl\u001b[0m \u001b[0;34m=\u001b[0m \u001b[0;34mf'{self.config.paths.index}/{self.uid}/{self.config.paths.document}?{primary_key}'\u001b[0m\u001b[0;34m\u001b[0m\u001b[0;34m\u001b[0m\u001b[0m\n\u001b[0;32m--> 330\u001b[0;31m         \u001b[0;32mreturn\u001b[0m \u001b[0mself\u001b[0m\u001b[0;34m.\u001b[0m\u001b[0mhttp\u001b[0m\u001b[0;34m.\u001b[0m\u001b[0mpost\u001b[0m\u001b[0;34m(\u001b[0m\u001b[0murl\u001b[0m\u001b[0;34m,\u001b[0m \u001b[0mdocuments\u001b[0m\u001b[0;34m)\u001b[0m\u001b[0;34m\u001b[0m\u001b[0;34m\u001b[0m\u001b[0m\n\u001b[0m\u001b[1;32m    331\u001b[0m \u001b[0;34m\u001b[0m\u001b[0m\n\u001b[1;32m    332\u001b[0m     \u001b[0;32mdef\u001b[0m \u001b[0mupdate_documents\u001b[0m\u001b[0;34m(\u001b[0m\u001b[0mself\u001b[0m\u001b[0;34m,\u001b[0m \u001b[0mdocuments\u001b[0m\u001b[0;34m,\u001b[0m \u001b[0mprimary_key\u001b[0m\u001b[0;34m=\u001b[0m\u001b[0;32mNone\u001b[0m\u001b[0;34m)\u001b[0m\u001b[0;34m:\u001b[0m\u001b[0;34m\u001b[0m\u001b[0;34m\u001b[0m\u001b[0m\n",
      "\u001b[0;32m~/.pyenv/versions/3.8.6/envs/lewagon/lib/python3.8/site-packages/meilisearch/_httprequests.py\u001b[0m in \u001b[0;36mpost\u001b[0;34m(self, path, body)\u001b[0m\n\u001b[1;32m     45\u001b[0m \u001b[0;34m\u001b[0m\u001b[0m\n\u001b[1;32m     46\u001b[0m     \u001b[0;32mdef\u001b[0m \u001b[0mpost\u001b[0m\u001b[0;34m(\u001b[0m\u001b[0mself\u001b[0m\u001b[0;34m,\u001b[0m \u001b[0mpath\u001b[0m\u001b[0;34m,\u001b[0m \u001b[0mbody\u001b[0m\u001b[0;34m=\u001b[0m\u001b[0;32mNone\u001b[0m\u001b[0;34m)\u001b[0m\u001b[0;34m:\u001b[0m\u001b[0;34m\u001b[0m\u001b[0;34m\u001b[0m\u001b[0m\n\u001b[0;32m---> 47\u001b[0;31m         \u001b[0;32mreturn\u001b[0m \u001b[0mself\u001b[0m\u001b[0;34m.\u001b[0m\u001b[0msend_request\u001b[0m\u001b[0;34m(\u001b[0m\u001b[0mrequests\u001b[0m\u001b[0;34m.\u001b[0m\u001b[0mpost\u001b[0m\u001b[0;34m,\u001b[0m \u001b[0mpath\u001b[0m\u001b[0;34m,\u001b[0m \u001b[0mbody\u001b[0m\u001b[0;34m)\u001b[0m\u001b[0;34m\u001b[0m\u001b[0;34m\u001b[0m\u001b[0m\n\u001b[0m\u001b[1;32m     48\u001b[0m \u001b[0;34m\u001b[0m\u001b[0m\n\u001b[1;32m     49\u001b[0m     \u001b[0;32mdef\u001b[0m \u001b[0mput\u001b[0m\u001b[0;34m(\u001b[0m\u001b[0mself\u001b[0m\u001b[0;34m,\u001b[0m \u001b[0mpath\u001b[0m\u001b[0;34m,\u001b[0m \u001b[0mbody\u001b[0m\u001b[0;34m=\u001b[0m\u001b[0;32mNone\u001b[0m\u001b[0;34m)\u001b[0m\u001b[0;34m:\u001b[0m\u001b[0;34m\u001b[0m\u001b[0;34m\u001b[0m\u001b[0m\n",
      "\u001b[0;32m~/.pyenv/versions/3.8.6/envs/lewagon/lib/python3.8/site-packages/meilisearch/_httprequests.py\u001b[0m in \u001b[0;36msend_request\u001b[0;34m(self, http_method, path, body)\u001b[0m\n\u001b[1;32m     39\u001b[0m             \u001b[0;32mraise\u001b[0m \u001b[0mMeiliSearchTimeoutError\u001b[0m\u001b[0;34m(\u001b[0m\u001b[0merr\u001b[0m\u001b[0;34m)\u001b[0m \u001b[0;32mfrom\u001b[0m \u001b[0merr\u001b[0m\u001b[0;34m\u001b[0m\u001b[0;34m\u001b[0m\u001b[0m\n\u001b[1;32m     40\u001b[0m         \u001b[0;32mexcept\u001b[0m \u001b[0mrequests\u001b[0m\u001b[0;34m.\u001b[0m\u001b[0mexceptions\u001b[0m\u001b[0;34m.\u001b[0m\u001b[0mConnectionError\u001b[0m \u001b[0;32mas\u001b[0m \u001b[0merr\u001b[0m\u001b[0;34m:\u001b[0m\u001b[0;34m\u001b[0m\u001b[0;34m\u001b[0m\u001b[0m\n\u001b[0;32m---> 41\u001b[0;31m             \u001b[0;32mraise\u001b[0m \u001b[0mMeiliSearchCommunicationError\u001b[0m\u001b[0;34m(\u001b[0m\u001b[0merr\u001b[0m\u001b[0;34m)\u001b[0m \u001b[0;32mfrom\u001b[0m \u001b[0merr\u001b[0m\u001b[0;34m\u001b[0m\u001b[0;34m\u001b[0m\u001b[0m\n\u001b[0m\u001b[1;32m     42\u001b[0m \u001b[0;34m\u001b[0m\u001b[0m\n\u001b[1;32m     43\u001b[0m     \u001b[0;32mdef\u001b[0m \u001b[0mget\u001b[0m\u001b[0;34m(\u001b[0m\u001b[0mself\u001b[0m\u001b[0;34m,\u001b[0m \u001b[0mpath\u001b[0m\u001b[0;34m)\u001b[0m\u001b[0;34m:\u001b[0m\u001b[0;34m\u001b[0m\u001b[0;34m\u001b[0m\u001b[0m\n",
      "\u001b[0;31mMeiliSearchCommunicationError\u001b[0m: MeiliSearchCommunicationError, HTTPConnectionPool(host='127.0.0.1', port=7700): Max retries exceeded with url: /indexes/eurlex/documents (Caused by NewConnectionError('<urllib3.connection.HTTPConnection object at 0x7fd935fa2610>: Failed to establish a new connection: [Errno 111] Connection refused'))"
     ]
    }
   ],
   "source": [
    "client.index('eurlex').add_documents(results)"
   ]
  },
  {
   "cell_type": "code",
   "execution_count": 225,
   "id": "d8d36510-c23f-4b56-b65e-a68f8a6d9ce3",
   "metadata": {},
   "outputs": [
    {
     "data": {
      "text/plain": [
       "[{'id': '02013R057520230628',\n",
       "  'title': 'Consolidated text: Regulation (EU) No 575/2013 of the European Parliament and of the Council of 26 June 2013 on prudential requirements for credit institutions and amending Regulation (EU) No 648/2012 (Text with EEA relevance)Text with EEA relevance',\n",
       "  'author': 'Not available',\n",
       "  'date': '28/06/2023',\n",
       "  'link': 'https://eur-lex.europa.eu/legal-content/AUTO/?uri=CELEX:02013R0575-20230628'},\n",
       " {'id': '02009L013820210630',\n",
       "  'title': 'Consolidated text: Directive 2009/138/EC of the European Parliament and of the Council of 25 November 2009 on the taking-up and pursuit of the business of Insurance and Reinsurance (Solvency II) (recast) (Text with EEA relevance)Text with EEA relevance',\n",
       "  'author': 'Not available',\n",
       "  'date': '30/06/2021',\n",
       "  'link': 'https://eur-lex.europa.eu/legal-content/AUTO/?uri=CELEX:02009L0138-20210630'}]"
      ]
     },
     "execution_count": 225,
     "metadata": {},
     "output_type": "execute_result"
    }
   ],
   "source": [
    "client.index('eurlex').get_documents({'limit':2})"
   ]
  },
  {
   "cell_type": "code",
   "execution_count": 221,
   "id": "a793a864-2209-48c5-af33-1ffc3a128afa",
   "metadata": {},
   "outputs": [
    {
     "data": {
      "text/plain": [
       "[{'status': 'processed',\n",
       "  'updateId': 0,\n",
       "  'type': {'name': 'DocumentsAddition', 'number': 300},\n",
       "  'duration': 0.17600354,\n",
       "  'enqueuedAt': '2021-06-01T09:52:10.435180921Z',\n",
       "  'processedAt': '2021-06-01T09:52:10.616635283Z'}]"
      ]
     },
     "execution_count": 221,
     "metadata": {},
     "output_type": "execute_result"
    }
   ],
   "source": [
    "client.index('eurlex').get_all_update_status()"
   ]
  },
  {
   "cell_type": "code",
   "execution_count": 226,
   "id": "6399b974-9a3e-4fe4-b92b-978e8f66fa02",
   "metadata": {
    "scrolled": true,
    "tags": []
   },
   "outputs": [
    {
     "data": {
      "text/plain": [
       "{'hits': [{'id': '32021D0762',\n",
       "   'title': 'Commission Implementing Decision (EU) 2021/762 of 6 May 2021 concerning the extension of the action taken by the Irish Department of Agriculture, Food and the Marine permitting the making available on the market and use of biocidal products containing propan-2-ol for use as human hygiene products in accordance with Article 55(1) of Regulation (EU) No 528/2012 of the European Parliament and of the Council (notified under document C(2021) 3127) (Only the English text is authentic)',\n",
       "   'author': 'European Commission, Directorate-General for Health and Food Safety',\n",
       "   'date': '06/05/2021',\n",
       "   'link': 'https://eur-lex.europa.eu/legal-content/AUTO/?uri=CELEX:32021D0762'},\n",
       "  {'id': '32021D0735',\n",
       "   'title': 'Commission Implementing Decision (EU) 2021/735 of 4 May 2021 concerning the extension of the action taken by the Irish Department of Agriculture, Food and the Marine permitting the making available on the market and use of the biocidal product Biobor JF in accordance with Article 55(1) of Regulation (EU) No 528/2012 of the European Parliament and of the Council (notified under document C(2021) 3026) (Only the English text is authentic)',\n",
       "   'author': 'European Commission, Directorate-General for Health and Food Safety',\n",
       "   'date': '04/05/2021',\n",
       "   'link': 'https://eur-lex.europa.eu/legal-content/AUTO/?uri=CELEX:32021D0735'},\n",
       "  {'id': '62019CJ0815',\n",
       "   'title': 'Judgment of the Court (Third Chamber) of 29 April 2021.Natumi GmbH v Land Nordrhein-Westfalen.Request for a preliminary ruling from the Bundesverwaltungsgericht.Reference for a preliminary ruling – Agriculture and fisheries – Organic production and labelling of organic products – Regulation (EC) No 834/2007 – Article 19(2) – Articles 21 and 23 – Regulation (EC) No 889/2008 – Article 27(1) – Article 28 – Annex IX, point 1.3 – Processing of organic food – Non-organic ingredients of agricultural origin – Lithothamnium calcareum alga – Powder obtained by cleaning, grinding and drying the sediment of that alga – Classification – Use in organic foodstuffs for the purpose of calcium enrichment – Authorisation – Conditions.Case C-815/19.',\n",
       "   'author': 'Court of Justice',\n",
       "   'date': '29/04/2021',\n",
       "   'link': 'https://eur-lex.europa.eu/legal-content/AUTO/?uri=CELEX:62019CJ0815'},\n",
       "  {'id': '62019CJ0736',\n",
       "   'title': 'Judgment of the Court (Sixth Chamber) of 15 April 2021.ZS “Plaukti”.Request for a preliminary ruling from the Augstākā tiesa (Senāts).Reference for a preliminary ruling – Agriculture – European agricultural fund for rural development (EAFRD) – Regulation (EC) No 1698/2005 – Regulation (EU) No 65/2011 – Third subparagraph of Article 16(5) – Regulation (EC) No 73/2009 – Articles 4 and 6 – Regulation (EC) No 1122/2009 – Support for rural development – Agri-environmental payments – Aid for the maintenance of grassland biodiversity – Non-compliance with the conditions for granting those payments – Early mowing – Reduction and exclusion of those payments – Mandatory standards – Statutory management requirements – Minimum requirements for good agricultural and environmental conditions – Commitments that exceed mandatory standards, minimum requirements and other appropriate mandatory requirements established by national legislation.Case C-736/19.',\n",
       "   'author': 'Court of Justice',\n",
       "   'date': '15/04/2021',\n",
       "   'link': 'https://eur-lex.europa.eu/legal-content/AUTO/?uri=CELEX:62019CJ0736'},\n",
       "  {'id': '62019CJ0128',\n",
       "   'title': 'Judgment of the Court (Fourth Chamber) of 20 May 2021.Azienda Sanitaria Provinciale di Catania v Assessorato della Salute della Regione Siciliana.Request for a preliminary ruling from the Corte suprema di cassazione.Reference for a preliminary ruling – State aid – Agriculture sector – Slaughtering of animals affected by infectious diseases – Compensation for farmers – Notification and standstill requirements – Article 108(3) TFEU – Concepts of ‘existing aid’ and ‘new aid’ – Regulation (EC) No 659/1999 – Exemptions by categories of aid – Regulation (EU) No 702/2014 – De minimis aid – Regulation (EU) No 1408/2013.Case C-128/19.',\n",
       "   'author': 'Court of Justice',\n",
       "   'date': '20/05/2021',\n",
       "   'link': 'https://eur-lex.europa.eu/legal-content/AUTO/?uri=CELEX:62019CJ0128'},\n",
       "  {'id': '62019CJ0294',\n",
       "   'title': 'Judgment of the Court (Sixth Chamber) of 29 April 2021.Agenţia de Plăţi şi Intervenţie pentru Agricultură - Centrul Judeţean Tulcea and Ira Invest SRL v SC Piscicola Tulcea SA and Agenţia de Plăţi şi Intervenţie pentru Agricultură - Centrul Judeţean Tulcea.Requests for a preliminary ruling from the Curtea de Apel Constanţa.References for a preliminary ruling – Agriculture – Common agricultural policy (CAP) – Direct support schemes – Eligible hectare – Aquaculture facility – Land use – Actual use for agricultural purposes – Use complying with the entries in the land register.Joined Cases C-294/19 and C-304/19.',\n",
       "   'author': 'Court of Justice',\n",
       "   'date': '29/04/2021',\n",
       "   'link': 'https://eur-lex.europa.eu/legal-content/AUTO/?uri=CELEX:62019CJ0294'},\n",
       "  {'id': 'ST91072021INIT',\n",
       "   'title': \"Voting result Regulation of the European Parliament and of the Council establishing the Neighbourhood, Development and International Cooperation Instrument – Global Europe, amending and repealing Decision No 466/2014/EU of the European Parliament and of the Council and repealing Regulation (EU) 2017/1601 of the European Parliament and of the Council and Council Regulation (EC, Euratom) No 480/2009 Adoption of the Council's position at first reading and of the statement of the Council's reasons 3796th meeting of the COUNCIL OF THE EUROPEAN UNION (Agriculture and Fisheries) 26-27 May 2021, Brussels\",\n",
       "   'author': 'Council of the European Union',\n",
       "   'date': '26/05/2021',\n",
       "   'link': 'https://eur-lex.europa.eu/legal-content/AUTO/?uri=CONSIL:ST_9107_2021_INIT'},\n",
       "  {'id': '52021XC053102',\n",
       "   'title': 'Publication of an application pursuant to Article 17(6) of Regulation (EC) No 110/2008 of the European Parliament and of the Council on the definition, description, presentation, labelling and the protection of geographical indications of spirit drinks and repealing Council Regulation (EEC) No 1576/89 2021/C 205/09',\n",
       "   'author': 'European Commission, Directorate-General for Agriculture and Rural Development',\n",
       "   'date': '31/05/2021',\n",
       "   'link': 'https://eur-lex.europa.eu/legal-content/AUTO/?uri=CELEX:52021XC0531(02)'},\n",
       "  {'id': '32021R0865',\n",
       "   'title': 'Commission Implementing Regulation (EU) 2021/865 of 28 May 2021 entering a name in the register of protected designations of origin and protected geographical indications (‘Rooibos’/‘Red Bush’ (PDO))',\n",
       "   'author': 'European Commission, Directorate-General for Agriculture and Rural Development',\n",
       "   'date': '28/05/2021',\n",
       "   'link': 'https://eur-lex.europa.eu/legal-content/AUTO/?uri=CELEX:32021R0865'},\n",
       "  {'id': '32021D0873',\n",
       "   'title': 'Commission Implementing Decision (EU) 2021/873 of 28 May 2021 on the clearance of the accounts of the paying agencies of Member States concerning expenditure financed by the European Agricultural Fund for Rural Development (EAFRD) for financial year 2020 (notified under document C(2021) 3690)',\n",
       "   'author': 'European Commission, Directorate-General for Agriculture and Rural Development',\n",
       "   'date': '28/05/2021',\n",
       "   'link': 'https://eur-lex.europa.eu/legal-content/AUTO/?uri=CELEX:32021D0873'},\n",
       "  {'id': '32021D0872',\n",
       "   'title': 'Commission Implementing Decision (EU) 2021/872 of 28 May 2021 on the clearance of the accounts of the paying agencies of the United Kingdom concerning expenditure financed by the European Agricultural Fund for Rural Development (EAFRD) for financial year 2020 (notified under document C(2021) 3686) (Only the English text is authentic)',\n",
       "   'author': 'European Commission, Directorate-General for Agriculture and Rural Development',\n",
       "   'date': '28/05/2021',\n",
       "   'link': 'https://eur-lex.europa.eu/legal-content/AUTO/?uri=CELEX:32021D0872'},\n",
       "  {'id': '32021D0871',\n",
       "   'title': 'Commission Implementing Decision (EU) 2021/871 of 28 May 2021 on the clearance of the accounts of the paying agencies of the United Kingdom concerning expenditure financed by the European Agricultural Guarantee Fund (EAGF) for financial year 2020 and on the reimbursement of appropriations related to financial discipline, carried over from financial year 2020 (notified under document C(2021) 3685) (Only the English text is authentic)',\n",
       "   'author': 'European Commission, Directorate-General for Agriculture and Rural Development',\n",
       "   'date': '28/05/2021',\n",
       "   'link': 'https://eur-lex.europa.eu/legal-content/AUTO/?uri=CELEX:32021D0871'},\n",
       "  {'id': '32021D0870',\n",
       "   'title': 'Commission Implementing Decision (EU) 2021/870 of 28 May 2021 on the clearance of the accounts of the paying agencies of Member States concerning expenditure financed by the European Agricultural Guarantee Fund (EAGF) for financial year 2020 (notified under document C(2021) 3684)',\n",
       "   'author': 'European Commission, Directorate-General for Agriculture and Rural Development',\n",
       "   'date': '28/05/2021',\n",
       "   'link': 'https://eur-lex.europa.eu/legal-content/AUTO/?uri=CELEX:32021D0870'},\n",
       "  {'id': 'C20213584final',\n",
       "   'title': 'COMMISSION DELEGATED REGULATION (EU) .../... amending Regulation (EU) 2019/787 of the European Parliament and of the Council as regards allusions to legal names of spirit drinks or geographical indications for spirit drinks in the description, presentation and labelling of other spirit drinks',\n",
       "   'author': 'European Commission, Directorate-General for Agriculture and Rural Development',\n",
       "   'date': '27/05/2021',\n",
       "   'link': 'https://eur-lex.europa.eu/legal-content/AUTO/?uri=PI_COM:C(2021)3584'},\n",
       "  {'id': 'C20213586final',\n",
       "   'title': 'COMMISSION DELEGATED REGULATION (EU) .../... amending Regulation (EU) 2019/787 of the European Parliament and of the Council as regards the labelling of spirit drinks resulting from the combination of a spirit drink with one or more foodstuffs',\n",
       "   'author': 'European Commission, Directorate-General for Agriculture and Rural Development',\n",
       "   'date': '27/05/2021',\n",
       "   'link': 'https://eur-lex.europa.eu/legal-content/AUTO/?uri=PI_COM:C(2021)3586'},\n",
       "  {'id': 'C20213572final',\n",
       "   'title': 'COMMISSION DELEGATED REGULATION (EU) .../... supplementing Regulation (EU) 2018/848 of the European Parliament and of the Council with rules on the information to be sent by third countries and by control authorities and control bodies for the purpose of supervision of their recognition under Article 33(2) and (3) of Council Regulation (EC) No 834/2007 for imported organic products and the measures to be taken in the exercise of that supervision',\n",
       "   'author': 'European Commission, Directorate-General for Agriculture and Rural Development',\n",
       "   'date': '27/05/2021',\n",
       "   'link': 'https://eur-lex.europa.eu/legal-content/AUTO/?uri=PI_COM:C(2021)3572'},\n",
       "  {'id': '32021R0851',\n",
       "   'title': 'Commission Implementing Regulation (EU) 2021/851 of 26 May 2021 amending Regulation (EC) No 1484/95 as regards fixing representative prices in the poultrymeat and egg sectors and for egg albumin',\n",
       "   'author': 'European Commission, Directorate-General for Agriculture and Rural Development',\n",
       "   'date': '26/05/2021',\n",
       "   'link': 'https://eur-lex.europa.eu/legal-content/AUTO/?uri=CELEX:32021R0851'},\n",
       "  {'id': '52021PC0257',\n",
       "   'title': 'Proposal for a COUNCIL DECISION on the position to be taken on behalf of the European Union in the International Organisation for Vine and Wine (OIV)',\n",
       "   'author': 'European Commission, Directorate-General for Agriculture and Rural Development',\n",
       "   'date': '26/05/2021',\n",
       "   'link': 'https://eur-lex.europa.eu/legal-content/AUTO/?uri=CELEX:52021PC0257'},\n",
       "  {'id': '52021PC0259',\n",
       "   'title': 'Recommendation for a COUNCIL DECISION authorising the opening of negotiations on agreements on trade in organic products between the European Union and Argentina, Australia, Canada, Costa Rica, India, Israel, Japan, New Zealand, the Republic of Korea, Tunisia and the United States of America',\n",
       "   'author': 'European Commission, Directorate-General for Agriculture and Rural Development',\n",
       "   'date': '26/05/2021',\n",
       "   'link': 'https://eur-lex.europa.eu/legal-content/AUTO/?uri=CELEX:52021PC0259'},\n",
       "  {'id': '32021R0875',\n",
       "   'title': 'Commission Implementing Regulation (EU) 2021/875 of 25 May 2021 entering a name in the register of protected designations of origin and protected geographical indications (‘Sõir’ (PGI))',\n",
       "   'author': 'European Commission, Directorate-General for Agriculture and Rural Development',\n",
       "   'date': '25/05/2021',\n",
       "   'link': 'https://eur-lex.europa.eu/legal-content/AUTO/?uri=CELEX:32021R0875'}],\n",
       " 'offset': 0,\n",
       " 'limit': 20,\n",
       " 'nbHits': 85,\n",
       " 'exhaustiveNbHits': False,\n",
       " 'processingTimeMs': 1,\n",
       " 'query': 'agriculture'}"
      ]
     },
     "execution_count": 226,
     "metadata": {},
     "output_type": "execute_result"
    }
   ],
   "source": [
    "client.index('eurlex').search('agriculture')"
   ]
  },
  {
   "cell_type": "code",
   "execution_count": 232,
   "id": "7b348331-89b6-4705-b939-64c6631bc272",
   "metadata": {},
   "outputs": [
    {
     "data": {
      "text/plain": [
       "{'uid': '20210601-102040441', 'status': 'in_progress'}"
      ]
     },
     "execution_count": 232,
     "metadata": {},
     "output_type": "execute_result"
    }
   ],
   "source": [
    "client.create_dump()"
   ]
  },
  {
   "cell_type": "code",
   "execution_count": 193,
   "id": "2536e3cc-6277-4922-a1fc-08254c868a19",
   "metadata": {},
   "outputs": [
    {
     "data": {
      "text/plain": [
       "{'uid': '20210601-092338997', 'status': 'done'}"
      ]
     },
     "execution_count": 193,
     "metadata": {},
     "output_type": "execute_result"
    }
   ],
   "source": [
    "client.get_dump_status('20210601-092338997')"
   ]
  },
  {
   "cell_type": "code",
   "execution_count": null,
   "id": "b4052fe3-b172-435f-9712-29ff505bab3e",
   "metadata": {},
   "outputs": [],
   "source": []
  }
 ],
 "metadata": {
  "kernelspec": {
   "display_name": "Python 3",
   "language": "python",
   "name": "python3"
  },
  "language_info": {
   "codemirror_mode": {
    "name": "ipython",
    "version": 3
   },
   "file_extension": ".py",
   "mimetype": "text/x-python",
   "name": "python",
   "nbconvert_exporter": "python",
   "pygments_lexer": "ipython3",
   "version": "3.8.6"
  }
 },
 "nbformat": 4,
 "nbformat_minor": 5
}
